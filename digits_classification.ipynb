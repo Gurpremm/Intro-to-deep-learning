{
  "nbformat": 4,
  "nbformat_minor": 0,
  "metadata": {
    "colab": {
      "name": "Copy of digits_classification.ipynb",
      "version": "0.3.2",
      "provenance": [],
      "include_colab_link": true
    },
    "kernelspec": {
      "display_name": "Python 3",
      "language": "python",
      "name": "python3"
    }
  },
  "cells": [
    {
      "cell_type": "markdown",
      "metadata": {
        "id": "view-in-github",
        "colab_type": "text"
      },
      "source": [
        "<a href=\"https://colab.research.google.com/github/Gurpremm/Intro-to-deep-learning/blob/master/digits_classification.ipynb\" target=\"_parent\"><img src=\"https://colab.research.google.com/assets/colab-badge.svg\" alt=\"Open In Colab\"/></a>"
      ]
    },
    {
      "metadata": {
        "id": "oQ1EzPVe9Ao3",
        "colab_type": "text"
      },
      "cell_type": "markdown",
      "source": [
        "# MNIST digits classification with TensorFlow"
      ]
    },
    {
      "metadata": {
        "id": "_GowVjAa9H0N",
        "colab_type": "code",
        "outputId": "284cb632-9e18-401e-99ed-96008a1c97f6",
        "colab": {
          "base_uri": "https://localhost:8080/",
          "height": 306
        }
      },
      "cell_type": "code",
      "source": [
        "! shred -u setup_google_colab.py\n",
        "! wget https://raw.githubusercontent.com/hse-aml/intro-to-dl/master/setup_google_colab.py -O setup_google_colab.py\n",
        "import setup_google_colab\n",
        "# please, uncomment the week you're working on\n",
        "# setup_google_colab.setup_week1()\n",
        "setup_google_colab.setup_week2()\n",
        "# setup_google_colab.setup_week3()\n",
        "# setup_google_colab.setup_week4()\n",
        "# setup_google_colab.setup_week5()\n",
        "# setup_google_colab.setup_week6()\n",
        "\n",
        "# If you're using the old version of the course (check a path of notebook on Coursera, you'll see v1 or v2),\n",
        "# use setup_week2_old()."
      ],
      "execution_count": 0,
      "outputs": [
        {
          "output_type": "stream",
          "text": [
            "--2019-01-05 07:40:33--  https://raw.githubusercontent.com/hse-aml/intro-to-dl/master/setup_google_colab.py\n",
            "Resolving raw.githubusercontent.com (raw.githubusercontent.com)... 151.101.0.133, 151.101.64.133, 151.101.128.133, ...\n",
            "Connecting to raw.githubusercontent.com (raw.githubusercontent.com)|151.101.0.133|:443... connected.\n",
            "HTTP request sent, awaiting response... 200 OK\n",
            "Length: 3792 (3.7K) [text/plain]\n",
            "Saving to: ‘setup_google_colab.py’\n",
            "\n",
            "\rsetup_google_colab.   0%[                    ]       0  --.-KB/s               \rsetup_google_colab. 100%[===================>]   3.70K  --.-KB/s    in 0s      \n",
            "\n",
            "2019-01-05 07:40:33 (39.1 MB/s) - ‘setup_google_colab.py’ saved [3792/3792]\n",
            "\n",
            "**************************************************\n",
            "inception_v3_weights_tf_dim_ordering_tf_kernels_notop.h5\n",
            "**************************************************\n",
            "cifar-10-batches-py.tar.gz\n",
            "**************************************************\n",
            "mnist.npz\n"
          ],
          "name": "stdout"
        }
      ]
    },
    {
      "metadata": {
        "id": "tQ52kySO9Ao-",
        "colab_type": "text"
      },
      "cell_type": "markdown",
      "source": [
        "<img src=\"https://github.com/hse-aml/intro-to-dl/blob/master/week2/v2/images/mnist_sample.png?raw=1\" style=\"width:30%\">"
      ]
    },
    {
      "metadata": {
        "id": "e8zDBVwr9ApB",
        "colab_type": "code",
        "outputId": "1098dc5a-07a0-48f2-f4ef-e505d72f4bab",
        "colab": {
          "base_uri": "https://localhost:8080/",
          "height": 51
        }
      },
      "cell_type": "code",
      "source": [
        "import numpy as np\n",
        "from sklearn.metrics import accuracy_score\n",
        "from matplotlib import pyplot as plt\n",
        "%matplotlib inline\n",
        "import tensorflow as tf\n",
        "print(\"We're using TF\", tf.__version__)\n",
        "\n",
        "import sys\n",
        "sys.path.append(\"../..\")\n",
        "import grading\n",
        "\n",
        "import matplotlib_utils\n",
        "from importlib import reload\n",
        "reload(matplotlib_utils)\n",
        "\n",
        "import grading_utils\n",
        "reload(grading_utils)\n",
        "\n",
        "import keras_utils\n",
        "from keras_utils import reset_tf_session"
      ],
      "execution_count": 0,
      "outputs": [
        {
          "output_type": "stream",
          "text": [
            "We're using TF 1.12.0\n"
          ],
          "name": "stdout"
        },
        {
          "output_type": "stream",
          "text": [
            "Using TensorFlow backend.\n"
          ],
          "name": "stderr"
        }
      ]
    },
    {
      "metadata": {
        "id": "EgC1Y8qw9ApK",
        "colab_type": "text"
      },
      "cell_type": "markdown",
      "source": [
        "# Fill in your Coursera token and email\n",
        "To successfully submit your answers to our grader, please fill in your Coursera submission token and email"
      ]
    },
    {
      "metadata": {
        "id": "ms4nVhlh9ApM",
        "colab_type": "code",
        "colab": {}
      },
      "cell_type": "code",
      "source": [
        "grader = grading.Grader(assignment_key=\"XtD7ho3TEeiHQBLWejjYAA\", \n",
        "                        all_parts=[\"9XaAS\", \"vmogZ\", \"RMv95\", \"i8bgs\", \"rE763\"])"
      ],
      "execution_count": 0,
      "outputs": []
    },
    {
      "metadata": {
        "id": "XwL8hwpv9ApT",
        "colab_type": "code",
        "colab": {}
      },
      "cell_type": "code",
      "source": [
        "# token expires every 30 min\n",
        "COURSERA_TOKEN = \"GGfXi4UwA5y396AH\"\n",
        "COURSERA_EMAIL = \"gurpremsingh94@gmail.com\""
      ],
      "execution_count": 0,
      "outputs": []
    },
    {
      "metadata": {
        "id": "CrP0REsf9ApX",
        "colab_type": "text"
      },
      "cell_type": "markdown",
      "source": [
        "# Look at the data\n",
        "\n",
        "In this task we have 50000 28x28 images of digits from 0 to 9.\n",
        "We will train a classifier on this data."
      ]
    },
    {
      "metadata": {
        "id": "uaecj_1w9ApY",
        "colab_type": "code",
        "colab": {}
      },
      "cell_type": "code",
      "source": [
        "import preprocessed_mnist\n",
        "X_train, y_train, X_val, y_val, X_test, y_test = preprocessed_mnist.load_dataset()"
      ],
      "execution_count": 0,
      "outputs": []
    },
    {
      "metadata": {
        "id": "L0LxZkLO9Apc",
        "colab_type": "code",
        "outputId": "ea5c724f-4da5-48ce-86f4-23ae242ef0c9",
        "colab": {
          "base_uri": "https://localhost:8080/",
          "height": 683
        }
      },
      "cell_type": "code",
      "source": [
        "# X contains rgb values divided by 255\n",
        "print(\"X_train [shape %s] sample patch:\\n\" % (str(X_train.shape)), X_train[1, 15:20, 5:10])\n",
        "print(\"A closeup of a sample patch:\")\n",
        "plt.imshow(X_train[1, 15:20, 5:10], cmap=\"Greys\")\n",
        "plt.show()\n",
        "print(\"And the whole sample:\")\n",
        "plt.imshow(X_train[1], cmap=\"Greys\")\n",
        "plt.show()\n",
        "print(\"y_train [shape %s] 10 samples:\\n\" % (str(y_train.shape)), y_train[:10])"
      ],
      "execution_count": 0,
      "outputs": [
        {
          "output_type": "stream",
          "text": [
            "X_train [shape (50000, 28, 28)] sample patch:\n",
            " [[0.         0.29803922 0.96470588 0.98823529 0.43921569]\n",
            " [0.         0.33333333 0.98823529 0.90196078 0.09803922]\n",
            " [0.         0.33333333 0.98823529 0.8745098  0.        ]\n",
            " [0.         0.33333333 0.98823529 0.56862745 0.        ]\n",
            " [0.         0.3372549  0.99215686 0.88235294 0.        ]]\n",
            "A closeup of a sample patch:\n"
          ],
          "name": "stdout"
        },
        {
          "output_type": "display_data",
          "data": {
            "image/png": "[encoded data removed]",
            "text/plain": [
              "<matplotlib.figure.Figure at 0x7fb726ff1e10>"
            ]
          },
          "metadata": {
            "tags": []
          }
        },
        {
          "output_type": "stream",
          "text": [
            "And the whole sample:\n"
          ],
          "name": "stdout"
        },
        {
          "output_type": "display_data",
          "data": {
            "image/png": "[encoded data removed]",
            "text/plain": [
              "<matplotlib.figure.Figure at 0x7fb72701d908>"
            ]
          },
          "metadata": {
            "tags": []
          }
        },
        {
          "output_type": "stream",
          "text": [
            "y_train [shape (50000,)] 10 samples:\n",
            " [5 0 4 1 9 2 1 3 1 4]\n"
          ],
          "name": "stdout"
        }
      ]
    },
    {
      "metadata": {
        "id": "DWsdSN829Apj",
        "colab_type": "text"
      },
      "cell_type": "markdown",
      "source": [
        "# Linear model\n",
        "\n",
        "Your task is to train a linear classifier $\\vec{x} \\rightarrow y$ with SGD using TensorFlow.\n",
        "\n",
        "You will need to calculate a logit (a linear transformation) $z_k$ for each class: \n",
        "$$z_k = \\vec{x} \\cdot \\vec{w_k} + b_k \\quad k = 0..9$$\n",
        "\n",
        "And transform logits $z_k$ to valid probabilities $p_k$ with softmax: \n",
        "$$p_k = \\frac{e^{z_k}}{\\sum_{i=0}^{9}{e^{z_i}}} \\quad k = 0..9$$\n",
        "\n",
        "We will use a cross-entropy loss to train our multi-class classifier:\n",
        "$$\\text{cross-entropy}(y, p) = -\\sum_{k=0}^{9}{\\log(p_k)[y = k]}$$ \n",
        "\n",
        "where \n",
        "$$\n",
        "[x]=\\begin{cases}\n",
        "       1, \\quad \\text{if $x$ is true} \\\\\n",
        "       0, \\quad \\text{otherwise}\n",
        "    \\end{cases}\n",
        "$$\n",
        "\n",
        "Cross-entropy minimization pushes $p_k$ close to 1 when $y = k$, which is what we want.\n",
        "\n",
        "Here's the plan:\n",
        "* Flatten the images (28x28 -> 784) with `X_train.reshape((X_train.shape[0], -1))` to simplify our linear model implementation\n",
        "* Use a matrix placeholder for flattened `X_train`\n",
        "* Convert `y_train` to one-hot encoded vectors that are needed for cross-entropy\n",
        "* Use a shared variable `W` for all weights (a column $\\vec{w_k}$ per class) and `b` for all biases.\n",
        "* Aim for ~0.93 validation accuracy"
      ]
    },
    {
      "metadata": {
        "id": "eswl8bGw9Apl",
        "colab_type": "code",
        "outputId": "95532bc8-e522-45ff-ee4a-3a6e0f86e286",
        "colab": {
          "base_uri": "https://localhost:8080/",
          "height": 51
        }
      },
      "cell_type": "code",
      "source": [
        "X_train_flat = X_train.reshape((X_train.shape[0], -1))\n",
        "print(X_train_flat.shape)\n",
        "\n",
        "X_val_flat = X_val.reshape((X_val.shape[0], -1))\n",
        "print(X_val_flat.shape)"
      ],
      "execution_count": 0,
      "outputs": [
        {
          "output_type": "stream",
          "text": [
            "(50000, 784)\n",
            "(10000, 784)\n"
          ],
          "name": "stdout"
        }
      ]
    },
    {
      "metadata": {
        "id": "Hqyp-9Cm9Apq",
        "colab_type": "code",
        "outputId": "2504e004-7491-433b-9022-b62dce51a3f6",
        "colab": {
          "base_uri": "https://localhost:8080/",
          "height": 85
        }
      },
      "cell_type": "code",
      "source": [
        "import keras\n",
        "\n",
        "y_train_oh = keras.utils.to_categorical(y_train, 10)\n",
        "y_val_oh = keras.utils.to_categorical(y_val, 10)\n",
        "\n",
        "print(y_train_oh.shape)\n",
        "print(y_train_oh[:3], y_train[:3])"
      ],
      "execution_count": 0,
      "outputs": [
        {
          "output_type": "stream",
          "text": [
            "(50000, 10)\n",
            "[[0. 0. 0. 0. 0. 1. 0. 0. 0. 0.]\n",
            " [1. 0. 0. 0. 0. 0. 0. 0. 0. 0.]\n",
            " [0. 0. 0. 0. 1. 0. 0. 0. 0. 0.]] [5 0 4]\n"
          ],
          "name": "stdout"
        }
      ]
    },
    {
      "metadata": {
        "id": "RcXS5qiu9Apu",
        "colab_type": "code",
        "colab": {}
      },
      "cell_type": "code",
      "source": [
        "# run this again if you remake your graph\n",
        "s = reset_tf_session()"
      ],
      "execution_count": 0,
      "outputs": []
    },
    {
      "metadata": {
        "id": "egrNpjZS9Apx",
        "colab_type": "code",
        "outputId": "9f3652f8-e717-43b6-e453-b61648509fee",
        "colab": {
          "base_uri": "https://localhost:8080/",
          "height": 51
        }
      },
      "cell_type": "code",
      "source": [
        "# Model parameters: W and b\n",
        "#W = ### YOUR CODE HERE ### tf.get_variable(...) with shape[0] = 784\n",
        "W=tf.Variable(initial_value=np.random.randn(X_train_flat.shape[1], 10)*0.01, name=\"weights\", dtype=\"float32\")\n",
        "print(W.shape)\n",
        "#b = ### YOUR CODE HERE ### tf.get_variable(...)\n",
        "#b = tf.get_variable(name=\"b\",shape=(), dtype=\"float32\",aggregation=tf.VariableAggregation.NONE)\n",
        "#b=tf.Variable(np.ones(10), name=\"b\", dtype=\"float32\")\n",
        "b = tf.get_variable(\"b\",shape=(10,), dtype=tf.float32)\n",
        "\n",
        "print(b.shape)\n",
        "#W = tf.Variable(tf.random_normal(shape=(X_train.shape[0],1), stddev=0.01, dtype=tf.float32))\n",
        "#b = tf.Variable(0.0, dtype=tf.float32)"
      ],
      "execution_count": 0,
      "outputs": [
        {
          "output_type": "stream",
          "text": [
            "(784, 10)\n",
            "(10,)\n"
          ],
          "name": "stdout"
        }
      ]
    },
    {
      "metadata": {
        "id": "ohE-1AsF9Ap3",
        "colab_type": "code",
        "colab": {}
      },
      "cell_type": "code",
      "source": [
        "# Placeholders for the input data\n",
        "#input_X = ### YOUR CODE HERE ### tf.placeholder(...) for flat X with shape[0] = None for any batch size\n",
        "#input_y = ### YOUR CODE HERE ### tf.placeholder(...) for one-hot encoded true labels\n",
        "\n",
        "input_X = tf.placeholder(tf.float32, name=\"input_X\",shape=(None,784))\n",
        "input_y = tf.placeholder(tf.float32, name=\"input_y\",shape=(None,10))"
      ],
      "execution_count": 0,
      "outputs": []
    },
    {
      "metadata": {
        "id": "9tCBQK5g9Ap7",
        "colab_type": "code",
        "outputId": "e0445af8-0b7a-41c3-969a-240dd5c660f5",
        "colab": {
          "base_uri": "https://localhost:8080/",
          "height": 51
        }
      },
      "cell_type": "code",
      "source": [
        "# Compute predictions\n",
        "#logits = ### YOUR CODE HERE ### logits for input_X, resulting shape should be [input_X.shape[0], 10]\n",
        "#probas = ### YOUR CODE HERE ### apply tf.nn.softmax to logits\n",
        "#classes = ### YOUR CODE HERE ### apply tf.argmax to find a class index with highest probability\n",
        "\n",
        "#hidden1=tf.layers.dense(input_X,256,activation=tf.nn.sigmoid)\n",
        "#hidden1=tf.layers.dense(hidden1,256,activation=tf.nn.sigmoid)\n",
        "logits=(tf.matmul(input_X, W)+ b)\n",
        "#logits = tf.dense(hidden2,10)\n",
        "print(logits.shape, input_X.shape, W.shape,input_y.shape)\n",
        "probas = tf.nn.softmax(logits)\n",
        "classes = tf.argmax(probas,axis=1)\n",
        "print(classes.shape)\n",
        "#predicted_y = tf.squeeze(tf.sigmoid(tf.matmul(input_X, W) + b))\n",
        "# Loss should be a scalar number: average loss over all the objects with tf.reduce_mean().\n",
        "# Use tf.nn.softmax_cross_entropy_with_logits on top of one-hot encoded input_y and logits.\n",
        "# It is identical to calculating cross-entropy on top of probas, but is more numerically friendly (read the docs).\n",
        "#loss = ### YOUR CODE HERE ### cross-entropy loss\n",
        "loss = tf.reduce_mean(tf.nn.softmax_cross_entropy_with_logits_v2(labels=input_y,logits=logits))\n",
        "\n",
        "# Use a default tf.train.AdamOptimizer to get an SGD step\n",
        "#step = ### YOUR CODE HERE ### optimizer step that minimizes the loss\n",
        "step = tf.train.AdamOptimizer(0.01).minimize(loss)"
      ],
      "execution_count": 0,
      "outputs": [
        {
          "output_type": "stream",
          "text": [
            "(?, 10) (?, ?) (784, 10) (?, 10)\n",
            "(?,)\n"
          ],
          "name": "stdout"
        }
      ]
    },
    {
      "metadata": {
        "scrolled": false,
        "id": "w4c9XDNi9Ap-",
        "colab_type": "code",
        "outputId": "94a00c83-0d21-457d-e79d-d3bd5c8cc439",
        "colab": {
          "base_uri": "https://localhost:8080/",
          "height": 309
        }
      },
      "cell_type": "code",
      "source": [
        "s.run(tf.global_variables_initializer())\n",
        "\n",
        "BATCH_SIZE = 512\n",
        "EPOCHS = 40\n",
        "\n",
        "# for logging the progress right here in Jupyter (for those who don't have TensorBoard)\n",
        "simpleTrainingCurves = matplotlib_utils.SimpleTrainingCurves(\"cross-entropy\", \"accuracy\")\n",
        "\n",
        "for epoch in range(EPOCHS):  # we finish an epoch when we've looked at all training samples\n",
        "    \n",
        "    batch_losses = []\n",
        "    for batch_start in range(0, X_train_flat.shape[0], BATCH_SIZE):  # data is already shuffled\n",
        "        _, batch_loss = s.run([step, loss], {input_X: X_train_flat[batch_start:batch_start+BATCH_SIZE], \n",
        "                                             input_y: y_train_oh[batch_start:batch_start+BATCH_SIZE]})\n",
        "        # collect batch losses, this is almost free as we need a forward pass for backprop anyway\n",
        "        batch_losses.append(batch_loss)\n",
        "\n",
        "    train_loss = np.mean(batch_losses)\n",
        "    val_loss = s.run(loss, {input_X: X_val_flat, input_y: y_val_oh})  # this part is usually small\n",
        "    train_accuracy = accuracy_score(y_train, s.run(classes, {input_X: X_train_flat}))  # this is slow and usually skipped\n",
        "    valid_accuracy = accuracy_score(y_val, s.run(classes, {input_X: X_val_flat}))  \n",
        "    simpleTrainingCurves.add(train_loss, val_loss, train_accuracy, valid_accuracy)"
      ],
      "execution_count": 0,
      "outputs": [
        {
          "output_type": "display_data",
          "data": {
            "text/html": [
              "<img src=\"data:image/jpeg;base64,/9j/4AAQSkZJRgABAQEASABIAAD/2wBDAAIBAQEBAQIBAQECAgICAgQDAgICAgUEBAMEBgUGBgYFBgYGBwkIBgcJBwYGCAsICQoKCgoKBggLDAsKDAkKCgr/2wBDAQICAgICAgUDAwUKBwYHCgoKCgoKCgoKCgoKCgoKCgoKCgoKCgoKCgoKCgoKCgoKCgoKCgoKCgoKCgoKCgoKCgr/wAARCAEgA2ADASIAAhEBAxEB/8QAHwAAAQUBAQEBAQEAAAAAAAAAAAECAwQFBgcICQoL/8QAtRAAAgEDAwIEAwUFBAQAAAF9AQIDAAQRBRIhMUEGE1FhByJxFDKBkaEII0KxwRVS0fAkM2JyggkKFhcYGRolJicoKSo0NTY3ODk6Q0RFRkdISUpTVFVWV1hZWmNkZWZnaGlqc3R1dnd4eXqDhIWGh4iJipKTlJWWl5iZmqKjpKWmp6ipqrKztLW2t7i5usLDxMXGx8jJytLT1NXW19jZ2uHi4%2BTl5ufo6erx8vP09fb3%2BPn6/8QAHwEAAwEBAQEBAQEBAQAAAAAAAAECAwQFBgcICQoL/8QAtREAAgECBAQDBAcFBAQAAQJ3AAECAxEEBSExBhJBUQdhcRMiMoEIFEKRobHBCSMzUvAVYnLRChYkNOEl8RcYGRomJygpKjU2Nzg5OkNERUZHSElKU1RVVldYWVpjZGVmZ2hpanN0dXZ3eHl6goOEhYaHiImKkpOUlZaXmJmaoqOkpaanqKmqsrO0tba3uLm6wsPExcbHyMnK0tPU1dbX2Nna4uPk5ebn6Onq8vP09fb3%2BPn6/9oADAMBAAIRAxEAPwD9/KKKKACiiigAooooAKKKKACiiigAooooAKKKKACiiigAooooAKKKKACiiigAooooAKKKKACiiigAooooAKKKKACiiigAooooAKKKKACiiigAooooAKKKKACiiigAooooAKKKKACiiigAooooAKKKKACiiigAooooAKKKKACiiigAooooAKKKKACiiigAooooAKKKKACiiigAooooAKKKKACiiigAooooAKKKKACiiigAooooAKKKKACiiigAooooAKKKKACiiigAooooAKKKKACiiigAooooAKKKKACiiigAooooAKKKKACiiigAooooAKKKKACiiigAooooAKKKKACiiigAooooAKKKKACiiigDxPxd/wAFFP2PvAmoXmn%2BK/ipc2gs9UbTReHwpqj2l5eLfw6fJb2lwlsYb2SO7nigkW3eQxOxD7drY2j%2B2f8As6R%2BObL4c3XjHUbfVLy6sLNlu/Cmpw29le3sUctpY3dw9sIbG8lSWIraXDxzkzRjy8uoPiVz%2Bxn%2B1bH4C8N/s66Zqfw9HgXwn8W9N8V22tXOo3r6rqtnb%2BLrXWxbyQC1EVrLHAlxFvEswuJFiJ%2Bzqzbeh8cfsffGzXfGPi3wPoup%2BFv%2BEA8c/F7QfHuq61dalcrrOnvp8mlTyWEVqtu0Mwll0mLbcNcRmJLhh5TmNSwB6Fa/t1fsv3cGr3w8f30Nno2n3N7LqV54U1OC0vYLedLeZ7G4ktli1HbNJHHi1aYlpEAB3rns/hT8ZfAXxp0m91fwJc6njTdQNlqVnrfh690q8tJxGkuyW1voYZ48xyxupZAGVwQSDmvmbTf2IPj5a6t4mtbTwl8ONN8MazoOp22reBV8Za1feHfFN5cXcEsdw2mTwCPQGCJcEvZyTnzLkMRL5Q3egfs4/sm%2BOvDGmXP/AAu3xl4hhgsfFa6n4L8M6H8ZPEOpQaLbC3tla2mvpmtZtTheeGSUQXUbxRLKY1BQnIB0kX7eP7Kk0fiC6HxNlW18N6Jqur32oy%2BHdQS0urLTSRfzWVw1uItSFuRiQWjTFSQCMkZ5vx3/AMFL/wBmXwh4Vl8TaPd%2BJtceDxF4b0yXTdP8Dav9qeLW78WdnfwxNaB7m1crO0c8IeOZoTFEzyvGjeKaH/wSx%2BI%2BjfBrXPgl5eiXX9m/DfxR4c8C%2BK9W%2BK/ia/LzajZT2VtI%2Bkz5sdLUQzFZjALjJGY0j4A7z4//ALEPxs8d%2BOH%2BIfw%2B1Pwo9zp/hz4cxaTp2r6nc20dzfeG/FE2szxSyRW0phhlidIklVJGDliYsAbgD1V/25/2ZFtteu4/G%2BpzJ4b8Sf8ACPakLbwfqsrPq/nPCdOt1S1JvLsOhJggEkgQrIV2MrGpqn/BQX9lDSbTRp5PH%2Bq3U%2Bv2Wq3WmaXpfgnWLy/ZNMuIrfUFks4LR7iGW3lmRZIpI1kT5iVwjleFtv2OvjToXha08QaFfeFZvFegftCaz8R9G0y61O5j0%2B%2Bgvl1C3NnPcrbNJDILbUZSJFhlCyxJ8rCvMNI%2BEf7S3wX/AG5vCGqeD9N8Dav478U%2BA/iX4l1jSNT128tdItftmt%2BFwlvBdpZyzN5Srb5kNuvnFZfli8wbQD6jsf2yP2adU8Gaz8QtK%2BKVvd6PoNxpMGoXtpY3MoLapDaTaeYVWMtcrcJfWvlvCHVmkKZ3I6r6bXwN8Nv2Q7XwR%2B1Z8Ff2dvBXxLsNdsPh58M9Ff432dmnD3ugLu8PPKqki2klutRnuUjf52i06PGVQGvvmgAooooAKKKKACiiigAooooAKKKKACiiigAooooAKKKKACiiigAooooAKKKKACiiigAooooAKKKKACiiigAooooAKKKKACiiigArzb4q/tdfs/fBPxlH4D%2BJPje4stR%2By2l1efZ9Bvru3023urh7a2nvbi3geGwilmjkRJLl41YxvgnY2PSa%2BQ/28f2Kv2o/2pNZ8Z6N4R%2BIWn/8I5rvhC0s/DFtqHxB1rSoNGvoXnkm8/TtPi8jU47ljApluZG8hVJWCXbscA9gh/br/ZUku9btpviqtrFoGn6hfXeoahot7bWVzb2EywXslndSwrDqAhldI3%2ByvKVd1U8sAdDwJ%2B2B%2Bz78R/EmneC/DXjC%2Bj1vVNTutPt9D1fwzqOnX0Vzb2kd5LHPb3dvHLbH7NLHMvnKgkSRShbIrwzQ/wBjX9rW8/ZXP7IXiDWvh5pWgaLpEn9ga1ZX99qF3qF9FqUN9YC5R7e3W2hjMRinKNO1xuDqIOYz1/jH4S/tp%2BNfiB4H%2BPWqaH8ME1/wZ4l1CS08HQeJtQWzGmXel/ZHLambAyTXAnHnAfY408s%2BVnK%2BawB2uh/t0/steJddsPDmh/EuW4utR0KfWotnh7UBFDpsM9zbzXk8pg8u1gSa0njaSZkUMEBP72Le3w9%2B3Z%2By74m8J6741sviFe21l4dsdPvdSj1fwrqdhctbX8jRWM0Ftc20c13Hcyq0UDQJIJpAUjLN8teO/s%2BfsI/tK/Bjw3q7xfFHwvY%2BKLj4J3fhXR/EWlxzSrY61Jq2rX0V6IZYgDAn263baWJ3RuuCAGbkrH/gnN%2B1HceNNR%2BImoa74div59G8Iz2dvrXxT1/xIw1jw7r39rQrLc6hbB/st3vlR/JSJbU7WjgmJY0AfUHw9/bC/Z2%2BJ%2Buy%2BF/Cnj%2BRdTttLvdQvdN1fRL3Tbizgs5Yorrz47uGJoHia4ty8UgWRVnicrskRj2nw98e%2BFvip4C0T4m%2BBr%2BS70XxFpNvqWkXU1nLbtNazxrLE5imVJIyUZTtdVYZwQDxXxx%2B3H8PfjP8Ybb4c/D3xh4x8IaH8UvFXjTUNFj8PeD724unh8D6lZNaa0vnSpDLMYoUS7N2YYIxPDbRBdxQyfbOnadYaRp8Gk6XZx29rawrDbW8KBUijUAKqgcAAAAD2oAmooooAKKKKACiiigAooooAKKKKACiiigAooooAKKKKACiiigAooooAKKKKACiiigAooooAKKKKACiiigAooooAKKKKACiiigAooooAKzPFWs3eh6el3aJGzNMEIkUkYwT2I9K068t%2BMfxYfQvjP4P%2BCbaUjR%2BJfDut6v9uMpDRPp82mxCILjBDrqLsTnjyQMHdwueEJR59m0vm9EdOGwmIxspRoq7jGU3/hhHmk/ktbbvodB/wsPWv%2BfW1/74b/4qj/hYetf8%2Btr/AN8N/wDFVg0V3ezh2OO7N7/hYetf8%2Btr/wB8N/8AFUf8LD1r/n1tf%2B%2BG/wDiqwaKPZw7BdnSP471hdPiuxb2255pEI2NjChCP4v9o1D/AMLD1r/n1tf%2B%2BG/%2BKrLm/wCQLb/9fU3/AKDFVWkqcOwXZvf8LD1r/n1tf%2B%2BG/wDiqP8AhYetf8%2Btr/3w3/xVYNFP2cOwXZvf8LD1r/n1tf8Avhv/AIqprrx3rEEFvKtvbEzQl2yjcHey/wB7/ZFc3VrUP%2BPSx/69T/6NkpOnC%2BwXZqf8LD1r/n1tf%2B%2BG/wDiqP8AhYetf8%2Btr/3w3/xVYNFP2cOwXZvf8LD1r/n1tf8Avhv/AIqj/hYetf8APra/98N/8VWDRR7OHYLs6S%2B8d6xazrElvbEGGN%2BUbqyKx/i96h/4WHrX/Pra/wDfDf8AxVZesf8AH2n/AF6wf%2BikqrSVOFtguze/4WHrX/Pra/8AfDf/ABVH/Cw9a/59bX/vhv8A4quG8ffEv4c/CnQh4o%2BKPj/RPDWmGdYBqOv6rDZwGVgSqeZMyruIU4GcnB9K4v8A4bd/Yv8A%2Bju/hf8A%2BF9p3/x6sKtfA0ZctScYvs5RT%2B5yT/A9XB5Fn%2BY0fbYTCVqsL25oUqs43W65oUpq66q911SPbf8AhYetf8%2Btr/3w3/xVTaj471iz1Ce0jt7YrFMyKSjZIBI/vV4Z/wANu/sX/wDR3fwv/wDC%2B07/AOPV3vhn4nfDX4tw3fi34U/ELQ/E%2BlHUJYhqfh7Vob23MgOSnmQsy7gGUkZzyPWlTr4GtPlpzjJ9lKLf3KTYYzIs/wAuoe2xeErUoXS5p0qsI3ey5p0oK76K930TOw/4WHrX/Pra/wDfDf8AxVH/AAsPWv8An1tf%2B%2BG/%2BKrwjxh%2B2d8G/h98Vtc%2BFHjX%2B3rO60SHSB9rg8LahdRXtzqBuPItYPs8D%2BdKRBwqZLM5UAsjgWde/a5%2BDml6he6Dba9LHqVjfwW7Q6zompWUNyH1O302R7aZrRlu1S4uIoy0O9A8kYd41fzB0clPseVdnt3/AAsPWv8An1tf%2B%2BG/%2BKqbTvHesXmoQWklvbBZZlRiEbIBIH96vFPh9%2B1n8CfinqL6V4C8TalqE62wuYlXwtqUYuYftQtXlgaS3UXCRzsElaIsIScyFBzWZ8cv2rr/AOBPiq9XSPhzFrtj4P8ACTeL/HN1LrZtJLDSI5nXdbRiCT7VOy2924iZoVxb48wFwKThTtsF2e8f8LD1r/n1tf8Avhv/AIqj/hYetf8APra/98N/8VXi/wC0t8bfHfwJ8FXnxB8M/Cyz1/SNF0HUNY8RahqHiZNOitLe1RH8mP8AczPNcyhn8tCqRfun3zRkoH4/x/8AtneI/h18QL7wfqnwVF8I/DOp65pmk6P4lS58QT2lnZtcCebTVhxbQTyxtbRSGdmMzxIUUuQjcKa6Bdn0x/wsPWv%2BfW1/74b/AOKo/wCFh61/z62v/fDf/FV8n/D79vTxB8Wmg8M/Cv4b%2BEvEuv3mtT2lhdaF8Rjc%2BH7q3g0%2BG8nmTU0sdzPGZ4YGiFucSSqCwAYrd%2BGH7fugfGbx7onhr4e%2BFNLlstR0fT7y9h1Pxhb2utRyXemLqPlW2nMhN4IYZrbzWWVCpnO1X2NS5aXYNT6psfHesXU7RPb2wAhkfhG6qjMP4vaof%2BFh61/z62v/AHw3/wAVXx34D/4KiaLr/hO88SSeC/C8N06aVBYbfiGp0%2B0udRjvGkstUvGtF/s27s4bOaa5g8uZo1MYBZnArptI/bU1rWPi/wCHvhI3hr4fadPrHhXRtZefVvisiG7%2B33d/b%2BTpaxWUi6ltWxMqsHi3ieMFYyTgUaV9g1Pp7/hYetf8%2Btr/AN8N/wDFUf8ACw9a/wCfW1/74b/4qvm74HftdeJ/jdYeKL7w94E8I3lzoNxf29t4b0H4jJd6y0sF9LaR/a7aW1hSySXyWk3GV8DgB6zfFf7cHiTw9%2Byz4J/ajg%2BEmkDT/FPgy21290/VPHCWjx3E9tDNDpNj/ozvqF9MZHSGMRxLIYsFkLKpfLS7BqfUf/Cw9a/59bX/AL4b/wCKqa28d6xPBcStb2wMMIdcI3J3qv8Ae/2jXzrrn7UnjHQPjmPgxN8HrW8uL3TL6%2B0fTtM8YW8utTQW9uZEubixMax2lrNMpto5nuf9a8YZU3Nsqzftpaz4K%2BHnxIvfiJ8KLWHxX4Oe0sLTw14f8Sm/h1a%2BubeG7gtY7l7aEpIqMXmzERDCpmJZOaTjTtsGp9Hf8LD1r/n1tf8Avhv/AIqj/hYetf8APra/98N/8VXz3N%2B0d8W5dX%2BHb6P8G/D13pfxCW0e1K%2BN511G0iey%2B13Uptjp/lMkKhlDGdQ7NEvyNKAOO1H/AIKAa54csvEsXi74X%2BGNPvPDeoaLaaneL8Rkm0fRptQluI2t9V1BbTbYXFuYE86NUnVTdW2HIlDB8tPsGp9a/wDCw9a/59bX/vhv/iq2fCXiK9177R9siiXytm3ylIznd1yT6V4x8A/iwvxy%2BEWi/FWPQxp6avDI8cEV39ohdUleMTQTbU863lCCWKXavmRSI%2B1d2B6x8Nv%2BX3/tn/7NU1IQULpDTdzqKKKK5SgooooAKKKKACuZ8QeMtU0nV5tPt4Ldkj27S6NnlQeze9dNXB%2BM/wDkZbn/AIB/6Ata0oqUtRPYtf8ACw9a/wCfW1/74b/4qj/hYetf8%2Btr/wB8N/8AFVg0V0ezh2Juze/4WHrX/Pra/wDfDf8AxVH/AAsPWv8An1tf%2B%2BG/%2BKrBoo9nDsF2dJqPjvWLPUJ7SO3tisUzIpKNkgEj%2B9UP/Cw9a/59bX/vhv8A4qsvXP8AkNXn/X1J/wChGqtJU4W2C7N7/hYetf8APra/98N/8VR/wsPWv%2BfW1/74b/4qsGin7OHYLs6TTvHesXmoQWklvbBZZlRiEbIBIH96of8AhYetf8%2Btr/3w3/xVZeh/8hqz/wCvqP8A9CFVaXs4X2C7N7/hYetf8%2Btr/wB8N/8AFUf8LD1r/n1tf%2B%2BG/wDiqwaKfs4dguze/wCFh61/z62v/fDf/FVNY%2BO9Yup2ie3tgBDI/CN1VGYfxe1c3VrR/wDj7f8A69Z//RT0nThbYLs1P%2BFh61/z62v/AHw3/wAVR/wsPWv%2BfW1/74b/AOKrBop%2Bzh2C7N7/AIWHrX/Pra/98N/8VR/wsPWv%2BfW1/wC%2BG/8AiqwaKPZw7BdnSW3jvWJ4LiVre2BhhDrhG5O9V/vf7RqH/hYetf8APra/98N/8VWXp/8Ax6X3/XqP/RsdVaSpwvsF2b3/AAsPWv8An1tf%2B%2BG/%2BKo/4WHrX/Pra/8AfDf/ABVYNFP2cOwXZvf8LD1r/n1tf%2B%2BG/wDiqmTx3rDafLdm3ttyTRoBsbGGDk/xf7Irm6tQ/wDIFuP%2BvqH/ANBlpOnDsF2an/Cw9a/59bX/AL4b/wCKo/4WHrX/AD62v/fDf/FVg0U/Zw7Bdm9/wsPWv%2BfW1/74b/4qj/hYetf8%2Btr/AN8N/wDFVg1HdXdrY273l9cxwxRrmSWVwqqPUk8Cj2dNdBrmk7I6h/HesLp8V2Le23PNIhGxsYUIR/F/tGof%2BFh61/z62v8A3w3/AMVXkfjD9sf9krwNpkdn4u/aa8BWFxFczGS1uPFtmJgNsf8Ayz8zd2PbtXCP/wAFPv2Aku2sj%2B1J4Z3qcFhLIU/Bwm0/nXBPMMppO1StBPznH/5I%2BmwnBXGuPp%2B0w2WYmce8cPWa%2B/2VvubPpf8A4WHrX/Pra/8AfDf/ABVH/Cw9a/59bX/vhv8A4qvnaP8A4KPfsIyoJF/as8FgH%2B9rCKfyPNVdV/4KafsD6NF515%2B1P4VcY6Wl205/KJWNS8zyZK7r0/8AwOP/AMkbR4B49nPljlOKb/7B6/8A8qPpP/hYetf8%2Btr/AN8N/wDFVNdeO9Yggt5Vt7YmaEu2Ubg72X%2B9/sivj%2B7/AOCwv/BP1ZzZ6H8Zb3WbhesGkeEdTmb8D9nCn86kvP8Agq98H9Vt7VPBP7O3xu8SFLcqP7E%2BGdw%2B/wDeOfl8x0z1rB55kN9K8H6Pm/8ASVI9NeFXiXa88prwX/TyCpL76s6R9bf8LD1r/n1tf%2B%2BG/wDiqP8AhYetf8%2Btr/3w3/xVfII/4KMfEXUPm0D/AIJx/HqRW%2B4dR8LRWh/ENKcUH9tb9szXfk8B/wDBL/xjOx%2B7/wAJB400/Sxn3Mgaj%2B2cpfwuT9KdV/8AuNB/xDDjOP8AFp0qf%2BPF4OCXrfFux9ff8LD1r/n1tf8Avhv/AIqum8P6jPq2kQ6hcKivJu3BAQOGI7/SvhsfHL/gqfqXzWX7C3gvTQ3RdR%2BJsUxX2JiTB/CvrX9mfVPizrPwR0TUvjl4X0rRfFMouf7U0zRL5rm1hxcyiPZIwBbMQjY%2BjMR2rSnjqGJly06c49byhKK%2B%2BXXyPIzrhPHZDhVXr4jDzu%2BXlpYmjWmtG7uNNu0dLOV7Xsup3dFFFbnzIUUUUAFFFFABRRRQAUUUUAFFFFABRRRQAUUUUAFFFFABRRRQAUUUUAFfMv7Veq/2f%2B3r8BLTdj7d4S8cQY9cDRZf/adfTVfIX7cupPp3/BRf9lSPkJdweO7d27ZOmWbgfiY64Mxn7OjCX/Tyl%2BNSK/U%2B04Dw/wBazmvT/wCoTGv/AMBwlWX/ALae20UUV758OFFFFAFqb/kC2/8A19Tf%2BgxVVq1N/wAgW3/6%2Bpv/AEGKqtJAFFFFMAq1qH/HpY/9ep/9GyVVq1qH/HpY/wDXqf8A0bJSe6Aq0UUUwCiiigC1rH/H2n/XrB/6KSqtWtY/4%2B0/69YP/RSVVpLYDE8ffDT4c/FbQh4X%2BKPgDRPEumCdZxp2v6VDeQCVQQr%2BXMrLuAY4OMjJ9a4v/hiL9i//AKNE%2BF//AIQOnf8Axmtn4%2B/tF/Bv9l/wIvxL%2BOfjH%2Bw9Ea%2Bjs1vf7PuLnM7hiibLeOR%2BQjc4xxyeleK/8Pmv%2BCa//RyH/ln6z/8AIdeTjcVkFGvy4ydJTsvj5L26fEm7djSPG9fh9fVIZpLDr4uRYidJa9eWNWC1tvy623dj1H/hiL9i/wD6NE%2BF/wD4QOnf/Ga73wz8Mfhr8JIbvwl8Kfh7ofhjShqEso0zw9pMNlbiQnBfy4VVdxCqCcZ4HpXzj/w%2Ba/4Jr/8ARyH/AJZ%2Bs/8AyHXuPwX/AGkvgt%2B1T4Yu/in8BfGf9vaC2rT2ov8A%2Bzrm1/eptZl2XEcb8B1OduOevWlgsVkNbEcuDnSc7P4OS9uvwpO3cJcb1%2BIF9UnmksQvi5HiJ1Vp15ZVZrS%2B/LpfdXOK8c/sqan4x/aAT4yw/Ea3tbA32g3txor6E0sz3GmNfbCtx9oVVSRL0gqYmKtGGDEHaPMo/wDgmRfR%2BPYfHS/GLRVuBdznULyPwEF1DVYH8QadrSG8u/tm%2B4uEfTlgErDYI5DthQg7vavE/wC094C8J%2BMr74f6no2strFn4h0rSobGC2iZ737fC00d1CPMG6BI4bwyMdrj7BcbUfam/wAe1n/gpv4I8RadZX/ww0/yvsmuz2/imDUHsdSlt7P/AIRzW9Vhlh/s/UHhMpl0rYYZJkcASKyxl0kHqvk6kanonwt/ZU1b4T6n4R1nQ/iRbXFx4V8J6loWLrQWKXSXmp2d7JLhbgFGVLVolGWG6UOchDG9r45fsoXvx38VXjaV8Rk0Kx8YeE28IeObWTRvtT6hpEkzsVt5BNH9lnC3F2glZZVAuCfLJVTXMP8AttXviD4leB/Bfw8%2BGWsX2m654tvdF1XXrqzt47e8lttAvtRkt7L/AEzfHOs9vDETOoiIEyq7bfMXvvih8Sfihp3xG8BfCv4RPomm694suLy5fUPFGmy3tvZW9pCjupgt7iEySNLNAmRKFVS7fNgAj5eVhrcx/jn8B/i38Xdf8NX%2Bn/Fbwxa6X4d1O4v38Paz4Jub6zv7gPGbGWZY9SgLta7ZGUMWjaV0l2I8Me3nvjB%2Bxn41%2BPjXWgfFP49G58PFNZfS7ew8NCDUbKXUtJutNlj%2B1m4dJLWNL24eOAwhtwh3ySCL5t/TvjZ4%2B%2BI/7LXhD4%2B%2BC9S8J%2BEhrmgWet%2BJNS8YCa5stCsns2uJ2CRyQfaCkgWP5poVCM0pY7BG/k3h/wDbs%2BOGoeNPBWheIvBek6Q2t2vhT%2B0tIm8N37l21ad4ppH1DzRBpDxqvmRWd4jT3B2xIS8g2j5Q1O2h/Y8%2BJ1r43k%2BN9l8cNDtviC%2BobxqVv4FddJFmdPSyNubH7eZC58uKXzftGd0Ma7di7DQ0X/gnfoXhW30nwb4W%2BIptvCdrNoN5q1rJoobVry%2B0mxisreaO/WZRArxW9v5ieS5JWTayCVhXn%2Bl/8FK/G6%2BGYLfWJ/Cc/iXxBpujz2WlaXod9M/hO8vNSisrnTNSgjneW8u7UToxii8iSZ0KCOLzI3Ot8Qf%2BCgHjL4eeFrXxdqni/wACmw03wtf6xf3Muhahbt4nms9Rnt7jTLCGeZJbC9hhg3TQzC4aGSYKQUieQq8A1Ou8FfsB%2BIdJbStWvPi/o9x4g8I6Lolj4Kvk8EeXZ2kOjx3wha7tReE3Urx31wjOkkCplWiSMg5n/wCGJfFieBbT4Vx/GbTf%2BEeuporjxRA/gpPtU9wNYn1aVrGdbhTYo007Isci3IhRI/LKuGd%2B2%2BH/AMVfjbrHx3%2BKXwtu/Dvhdj4b8J2Gp%2BC4Yru4Qzm8XVYlW9nKttDNYxsfKh/diVl/elQx8luP2v8A46N8Kvhd40vrrQNHPifStYufGGuW3w31fXbSyezeNU8u2s7tZYI2BkYvJI4URnJHJo924anoml/s6fFfTviMPihL8Y/D9xqWj6Jq2l%2BEN3gIwpbQ6hfWt1M18sF4gvXX7JEimL7KuS7srsw28xpn7Gvxt0/9mjQv2aW/aT0V9N07wFL4O1Un4esbe/01raG3SdYH1BjFeokcmJTI8J847rc7Qal0f9qr4j6x8QrXVdJm8Lal4FufiBD4Ot2s7OYXl3PJpK3i6lHcfaGiELXDCEQeUx8s%2Bb5xP7usi8/a4%2BOmkfCCy17xRp3hqy8QXPxd1PwlfzaJ4b1LW4rO3thesj2%2Bn28qXmpS5to42EWwhXkuTGkcToH7oanX6/8AsvfFnVfE%2Bn6tZ/tERra%2BFrnUb/wIb/woLm%2B0u%2BudLuLCP7RcfaVW8tIhdSyiDyo3dliDTHy8mn4Y/YK0nVvg5N8Nfix4xh1G60q1u5tC8QeEv7Y0K7W9u18m6vbx49Vke/nl8xi7SOAd7jGG4898I/t%2B/F3xH4o8D2d5ofh23g1%2B08KtfWdto15cxTnVZ5IppG1OOf7LpTxqheK0uleWdwIY2Z5FI73wP%2B21rOreJ/ihd3nhK1n8MaX4X8PX3wzisSwv/E0mo6lqFjEMsxjCXFxp6G3YADyZVldtrERpuNg1Ot%2BHH7M0Pw91bwjexeO727h8H/DeXwpp6TiSSfM0lq813500sjbm%2BxwAI27btGGIGK4m6/Ys%2BJ%2BueJrT4m%2BLv2hNP1Pxhoq6NHoWqv4JMdrKmnNelX1C2W8zeTSfbpiXjkt1R1R440wQ3GaJ%2B3t8Vryy8H6X4qvfBmg6q/h06x40vpvDmq3emlTq82npFFLA5OnREW07NeXO%2BNCYgU%2Bc467QP2yfFWka7beN/io2g2vgPXLvxVb6Qlhp1wNRsDo11JCjTSGZ1ujcxwTOI44o2jcxxDzS26neLDU9e%2BBPwpHwW%2BGdp4BfXf7TnS%2Bv7%2B9vVtBbxyXN5ez3k3lQhm8mIS3DiOPc2yMIu5sZPq/w2/5ff%2B2f/s1eEfsn/F34l/GbwDq/iD4s%2BFNP0PWLDxbqOnNpOnuzi0hil/dRSuXYSTKjBZHTCM6sVAUgV7v8Nv8Al9/7Z/8As1TUt7MFudRRRRXIWFFFFABRRRQAVwfjP/kZbn/gH/oC13lcH4z/AORluf8AgH/oC1tQ%2BMmWxl0UUV1EhRRRQBa1z/kNXn/X1J/6Eaq1a1z/AJDV5/19Sf8AoRqrSWyAKKKKYFrQ/wDkNWf/AF9R/wDoQqrVrQ/%2BQ1Z/9fUf/oQqrS6gFFFVtX1nR/D%2Bnyavr2q21jaQjMt1eTrFGg6csxAH40NpK7KhCdSSjFXb2S1b9Ert/cWataP/AMfb/wDXrP8A%2BinryPxV%2B2/%2Bxz4JLJ4m/ai8BW8ifet18U2sko/7Zo5b9K4e6/4K9f8ABO7w3fNBP%2B0XbXcrQyokWl6DqF2WYxsAAYrdh1PrXnV83ymgrVMRBes4/wDyTPrMBwBx5miUsJlOJqLvHD1mvvdOK/G3mfRVFfL/APw9x/ZUvf8AkV9C%2BIet5%2B7/AGV8P759303otB/4KhaHqHyeEv2Jv2h9ZZvuPZ/DJljP1Z5hge%2BKx/t/JXtXT9OaX/pMGen/AMQp8Ro/xMsqQ/xulT/9OV6Z9QUV8uS/tsftjeL0Nl8J/wDgmn4yW4m%2BWC78aeIbPSoYif45FYsxA67QcnoKh/4Zp/4KDfH/APfftH/teW3gLSJv9b4U%2BDdiYJtp7HUbjMytjghQykk4pf2zCrphaM6j/wALhH5yqKK%2B5S9Cl4eV8CufO8ww2Dh2daOIqv8Aw0cLKvJv/FOmvPqfQPxD/aK%2BAnwQs7kfGH4zeGPDLz2gNvBretwW8s37xD8kbsGfgE/KD0rxPxF/wVu/YX0y7/sbwp8Ub7xdqzHFvo3hDw5e3s859EIiEZ/77FdR8G/%2BCan7Fvwpiv8AVbb4IaZ4h1eSASXOveNFOr3k0vmxgyb7reEYjjKKvU%2Bpr17QPC/hnwrZ/wBn%2BF/DtjptuOkFhaJCn/fKAChRz%2BtduVOn5WlUa%2BbcI3%2BVhOp4V5e%2BWNPGYxrq50cLCT8oxhiKqj6yUrdnt81R/tuftkeOD/anwV/4Ji%2BMb3SQMifxv4vsfDt047Yt5w7e/Wnt%2B1t/wUNlH2O2/wCCWV6l23Cmb4vaV5K%2B5cR9vTvX1BRT/s7HvV4yd/KNJL5LkdvvYnxhwvB8tPh3Dcq25quNlL/t6SxEFLz9yHoj5f8A%2BFi/8FcvEp83Rf2dPhB4aU9IvEXi67vHX6m0AB/Cp08M/wDBY3xLpc0Gq/Ez4B%2BGrdriPfPoOjareTIdsmMLcnYeM5z7V9M1ah/5Atx/19Q/%2Bgy0nlDl8eJrP/t%2B3/pMF%2BYf6/wpf7vk2Ah2/wBmdRr51cRO/wA4s%2BVF/ZD/AG%2BNf/0rxp/wU71WKRv%2BXbw98N9OtI4x6BtxZvqeaX/hgD476odnij/gpV8X5kP3hpM1rYt%2BDIhxX1BRT/sLL38XO/WpVf8A7eg/4idxbH%2BE6FPtyYPBxt6f7NL82fL/APw618G6h8/i79sH9oDXWP3/AO0/idIVPthIlwPan23/AASG/YpurlLnxz4a8T%2BLDGd0a%2BJfGuoTqG9dqyoD%2BORX07RT/sDJetCL9by/9KlIT8VfEdK1PNKtP/r24Uvu9lRpNfJo8u8L/sE/sUeB9Etj4c/ZV8BJItxKBcXXhm3uZsBY8fvJkZ%2B57966pPgl8GI7RbCP4R%2BGFgUfLCugWwQfQbMV2M3/ACBbf/r6m/8AQYqq120sFgqMbU6UUvKMV%2BUT5nF8ScR5hU9pisdWqS7yrVZP8ar/AAscXJ%2Bzd%2BztM5km%2BAngt2PVm8LWhJ/8h1Z0r4D/AAO0Kb7RonwZ8KWcmfv2vh22jP5qgrq6KtYXCp3VOP8A4DH/AORMJZ3nc4cssVVa7OrVa%2B51LfgRWllZ6fALawtIoI1%2B7HDGFUfgKv6h/wAelj/16n/0bJVWrWof8elj/wBep/8ARslbbWPNbcm23dlWiiimIK7zwZ/yLVt/wP8A9DauDrvPBn/ItW3/AAP/ANDasa/wDjualFFFcpYUUUUAFFFFABRRRQAUUUUAFFFFABRRRQAUUUUAFFFFABRRRQB5b46/ay8C%2BAfil/wrLUPCfiG7itr7R7HXPEtjb2507R7vVbj7PYW9wXnWZnllMS/uYpVjE8TSFFbNWPil%2B1T8M/hN8XfDXwS1221S81zxPZX13AumWqSRWMNtaXN0GuWZ18rzktLlYRgmRoJOgjdl4D4z/svfGHxd8TPEVx4IufDT%2BF/GXiHwrr2uS6pqlxBfWl1ol1BP9nhjjtpEliuVs7SIyNJG0G6Vwkx2rUHxB/Yf8beJvj9oHx68O/G/Vrd28Vy6z4q8Oaoun3VgoOgXWmR29s39nrcvCDMitG08Y8uW5kQpM4agD1X9n3433Xx/8B2XxHj%2BD/inwppmq6baaho7eKJtNZ763uIhKjotjeXOzClciTYcsMA4OPnX/gpEn9m/tc/sreKunk%2BOtZsN3/Xzp4XH47K9M/Y8/Zm8WfAnxP4h8Rar4D8C%2BCtO1Xw/o2m23g74c3txNppubI3fnam3nW1vsnnW4hiKhHbZZx75pTt2edf8FXWbR/FX7Nfi5QoNv%2B0Ro9iGZQR/pMNwuMHg52V5ec6YBy7Spv7qlM/QPDD3uMqVL/n5SxUP/A8Hi1%2Bh7dRVr%2B2Lv/nja/8AgDF/8TR/bF3/AM8bX/wBi/8Aia%2Bj1Pzsq0Va/ti7/wCeNr/4Axf/ABNH9sXf/PG1/wDAGL/4mjUAm/5Atv8A9fU3/oMVVa05dVuhpEEnlW2Tcyg/6HFjhY%2B23Hf/ADiq39sXf/PG1/8AAGL/AOJpK4FWirX9sXf/ADxtf/AGL/4mj%2B2Lv/nja/8AgDF/8TT1Aq1a1D/j0sf%2BvU/%2BjZKP7Yu/%2BeNr/wCAMX/xNWb7VbpbazYRW3zWxJzZxH/lq44%2BXjp2pO90BmUVa/ti7/542v8A4Axf/E0f2xd/88bX/wAAYv8A4mnqBVoq1/bF3/zxtf8AwBi/%2BJo/ti7/AOeNr/4Axf8AxNGoBrH/AB9p/wBesH/opKq1p6rqt1HcqqxW3/HtCfms4j1iU91qt/bF3/zxtf8AwBi/%2BJpK9gKtFWv7Yu/%2BeNr/AOAMX/xNH9sXf/PG1/8AAGL/AOJp6gVata5/yGrz/r6k/wDQjR/bF3/zxtf/AABi/wDias6xqt1Hq91GsVsQty4G6ziJ%2B8epK5NLW4HkPxK/ZT%2BF3xX%2BKtv8W/FkmptfQeGbrRJLK2u1jtp4po7iJZnAXf58UV5fRxOrqFW%2BnyGLKV4OT/gm78ML%2B5ju/EPxe8eanImkQ6c32q605FaKHS9V0uEhYrJFjKWusXIAQKpZInZWbeZPpH%2B2Lv8A542v/gDF/wDE0f2xd/8APG1/8AYv/iaLX6DPDtG/Yk8E%2BHfGuk%2BMNA%2BKHjG0i0HXLvWdG0WO5sWs7XULnTJ9OnuQr2hkdmS4kl2u7IJTkKFZkbuvHvwPsvitqvhm9Xx/4h8O634fv2fS/E3h57VbyITRGCZCLiCWFldWyQYjhkRl2sikdv8A2xd/88bX/wAAYv8A4mrOj6rdSavaxtFbANcoDts4gfvDuFyKTWj0A8T8ZfsieE/E/wAL/DXwb0X4ieJvD3h3wlc6XJomm6SunzRxx6fAYreCRby0nWeMOIp8Shm86CJgw24LLz9kDw1q/iuLxX4h%2BKvi/UDLqOkajr9hPJp8dvrt/pc6T2N1ciK0RkeOSKAlbdoY3FvGHRhu3ezf2xd/88bX/wAAYv8A4mj%2B2Lv/AJ42v/gDF/8AE07eQHir/sbeEr1dQu/EXxU8a6xqsy2KaJr2rahazXmgR2d4by2W1f7MFfbPhme5Wd5gipM0qjbTLj9i7wfdeF7fwVP8VvG7aTPc3s/ivTzqVr5Pil7u9N7cG9T7NtXfK0in7KLf93I0X%2Br2qPbf7Yu/%2BeNr/wCAMX/xNH9sXf8Azxtf/AGL/wCJot5Bc8x8N/s26lpvxk8WfGHT/wBoXxxDqHivw/8A2dPaLb6KbaxhgW8e28gNpxfdCbufaZXk3bh5nmYFc54Y/Y4fwf8AC7TvhX4f/ac%2BJlva6Z9sigvornSVme1uQvmWzouniB1Dgukpi8%2BMu4SVVYqfetK1W6kuWVorb/j2mPFnEOkTHstVv7Yu/wDnja/%2BAMX/AMTStrsB4r4a/Yq%2BFvgvxRp%2Bs%2BD/ABB4g07StJu4b/S/CkFzbtp1tqMOljS4r1RJC0xkW1VVCNKYS6iUxGT56paD%2BxNpug6f5a/tC%2BP7nUbfxnceKdH1u4XRhc6XqVxHdxXTxLHpywuk0V7OjRzRyqoKlAjKGr3f%2B2Lv/nja/wDgDF/8TR/bF3/zxtf/AABi/wDiadvIDwXRf2B/hF4fNjp%2BleKvE6aNFc6Reaz4eku7aS012%2B02dbi1vLsvbmbzRMkUjiGSKOQxKGQrlTr%2BHP8Agn9%2BxrpPivxJ4ztv2bfA5XWPDmnadPozeDtO%2BwRLaXc8qTRwiD5ZXN2Q7EncsEAAGzJ9j/ti7/542v8A4Axf/E1ZsdVumtrxjFbfLbAjFnEP%2BWqDn5eevek1psB852v/AATt%2BA%2BieBoPht4LvtY8O6JJpt1pmv6foS2UEevadcXT3Mlndj7McJuklQPD5UoSV18zmt2z/Yq%2BDLeJ7rVvFkV34m0aWfVJ7DwZ4lgtLvSNOl1G7W8vZIoWgDuZJ13jznlEW5liEanbXs39sXf/ADxtf/AGL/4mj%2B2Lv/nja/8AgDF/8TTt5Bc89%2BBn7Onwk/Zx0rWdE%2BEXhKy0e013XrjVry2sbC3t0WaXHyKsMaARoAFQEEqOMmvYPht/y%2B/9s/8A2asH%2B2Lv/nja/wDgDF/8TXR%2BALyW7%2B1%2BakQ2%2BXjyoET%2B912gZqKl/ZsFudHRRRXIWFeKaT%2B1xqepfGm28ESfDOGPwnqPjy98GaX4pGvFrmbWLTT5r2YPZ%2BQFjtv9FuoFl89nMsSjygrh69rrwtv2QPFNp8WofGuifFuxi8Pad48u/GmjeHLvwu8slvrF1YS2U5kuVu0822K3N3MsQjR1mmVjKyRiMgFDw/8Att%2BKPFHjC78LaD8FrO6bUbzxTp/gSBPGMaXmr3%2Bg3/2G6iuoZIFWxR5A8iSLJOfKTLqjskTYnhb/AIKCeMfiJYx6T8Lfgv4e8S%2BIGl16eJtJ%2BIRk0PUdO0iPTzc3dhqQsSbs%2BfqltahDBGvnx3CmQLDvba1T9h/X9S%2BMevfGy0%2BLOjaTrtxbaiPDOtaD8PrS01K1nuniKS6hcrIRqgt44vs8SmOE%2BRLIJGkkYSrRf9hr4n2/ifVvjBof7Qmk6f8AEHxBeav/AGzrNt4Ff%2BzRZ6jYaTZyw21i1%2BXhlX%2BxNPmWZ7iXMqylkZJAiAHvHw48eaD8U/h5oPxO8KvI2l%2BI9FtdU01pk2ube4hWWMsMnB2uMiud8Z/8jLc/8A/9AWuj%2BHPgTQPhb8PdB%2BGXhSORNL8OaNa6XpqSvuZbe3iWKME9ztQZNYni3VdUtvEFxDb6lcRouzaiTMAPkXsDW1G/MKWxh0Va/tzWv%2Bgxdf8AgQ3%2BNH9ua1/0GLr/AMCG/wAa6dSCrRVr%2B3Na/wCgxdf%2BBDf40f25rX/QYuv/AAIb/GjUA1z/AJDV5/19Sf8AoRqrWnrGsavFq91FFqtyqrcuFVZ2AA3HjrVb%2B3Na/wCgxdf%2BBDf40leyAq0Va/tzWv8AoMXX/gQ3%2BNef/tE/tefDD9lnwcvjP4x/EWexS4k8rTNOt5XmvdSm4Ait4FO6VskDjhcgsQOazrV6WGpOrVkoxW7bskduXZbmGb46ngsDSlVrVHaMIRcpSfZJa%2Bb2SSbbSTa9A0P/AJDVn/19R/8AoQrmviF8Svh98JvDFx40%2BJvjXTNA0m2XM2oatepBEOM4BYjLHHCjJPQA18%2B6f8e/%2BCmf7VmoQWPwF%2BF8XwY8M3cyqni/4msbrV3Rjw8OmKSsbDIO2fKkfxVe8Ef8E0PhFP4ng%2BJf7T3jPxF8aPF0PKar8Qb9ri0tj1K29lnyYo8gEIwcDsRXlf2li8W7YKi2v553hH1Sa55fKMV5n3P%2Bp2RZF73EuYxhNf8AMPhuXEV/Sc1L6tRfR81WrJfyXVjm5P2v/wBpj9sC%2BbQP2BfhymkeFfNMd18YvHtg8Vm6g8nT7NgHuT1w7jaCCrKvDVp6J/wS8%2BH3jPVIfF37Yfxe8W/GXWo23pH4j1F7XSrZ%2B5gsLdgkY5PylmX2r6mtNR1CwtY7GxvpoYIYwkMMUpVI1AwFAHAAHAAqT%2B3Na/6DF1/4EN/jTjk0K758dL20uz0gvSmny/OXO%2B7FV8RMZlkXh%2BGKMcvpWtzQtLEzXV1MVKPtbvrGj7CmtlFrV%2BTeFf2J/wBj7wSFPhj9l/wFayJ92f8A4RW1eX/v46Fv1r0rwX4V8L%2BGJXt/DXhuw06P7JOPLsbNIVx5T9kAq/8A25rX/QYuv/Ahv8as6VrGryXLLJqtywFtMcNOx5ETEHr616NPC4fDxtSpxj6JL8kj47HZ3nWayvjcVVqv%2B/UqT/8AS6kjMoq1/bmtf9Bi6/8AAhv8aP7c1r/oMXX/AIEN/jXRqeWVaKtf25rX/QYuv/Ahv8aP7c1r/oMXX/gQ3%2BNGoBp//Hpff9eo/wDRsdVa07HWNXe2vGfVbklbYFSZ24PmoMjn0J/Oq39ua1/0GLr/AMCG/wAaSvdgVaKtf25rX/QYuv8AwIb/ABo/tzWv%2Bgxdf%2BBDf409QKtWof8AkC3H/X1D/wCgy0f25rX/AEGLr/wIb/GrMWsaudInlOq3O4XMQDee2QCsmR19h%2BVJ3AzKKtf25rX/AEGLr/wIb/Gj%2B3Na/wCgxdf%2BBDf409QKtFWv7c1r/oMXX/gQ3%2BNH9ua1/wBBi6/8CG/xo1AJv%2BQLb/8AX1N/6DFVWtOXWNXGkQSjVbncbmUFvPbJAWPA6%2B5/Oq39ua1/0GLr/wACG/xpK4FWirX9ua1/0GLr/wACG/xo/tzWv%2Bgxdf8AgQ3%2BNPUCrVrUP%2BPSx/69T/6Nko/tzWv%2Bgxdf%2BBDf41ZvtY1dLazZNVuQWtiWInbk%2Ba4yefQD8qTvdAZlFWv7c1r/AKDF1/4EN/jR/bmtf9Bi6/8AAhv8aeoFWu88Gf8AItW3/A//AENq43%2B3Na/6DF1/4EN/jXa%2BEp57nw/bzXEzyO2/c7sST87dzWNa/KVHc0aKKK5igooooAKKKKACiiigAooooAKKKKACiiigAooooAKKKKACiiigAooooAK%2BQf8Agst/oXwZ%2BFXibp/Yv7QHhe%2B3f3dsk6Z/8fr6%2Br5B/wCC4P8Aof7Cdx4mHH9ieONAvt393bfxpn/x%2BvKzzTKK77Rv9zjL/wBtP0Dwq18SMqh/PWUP/BkKtP8A9yHt1FFFfSn52FFFFAFqb/kC2/8A19Tf%2BgxVVq1N/wAgW3/6%2Bpv/AEGKqtJAFFFFMAq1qH/HpY/9ep/9GyVVq1qH/HpY/wDXqf8A0bJSe6Aq0UUUwCiiigC1rH/H2n/XrB/6KSqtWtY/4%2B0/69YP/RSVVpLYAooopgFWtc/5DV5/19Sf%2BhGqtWtc/wCQ1ef9fUn/AKEaXUCrRRRTAKtaH/yGrP8A6%2Bo//QhVWrWh/wDIas/%2BvqP/ANCFJ7MCrRRRTAKKKKALWj/8fb/9es//AKKeqtWtH/4%2B3/69Z/8A0U9VaXUAooopgFWtP/49L7/r1H/o2OqtWtP/AOPS%2B/69R/6NjpPYCrRRRTAK6j4bf8vv/bP/ANmrl66j4bf8vv8A2z/9mrOr/DY1udRRRRXGWFFFFABRRRQAVwfjP/kZbn/gH/oC13lcH4z/AORluf8AgH/oC1tQ%2BMmWxl0UUV1EhRRRQBa1z/kNXn/X1J/6Eaq1a1z/AJDV5/19Sf8AoRr59/aY/bu8F/BjxInwW%2BFfhq7%2BIfxT1CMjS/A3h3EjwEjiW9lHy2kIyCSx3bSDgLlhy4nGYbBUPa15WWnq30SSu230STbPYyPIM44lzBYPLaLqTs29lGMV8U5zk1CnCK1lOcoxit3snL%2B2P%2B1tqXwNXR/hF8GfDcXin4seNJDB4P8ADBYlIl5D313ggx20YDEkkbipAICuy0P2cf2E9N8A%2BNP%2BGhP2jPGcvxI%2BK90gMniXVIh9l0gHnyNOt8bbeNckBgAxySNgYrU/7Gf7J/iP4U3WrfH79oLWofEPxe8agSeJdYX5otMg4KabZ/3IIwFBx98qDyFXHvdedhsHUx1VYvGx21hTe0F0cls6j3b15PhjqpSf2Wc8QYPhjAzyDhyqmmnHE4qOksRJ/FTpyspwwkbcsYrkeIadWreMqdKNrQ/%2BQ1Z/9fUf/oQqrVrQ/wDkNWf/AF9R/wDoQqrXtdT81CiiimAVa0f/AI%2B3/wCvWf8A9FPVWrWj/wDH2/8A16z/APop6T2Aq0UjMqqWYgADJJ7VwPij9q79mDwTrcPhvxf%2B0T4I03UJ5hFHY3vim0jlLngAoZMjnjJwM8VnVrUaCvUkorzaX5tGVavQw8earNRXm0vzaO/oqO0u7W/tY72xuY5oZkDxTROGV1IyCCOCCO9SVrua7lrT/wDj0vv%2BvUf%2BjY6q1a0//j0vv%2BvUf%2BjY6q0luwCiiimAVah/5Atx/wBfUP8A6DLVWrUP/IFuP%2BvqH/0GWkwKtFFFMAooooAtTf8AIFt/%2Bvqb/wBBiqrVqb/kC2//AF9Tf%2BgxVVpIAooopgFWtQ/49LH/AK9T/wCjZKq1a1D/AI9LH/r1P/o2Sk90BVooopgFd54M/wCRatv%2BB/8AobVwdd54M/5Fq2/4H/6G1Y1/gHHc1KKKK5SwooooAKKKKACiiigAooooAKKKKACiiigAooooAKKKKACiiigAory3x1%2B1l4F8A/FL/hWWoeE/EN3FbX2j2OueJbG3tzp2j3eq3H2ewt7gvOszPLKYl/cxSrGJ4mkKK2asfFL9q34TfCD4u%2BGvgx4vub0an4lsr68%2B1W1ur2ulW1taXN0ZrxywMKyR2d0IsBi7W8uBiNyAD0qvk/8A4Ld6WdX/AOCZ3xFtgMmNNPnGO3lX9vJn/wAdr2n4DftL%2BG/jzd3ulWfgTxJ4a1Gz0bTtZTTPFFvbRzXGmX/n/ZLxBbzzKqSG2uF8tykyNEweNMrnzr/grPpX9sf8E9Pihabc7PDFzPj/AK5RtJ/7JXn5tD2mVYiPenP/ANJkfZ%2BHOI%2BqeIWT1v5cVh3/AOVqa/U67wvqg1zw1p2tBsi8sYZ8%2Bu9A39avVxv7Oeq/27%2Bz34E1vdn7Z4N0ufPrvtIm/rXZV7dCftKEJ90n96T/AFPlcyw/1PMq%2BH/knOP/AIDOcf8A20KKKK1OItTf8gW3/wCvqb/0GKqtWpv%2BQLb/APX1N/6DFVWkgCiiimAVa1D/AI9LH/r1P/o2SqtWtQ/49LH/AK9T/wCjZKT3QFWiiimAUUUUAWtY/wCPtP8Ar1g/9FJVWrWsf8faf9esH/opKq0lsAUUUUwCrWuf8hq8/wCvqT/0I1Vq1rn/ACGrz/r6k/8AQjS6gVaKKKYBVrQ/%2BQ1Z/wDX1H/6EKq1a0P/AJDVn/19R/8AoQpPZgVaKKKYBRRRQBa0f/j7f/r1n/8ART1Vq1o//H2//XrP/wCinqrS6gFFFFMAq1p//Hpff9eo/wDRsdVataf/AMel9/16j/0bHSewFWiiimAV1Hw2/wCX3/tn/wCzVy9dR8Nv%2BX3/ALZ/%2BzVnV/hsa3OoooorjLCiivmPQPjr8ZLn48aR4gvPiDNJ4e1743ax4BHgk6baC3tLSz0e/uEvElEQuWuWuNPMjbpTF5M7ARgqr0AfTlFfI2k/HD9pw/Ha%2B%2BE3ifx5rmgaj4kl8ZW9q2u%2BBYRonhu3srndo%2Bo2Vz5UX28PY7ZJle4nUSy4cW%2B3yWxYvin%2B2Dr2m2HjDwj45%2BKHiL4bjXdcm07xd4U8P%2BGF1vWNGisdOa1u5Y7%2B1jtjE12dV8loIUee3S2dVk3hnAPtOuD8Z/8AIy3P/AP/AEBa6X4feK9B8d%2BAtE8b%2BFtcfU9M1nSLa%2B03UpIwjXcE0SyRzFQqgFlYNgKuM9B0rC8W6bcXHiC4mjktwDswHuo1P3F7FgRW1F2kKWxh0Va/se7/AOe1r/4HRf8AxVcZ%2B0N8XfCX7NPwX8Q/HD4iX1uml%2BH9Pa4kiivYjJcSZCxQRjdy8khVFHqwzxmtqtalRpSqVJWjFNtvolq2YVqtPD0pVajtGKbbeySV2/uNjxZ4t8L%2BA/Dl54w8a%2BIrLSdK0%2BAzX2o6jcrDDBGOrO7EBR9a8QP/AAVO/wCCfQOD%2B1F4f49EuP8A43XF/Db9jv4z/ts3Oj/H3/goFrFqNDkWLUfCvwV02/EWm6crKGjk1Hcwe6uApGUYAKdynhmjGD8ffBfh/wDbS%2BPMv7C/7P8A4Y0LR/B/hWSKX4y%2BM9HtLWExIDmPRLSZQAJn2kSFT8gBU/ddG%2BaxebZp7FVcPCMVJpU4zUnObfWyaUFbV8zbUU5StpF9fCmR8Q8Z4ycqEoYXCUoOpVrVozlyUlvOUISjZybjClSu6lWpOMUo%2B9yVfF/7V/7Sf/BSvxvqvw0/YIlvPBPw0gv5IPEXxp1K0eK4uVLHMWmxHa6vtOc5WQZXc1vxvrfCr9nT9q//AIJk3%2Br6p8Ifhzo3xp8HazfNd61PbW62Pi%2BPJJJaQllvlUkkJkuzE4CAmvuLw98MfDPw20W38BfD7QdM0jRNJT7NpemWc8UcdvCpIVAu7I4655JyTzmrv9j3f/Pa1/8AA6L/AOKrWnkTqOOJxFeTxC2mtFG6%2BGMGnHl6O6cpbuS2Xn1MNiqdKrSw2MrQ57czjNwjNRd4qdFSdJxT1UJRqWevtHL3j5TP7d/7UPiD/knv/BMf4k3O77n/AAkmrWWkZ%2BvmlttKf2uv%2BChYGT/wSr1DA9PjBpJ/9p19V/2Pd/8APa1/8Dov/iqP7Hu/%2Be1r/wCB0X/xVdn1DHP4sZP5RpL/ANsf5nnf2ZmT1ljqnyhSS%2B7kf5nyzpX/AAU6l8A6pbH9ob9iv4yeDDFOjTX0Phf%2B1LBcMMgXFu3zH0wvNVx/wUU%2BKnjo4/Z//wCCenxb8RRn/V33iSzh0C1mH95Jbhm3D3wK%2Bt9H0q6j1e1kaW2IW5QnbeRE/eHYNk1W/se7/wCe1r/4HRf/ABVL6nmjfK8Y7f8AXuHN9%2Bq/8lD%2Bz84fuvGvl7qlT5vvu1/5IfKbft%2B/tD6Gpj8a/wDBM34sQTYwq6E9rqaFuwLxsuBn%2BLHHWok%2BIv8AwVZ%2BNbi48C/A34f/AAk0pjuSbx1rMmrajKvbEVoAkZPdX5AzzmvrH%2Bx7v/nta/8AgdF/8VR/Y93/AM9rX/wOi/8AiqP7OxU9KuLm49koQfzlGLf3WF/ZWNqaVcZUce0VCD%2Bcoxb%2B6x8p/af%2BCx/h79zJpn7PniGPok0U2sWko/2nDfLj2WprHwj/AMFifGUzW%2Bo/Fz4G%2BDUlt5Q1x4d0LUdQngTy23ELd/Iz4zjPGa%2Bpv7Hu/wDnta/%2BB0X/AMVVnStKuo7lmaW2/wCPaYcXkR6xMOzUPKYtWeIrNdvaP81BP8R/2InpLE12u3tX%2Bagn%2BJ8jR/8ABLvQfiS4v/2wP2lviJ8Vpm5m0u91p9L0jPcpZ2hXy/wk9K7/AMO/8E7P2GfC2gT%2BG9K/ZW8FtbXEJime90WO6nK/9dpt8oPQ5DZyAeor3H%2Bx7v8A57Wv/gdF/wDFUf2Pd/8APa1/8Dov/iq1pZNlFJ8yoxb7yXNJ%2Bsp8z/E0pZDk9F8yoRcnu5Lnk/WU%2Bd/ifJ7f8EyE%2BGt%2B8n7IX7VHj/4VadcuxvPDdleDU9MAJyWhguiTC5P8e5uOABUn/DuX4k6l/pfiX/gpB8eZbteUfS/E8VlCG94kiIYe2a%2BrP7Hu/wDnta/%2BB0X/AMVR/Y93/wA9rX/wOi/%2BKrL%2BwsoWihZdlKaivSKmkvkl6GX%2BrmTrRU2l2U6iivSKqJL5JLyPlmD9iz9tnwha3V/8JP8Agpj4pklt4A6WHjbwtZ6nBcjzEHlyOdrqCSDuUEjHFVU%2BPP8AwUz%2BDJ%2Bx/GD9kDw78R7KPg6/8LvEv2eTaOhazvB5jsR1CYGenavrmx0q6W2vFMtt81sAMXkR/wCWqHn5uOneq39j3f8Az2tf/A6L/wCKpf2RTpO%2BGrVKb8pOS/8AAanOvuaD%2Bw4UtcLWqUn5Tc4/%2BA1Odfc0fLeg/wDBVT4A2et2vhr47eAviB8J7y7m8mKT4jeEpbK1aX0FwpeMKcHDsVXHJIr6Q0XW9G8SaVb694e1e1v7G7iEtre2VwssUyHoyOpIYH1BxUnir4daB468P3PhTxtoGjavpd7H5d5p2pvbzwTr6Ojkqw%2Bor5suv%2BCWh%2BHmtXWq/se/tO%2BK/hHa3zmS88O6VqdvqGkmUnPmR2ty5EbHnOGxjAAUDFHPnOEfvctePlanNfJtwl98X6ivn2CfvKOIj5WpzXybdOS9HF%2Bp9M1ah/5Atx/19Q/%2Bgy18ty/s8f8ABV34dqNT8Eftv%2BAvH7Q8po/jnwVa6bFKv90z2Ehkz6Hj3psv7dX7THwQ02Ww/a6/YO8VWFos8Zl8WfDS%2Bh8Q6eAFf95JHEwktk5PDlm46U3nVKl/vNKdLzlG8f8AwKDml87D/tylR/3ujUpeco80f/AqbqJfNL1PpyivEfAH/BSP9hb4jaN/bOk/tQeEdPCttltfEmrJpVxG3dTFeGN%2BDxkAj3rtPBX7Un7MHxH1pPDfgL9pX4e6xqMn%2BqsNP8bWEs0n%2B6izbm/AV108zy2tb2deDvtacdf/ACa/4HZSzXK69vZ14SvtacNflzX/AAO6oq1/Y93/AM9rX/wOi/8AiqP7Hu/%2Be1r/AOB0X/xVdt0d4Tf8gW3/AOvqb/0GKqtaculXR0iCPzbbIuZSf9Mixysffdjt/nNVv7Hu/wDnta/%2BB0X/AMVSTQFWirX9j3f/AD2tf/A6L/4qj%2Bx7v/nta/8AgdF/8VTugKtWtQ/49LH/AK9T/wCjZKP7Hu/%2Be1r/AOB0X/xVWb7SrprazUS23y2xBzeRD/lq54%2Bbnr2pNq6AzKKtf2Pd/wDPa1/8Dov/AIqj%2Bx7v/nta/wDgdF/8VTugKtd54M/5Fq2/4H/6G1cb/Y93/wA9rX/wOi/%2BKrtfCUL2/h%2B3hkKEjfko4YffbuCQaxrNOJUdzRooormKCiiigAooooAKKKKACiiigAooooAKKKKACiiigAooooAKKKKAPnb4z/svfGHxd8TPEVx4IufDT%2BF/GXiHwrr2uS6pqlxBfWl1ol1BP9nhjjtpEliuVs7SIyNJG0G6Vwkx2rWT8bf%2BCe/iP4ufFWy%2BI1v8efEVja6zrl3eeNdDkfTpoIYZvDt5pAhspDpv2gov2hRseZVCy3Ei7JXBr6fooA8W/Zl%2BCPxi8F%2BNdQ%2BJXxwuPDa6o/gXQPClla%2BGL6e4gkh0176V712mghaN55L4/uAHESwr%2B9kLEiT/AIKE2D6t%2BxR8UdIjRGa78A61EoaMNgnTrjBGRwc45HNey155%2B1XpX9u/APxPom3P2zRL2DHrvtZl/rWWIh7XDzh3jJffGS/U9bIcR9Tz7B4j%2BStSl/4DVpS/9tPJP2D/ABVdat%2BxP8JbsJbMR8OdGiZms4iSY7OJCSSuScqa9Y/ti7/542v/AIAxf/E189f8EvdV/tj9gD4W3e7Ozw2IM/8AXKWSL/2Sve61yqSqZVh594Q/9Iiehx3h/qnHGa0P5cTiF/5Xrf5lr%2B2Lv/nja/8AgDF/8TR/bF3/AM8bX/wBi/8Aiaq0V32R8qacuq3Q0iCTyrbJuZQf9Dixwsfbbjv/AJxVb%2B2Lv/nja/8AgDF/8TRN/wAgW3/6%2Bpv/AEGKqtJJAWv7Yu/%2BeNr/AOAMX/xNH9sXf/PG1/8AAGL/AOJqrRTsgLX9sXf/ADxtf/AGL/4mrN9qt0ttZsIrb5rYk5s4j/y1ccfLx07VmVa1D/j0sf8Ar1P/AKNkpNK6AP7Yu/8Anja/%2BAMX/wATR/bF3/zxtf8AwBi/%2BJqrRTsgLX9sXf8Azxtf/AGL/wCJo/ti7/542v8A4Axf/E1VoosgNPVdVuo7lVWK2/49oT81nEesSnutVv7Yu/8Anja/%2BAMX/wATRrH/AB9p/wBesH/opKq0klYC1/bF3/zxtf8AwBi/%2BJo/ti7/AOeNr/4Axf8AxNVaKdkBa/ti7/542v8A4Axf/E1Z1jVbqPV7qNYrYhblwN1nET949SVyazKta5/yGrz/AK%2BpP/QjSsrgH9sXf/PG1/8AAGL/AOJo/ti7/wCeNr/4Axf/ABNVaKdkBa/ti7/542v/AIAxf/E1Z0fVbqTV7WNorYBrlAdtnED94dwuRWZVrQ/%2BQ1Z/9fUf/oQpNKzAP7Yu/wDnja/%2BAMX/AMTR/bF3/wA8bX/wBi/%2BJqrRTsgLX9sXf/PG1/8AAGL/AOJo/ti7/wCeNr/4Axf/ABNVaKLIDT0rVbqS5ZWitv8Aj2mPFnEOkTHstVv7Yu/%2BeNr/AOAMX/xNGj/8fb/9es//AKKeqtKyuBa/ti7/AOeNr/4Axf8AxNH9sXf/ADxtf/AGL/4mqtFOyAtf2xd/88bX/wAAYv8A4mrNjqt01teMYrb5bYEYs4h/y1Qc/Lz171mVa0//AI9L7/r1H/o2Ok0rAH9sXf8Azxtf/AGL/wCJo/ti7/542v8A4Axf/E1Vop2QFr%2B2Lv8A542v/gDF/wDE10fgC8lu/tfmpENvl48qBE/vddoGa5Kuo%2BG3/L7/ANs//ZqzqpcjGtzqKKKK5Cwrz28/ZY%2BB958Srj4ut4Xvoteubo3b3Fp4jv4IUu2gS2a7jt451hiuWgjWFrhEWV4i0bOUZlPoVFAHlXiD9ij9mzxRJ4qfXfAt7OvjPTtQsNch/wCEo1JYxbX8qy30dsi3AWxFzIivObYRGZlDSFjzS6r%2Bxj8CNd0GDw9rcXjG8itWuPIurr4na/JdpFcRxxz232pr0z/ZpFij3W2/yWZFYoWGa9UooAraNo2k%2BHdHtPD%2BgabBZWNhbR29lZ20QSOCFFCpGijhVVQAAOABXGeM/wDkZbn/AIB/6Atd5XB%2BM/8AkZbn/gH/AKAtbUPjJlsZdfIfjzP7e/7blv8ACS3/ANI%2BFnwP1CPUPFrDmHW/E2D5Fkezpbjczjkbt6MPmU19A/tP/FaP4G/s6%2BNvi60ypJ4f8MXl5abv4rhYm8lP%2BBSFF/GvKP2PtJ8I/sWf8E6dI8fePg1u1t4UfxX4xupDm4ur24i%2B0y72Y5kmO5IRk5JRVHavNzOUcTioYSbtTinUqecYv3YvyclzS7xhbqzxsRhMRnmc4fJ6EXLnalKK1c3zxhTppf36jV11UUtmzQ/bu/aM8a%2BAdL0X9nT9nwJdfFb4kzNY%2BGowcjSLXB%2B0apNjOyOFNxUkcsMgMEYV337Lf7Nvgb9lT4O6d8JvBCtOYc3GsatcD/SNVvnwZruZiSS7sO5O1QqjhRXlH/BP74Q%2BL/FD6n%2B3d8fLdX8e/E61jm02yOSnh3QTh7WwiyMruXZJIcAklcjcGLfTdVltOeLqvMays5K1NP7MHrfylPSUuy5Y9Gfr3GGMw2QYCPCWXTUo0pc2KqRelbEq8Wk%2BtHDe9SpdJT9tWtecGrWuf8hq8/6%2BpP8A0I1Vq1rn/IavP%2BvqT/0I1Vr2Vsj84CiiimBa0P8A5DVn/wBfUf8A6EKq1a0P/kNWf/X1H/6EKq0uoBRRRTAKtaP/AMfb/wDXrP8A%2BinqrVrR/wDj7f8A69Z//RT0nsBVooopgFFFFAFrT/8Aj0vv%2BvUf%2BjY6q1a0/wD49L7/AK9R/wCjY6q0luwCiiimAVah/wCQLcf9fUP/AKDLVWrUP/IFuP8Ar6h/9BlpMDhfGP7PXwC%2BIurHX/iD8DvB%2Bu3xXBvdZ8M2t1MR6b5I2b9a4/x1/wAE/f2JPiNoraD4m/Zb8ErA2f3ml6DFYTrn%2B7NaiORfwYV7BRXNVwGBrX9pShK%2B94xd/X3f1OOrl2X17%2B1owlfe8Iu/reN/xPluL/gmVceBs2v7P37afxg8E6cObfQo/Egv7C29o4rhSQPYsenWn/8ADF/7b83/ABL7v/gqT4obTx92OH4fabHc/jOG3H8q%2BoaK4v7CyxaQjKK7RnUivuU7fLQ4P9XsqjpCMortGpUivuVS1vJWR8yyf8E9fjnbaXDqun/8FL/jKt%2B9xKGNzd201qCFQ5EBQKM5557Cqx/Zz/4KaeAj9q%2BH37fuheLFX7ml%2BPPh3BDGfrcWjGU5%2BlfVs3/IFt/%2Bvqb/ANBiqrSWR4FfA5xfeNSovznJfemP/V/Lo/w3OD7xq1V%2Bc5L70z5dX4u/8FZPBo%2Bz%2BJf2Qvht4zePhrjwl4%2BbTkm91W%2BUlfxpG/b9/aH8DnzPjp/wTW%2BJ%2BkwD/WXHg26tfEaxjuzfZymFHc%2BlfUdFH9m42H8LF1P%2B3lTmvxjFv7xf2Xjqf8LG1F/iVOa/GEW/vPmPT/8AgsB%2Bwf8AaBpvjH4mat4W1Do%2Bm%2BJfCGo28sZ9GKwMgP8AwKvTfBn7eH7GXxUWysfAv7Tfgy7ufs5UWcuuxW87EyOcCKYq54I6DvXpN/p2n6pbtZ6nYw3MLfeiniDqfqDxXB/FD9jD9kr4p2Fovj39nDwZqEklq266bw9BHP8A62TpMirIPwah08%2BptWqUp%2BsZx/GMpL8B%2Bz4jp7VKU/WE4fjGcl%2BFjtNQ8UeGdJsE1XVPEVhbWrruS5uLtEjYeoYnBFea/EP9uz9jb4VRs3jj9pjwbbSIMta2%2BuRXNwB/1xgLyf8AjtcHp3/BIP8A4J0aZfNqEH7NtpI7MSEutf1GaNe%2BAj3BUDOeMd69J%2BHv7Gn7JvwplW6%2BH37OXgzTLhDlbyLw/A1wP%2B2rqX/WnzZ/PTkpQ8%2Bac/wUYfmLn4jqaKFGHm5VJ/gow/FnkFx/wUn1340TNon7B/7NHij4lSMdo8Vapbto2gwH%2B8bi5VXkK9TGFUkdDX15%2By//AMLnPwL0J/2hD4e/4TBxcvrCeFRN9gjJuZTEkXnfOdsRjVierBiOCKzFVUUIigADAAHAFd74M/5Fq2/4H/6G1VTwuLpy9piKzm3pZJRgvSKu2/OUm/I68FhMZSquria7m2rWSUYL0irtvzlNvyNSiiitT1AooooAKKKKACiiigAooooAKKKKACiiigAooooAKKKKACiiigAooooAK5z4o2kWoeFzYTjKTy%2BW49ijg/zro6wfiH/yBYv%2Bvpf/AEFqumrzQXcXdbo%2BMv8Agjtdyz/8E7vAVlc/66xk1a1mHoU1S7AH5Yr6br5f/wCCSH%2Bh/su6r4Z/6AnxI8Q2O3%2B7tvWfH/j9fUFcvD7/AOEPDLtCK%2B5W/Q%2B88Vkl4m5zJbSxNWXynJVF/wCnAooor1z8/LU3/IFt/wDr6m/9BiqrVqb/AJAtv/19Tf8AoMVVaSAKKKKYBVrUP%2BPSx/69T/6NkqrVrUP%2BPSx/69T/AOjZKT3QFWiiimAUUUUAWtY/4%2B0/69YP/RSVVq1rH/H2n/XrB/6KSqtJbAFFFFMAq1rn/IavP%2BvqT/0I1Vq1rn/IavP%2BvqT/ANCNLqBVooopgFWtD/5DVn/19R/%2BhCqtWtD/AOQ1Z/8AX1H/AOhCk9mBVooopgFFFFAFrR/%2BPt/%2BvWf/ANFPVWrWj/8AH2//AF6z/wDop6q0uoBRRRTAKtaf/wAel9/16j/0bHVWrWn/APHpff8AXqP/AEbHSewFWiiimAV1Hw2/5ff%2B2f8A7NXL11Hw2/5ff%2B2f/s1Z1f4bGtzqKKKK4ywooooAKKKKACuD8Z/8jLc/8A/9AWu8rg/Gf/Iy3P8AwD/0Ba2ofGTLY%2BSP%2BCrFxP4y%2BEngv9mTTpm%2B0fFf4laRod0kbYZbBJhc3EvHO1RFHnHZqp/t4gftAfF/4a/8E9PDfGn69dp4k%2BIkdvwIPD1jICkDAfdWedVRT2aNexqT4n39l8Tf%2BCqfgzRNQuUGj/Bz4Z6l4m1CaRv3UN5fuLVVf/aWFfNBPQZIp/8AwTg0vUPjNrfj79vvxbaSJdfE3WmtPCMNwuHs/Dtk5htkAP3DIyM7gcMUVu9fMVv%2BFDMatBbVZqD/AOvVFJz/APApzUPnI%2Bp8L7ZZjM34yqf8wfLRw/nipRlCk1/16c6%2BIfZ0qb7H1NBBDbQpbW0KxxxqFjjRcKqgYAAHQU6iivsT5Rtt3Za1z/kNXn/X1J/6Eaq1a1z/AJDV5/19Sf8AoRqrSWyAKKKKYFrQ/wDkNWf/AF9R/wDoQqrVrQ/%2BQ1Z/9fUf/oQqrS6gFFFFMAq1o/8Ax9v/ANes/wD6KeqtWtH/AOPt/wDr1n/9FPSewFWiiimAUUUUAWtP/wCPS%2B/69R/6NjqrVrT/APj0vv8Ar1H/AKNjqrSW7AKKKKYBVqH/AJAtx/19Q/8AoMtVatQ/8gW4/wCvqH/0GWkwKtFFFMAooooAtTf8gW3/AOvqb/0GKqtWpv8AkC2//X1N/wCgxVVpIAooopgFWtQ/49LH/r1P/o2SqtWtQ/49LH/r1P8A6NkpPdAVaKKKYBXeeDP%2BRatv%2BB/%2BhtXB13ngz/kWrb/gf/obVjX%2BAcdzUooorlLCiiigAooooAKKKKACiiigAooooAKKKKACiiigAooooAKKKKAPFPiT%2B1xqfgT4rX3hOx%2BGcN/4Z8Pa14d0fxb4jfXjDcWV7rN1Hb2ywWnkMLhIzcWrzO00W1J8oJCjLUfxT/a38S/Cv476d8I9U%2BGGkz2msNcjSni8aRnWLmGDTZbyTUP7NSBvL09JIjatcPMriZlHlENGXT4sfsha98QfiTqninw/8VLXStC8Rar4f1fxLoNz4da6kutQ0a4S4s5IrhbmPyYneC0SeMxyGSO32o8Jdmqx44/Zk%2BKHxG%2BI2m694s%2BPsMvhzSvEkXiCw0eLwmgvbG/TTns/Lt7x7hkS0Lu85hkglkJkkjMxjbYAC1%2Bxr%2B03f/tWfDCH4m3Nn4GtY7qysp1svBvxBOvSWTzwCZre8zZ232adA6Ax/OTk9MDPoHxD/wCQLF/19L/6C1cP8BP2e/GPwz8da38T/iT8SNK8Q65q/hrR9ARtA8J/2NaRWOnPeSQloPtE%2B%2BZnvptzBkjCrGqRRgNu7zx3dXVnpEctpcyRMbkAtG5U42txxV0/jQnsfFP/AAS9/wBB0P43eGDx/ZP7RXii3Rf9jdAyn6Hca%2BoK%2BZv%2BCeuq6po3xt/aW8NQ6lcRlfjPcag6rMwybm3jfceeSdvWvqP%2B3Na/6DF1/wCBDf41yZDdZVTj2c191Soj77xS97jvFVf%2BfkaE/wDwPC4SX53KtFWv7c1r/oMXX/gQ3%2BNH9ua1/wBBi6/8CG/xr19T8%2BCb/kC2/wD19Tf%2BgxVVrTl1jVxpEEo1W53G5lBbz2yQFjwOvufzqt/bmtf9Bi6/8CG/xpK4FWirX9ua1/0GLr/wIb/Gj%2B3Na/6DF1/4EN/jT1Aq1a1D/j0sf%2BvU/wDo2Sj%2B3Na/6DF1/wCBDf41ZvtY1dLazZNVuQWtiWInbk%2Ba4yefQD8qTvdAZlFWv7c1r/oMXX/gQ3%2BNH9ua1/0GLr/wIb/GnqBVoq1/bmtf9Bi6/wDAhv8AGj%2B3Na/6DF1/4EN/jRqAax/x9p/16wf%2BikqrWnqusavHcqseq3Kg20JwJ2HJiUk9fWq39ua1/wBBi6/8CG/xpK9gKtFWv7c1r/oMXX/gQ3%2BNH9ua1/0GLr/wIb/GnqBVq1rn/IavP%2BvqT/0I0f25rX/QYuv/AAIb/GrOsaxq8Wr3UUWq3Kqty4VVnYADceOtLW4GZRVr%2B3Na/wCgxdf%2BBDf40f25rX/QYuv/AAIb/GnqBVq1of8AyGrP/r6j/wDQhR/bmtf9Bi6/8CG/xqzo%2BsavLq9rFLqtyytcoGVp2II3Dg80nezAzKKtf25rX/QYuv8AwIb/ABo/tzWv%2Bgxdf%2BBDf409QKtFWv7c1r/oMXX/AIEN/jR/bmtf9Bi6/wDAhv8AGjUA0f8A4%2B3/AOvWf/0U9Va09K1jV5Lllk1W5YC2mOGnY8iJiD19arf25rX/AEGLr/wIb/GlrcCrRVr%2B3Na/6DF1/wCBDf40f25rX/QYuv8AwIb/ABp6gVataf8A8el9/wBeo/8ARsdH9ua1/wBBi6/8CG/xqzY6xq7214z6rckrbAqTO3B81Bkc%2BhP50newGZRVr%2B3Na/6DF1/4EN/jR/bmtf8AQYuv/Ahv8aeoFWuo%2BG3/AC%2B/9s//AGasH%2B3Na/6DF1/4EN/jXR%2BAL69vftf2y8ll2%2BXt82QtjO7pms6t%2BRjW50dFFFchYV8keG/HHjZ/2ktG8XS/EPxBJqmr/tB634O1TwzJr1w2nxaJbeH765gjWxL%2BRE/%2Bi2d59oEYlYzlS5SULX1vXL6j8EPgtq/jG6%2BIerfCHwvdeIL61S1vdduPD9s95cQKUKxPMyF3QGOMhSSAUXjgUAfJUPjH4k%2BGvjfqvh34j/FnxPo%2Bka/D8Q5fFHjyy%2BIcF1ptppFneq1pcafamaZdMm0%2BF4rOdjBAVmZ932hyJVisLL4iXviWx8H/ABD%2BJnxF8G/D3xFoXjXxd4Pt9T8danb63plvY23h%2B3skvLx5zdNlrjWNRFpPK%2BxZY45U/wBHMafWOofs7/s/6td%2BIr/VfgZ4OuZ/GEAg8WzXHhi0d9biGMJdkx5uVGBxJuHFUY/2Uf2W4fCo8Cxfs2eAF0NdTGoroy%2BDrEWgvAnli58nytnm7Pl8zG7bxnFAFz9nPxZ4t8e/s9%2BA/HPj63MOu614M0u/1qIxeXsu5rSKSZdv8OHZhjt0pPFtnby%2BILiSTVbeMnZlHWTI%2BRfRCP1rtAABgDAHQV5D%2B0l42i%2BGngvxj8R52VU8P%2BHbrUnLdAILUynP/fNXCcaalOTskm36LV/kZ1ZxpU3OWyTb9Em3%2BCPzy8Y/Ee5j%2BB37Xf7WWj3yz6n488cJ8PPBkce/zLuC3VNOjktzjADC4lk6g5hJxkCvvr4E/CHRvgr8FfCfwj07W7MxeG/D1np29ElxI0UKoz/6vqzAsT6k1%2BfPwF8DyeIvAn7G/wCyzIhlS7u7z4n%2BKt5yWjhaW6tHk/vCSS4Kc8fKK/SevnuGac6sp4iW6jFf9vTvWn%2BNSC/7dPq4Qlk/hNkeBlpUxkq2Pqf9xJexo3/7chVkvJ363LX9n2n/AEHLX/viX/4ij%2Bz7T/oOWv8A3xL/APEVVor62z7nyhp6xY2r6vdO2sWyk3Lkqyy5HzHg4TFVv7PtP%2Bg5a/8AfEv/AMRRrn/IavP%2BvqT/ANCNVaSTstQLX9n2n/Qctf8AviX/AOIo/s%2B0/wCg5a/98S//ABFVaKdn3A09HsbVNXtXXWLZiLlCFVZcn5hxymKrf2faf9By1/74l/8AiKND/wCQ1Z/9fUf/AKEKq0rO%2B4Fr%2Bz7T/oOWv/fEv/xFH9n2n/Qctf8AviX/AOIqrRTs%2B4Fr%2Bz7T/oOWv/fEv/xFWdKsbVbliusWzf6NMMBZf%2BeTc8p261mVa0f/AI%2B3/wCvWf8A9FPSadtwD%2Bz7T/oOWv8A3xL/APEUf2faf9By1/74l/8AiKq0U7PuBa/s%2B0/6Dlr/AN8S/wDxFH9n2n/Qctf%2B%2BJf/AIiqtFFn3A07GxtVtrwDWLY5tgCQsvy/vU5Pyfhx61W/s%2B0/6Dlr/wB8S/8AxFGn/wDHpff9eo/9Gx1VpJO71Atf2faf9By1/wC%2BJf8A4ij%2Bz7T/AKDlr/3xL/8AEVVop2fcC1/Z9p/0HLX/AL4l/wDiKsxWNqNInT%2B2LYg3MRLbZcD5ZOPuZ/8A1VmVah/5Atx/19Q/%2Bgy0mn3AP7PtP%2Bg5a/8AfEv/AMRR/Z9p/wBBy1/74l/%2BIqrRTs%2B4Fr%2Bz7T/oOWv/AHxL/wDEUf2faf8AQctf%2B%2BJf/iKq0UWfcDTlsbU6RAn9sWwAuZSG2y4Pyx8fcz/%2Buq39n2n/AEHLX/viX/4iib/kC2//AF9Tf%2BgxVVpJPuBa/s%2B0/wCg5a/98S//ABFH9n2n/Qctf%2B%2BJf/iKq0U7PuBa/s%2B0/wCg5a/98S//ABFWb6xtWtrMHWLYYtiASsvzfvX5Hyfhz6VmVa1D/j0sf%2BvU/wDo2Sk07rUA/s%2B0/wCg5a/98S//ABFH9n2n/Qctf%2B%2BJf/iKq0U7PuBa/s%2B0/wCg5a/98S//ABFdr4SjSLw/bxxzpIBvw6A4Pzt6gH9K4Cu88Gf8i1bf8D/9Dasa1%2BUqO5qUUUVzFBRRRQAUUUUAFFFFABRRRQAUUUUAFFFFABRRRQAUUUUAFFFFABRRRQAVg/EP/kCxf9fS/wDoLVvVg/EP/kCxf9fS/wDoLVdP40J7Hxb%2Bx3/xLP28v2pvDOceXrvhi%2BC/9fGmO2f/AB2vqCvl/wCAn/Ep/wCCpXx90/p/a3hPwtfY/veVbyQ5/XFfUFcmSaYOce1Sqv8AypJ/qffeJfv8QUK3/PzB4GX/AJZ0Yv8AGDCiiivYPz4tTf8AIFt/%2Bvqb/wBBiqrVqb/kC2//AF9Tf%2BgxVVpIAooopgFWtQ/49LH/AK9T/wCjZKq1a1D/AI9LH/r1P/o2Sk90BVooopgFFFFAFrWP%2BPtP%2BvWD/wBFJVWrWsf8faf9esH/AKKSqtJbAFFFFMAq1rn/ACGrz/r6k/8AQjVWrWuf8hq8/wCvqT/0I0uoFWiiimAVa0P/AJDVn/19R/8AoQqrVrQ/%2BQ1Z/wDX1H/6EKT2YFWiiimAUUUUAWtH/wCPt/8Ar1n/APRT1Vq1o/8Ax9v/ANes/wD6KeqtLqAUUUUwCrWn/wDHpff9eo/9Gx1Vq1p//Hpff9eo/wDRsdJ7AVaKKKYBXUfDb/l9/wC2f/s1cvXUfDb/AJff%2B2f/ALNWdX%2BGxrc6iiiiuMsKKKKACiiigAr4%2B/4LFeM7jwT%2BxP8AE%2B5sSxutU0u20i2iT70rXk0FsVHr8krH6A19g18Mf8FgdTtdUv8A4T/Ce5fMPiT4x6PNqsf97TrOJ7m5P4BUNefm83TymvZ2bi4r1k1Bf%2BlfgePxA6n9jV4U/inHkX%2BKbjTX4zOT/Ye8GQa7%2B2f8SPGEIWTTPhV4N0P4Y%2BHJl5XNtCs18o9Cs6qPo1fYdfMn/BIzR7p/2MNO%2BKGtLnWfiF4k1fxNrkmP9Zc3F7Im7PfMcMdfTdbcP01HKadS1vaXn/4G7pfKPIvkfqXib7PDcYVsro/w8DGlg4drYWnCjJr/ABVFWl581%2BoUUUV7R8CWtc/5DV5/19Sf%2BhGqtWtc/wCQ1ef9fUn/AKEaq0lsgCiiimBa0P8A5DVn/wBfUf8A6EKq1a0P/kNWf/X1H/6EKq0uoBRRRTAKtaP/AMfb/wDXrP8A%2BinqrVrR/wDj7f8A69Z//RT0nsBVooopgFFFFAFrT/8Aj0vv%2BvUf%2BjY6q1a0/wD49L7/AK9R/wCjY6q0luwCiiimAVah/wCQLcf9fUP/AKDLVWrUP/IFuP8Ar6h/9BlpMCrRRRTAKKKKALU3/IFt/wDr6m/9BiqrVqb/AJAtv/19Tf8AoMVVaSAKKKKYBVrUP%2BPSx/69T/6NkqrVrUP%2BPSx/69T/AOjZKT3QFWiiimAV3ngz/kWrb/gf/obVwdd54M/5Fq2/4H/6G1Y1/gHHc1KKKK5SwooooAKKKKACiiigAooooAKKKKACiiigAooooAKKKKACiiigAorxT4k/tcan4E%2BK194TsfhnDf8Ahnw9rXh3R/FviN9eMNxZXus3UdvbLBaeQwuEjNxavM7TRbUnygkKMtV/jB%2B2VefBD412fw98b/D/AEtNDvUupob238XRy6y9nbaZNfXGpjS0hO2wjaFrZp3nRxMVHlkPGzgHudYPxD/5AsX/AF9L/wCgtXC/s7ftGeLPi74gv/BfxH%2BFtv4U1q38K6P4ltLOz8QHUY5dN1I3SQh5DbweXcRyWcyyxKHRcxlZZA3HB/trfH3xh8Df2ifgfp13K0fgXxvqmr%2BHPEErKvlxarNHayaUxJGQxaK6jABAxK5IJAxlVxNPCRVSpteK9OZqKfpdq5y4zF0sFQ9rU%2BG8V6c0lFN%2BSbV%2B1zx2C%2Bh%2BHH/BXu6j8R7rW3%2BIvwgih8P3Dj5L29sbpnmgU/31h%2Bcj%2B7j1FfU1fPf/AAUg%2BDfirx78ELf4ufCiLHjz4WapH4p8JSImWma3%2Ba4tSByyywhgU/jZEBr1b4C/GTwr%2B0J8G/Dnxp8Fy7tO8R6VHdxRlwzQORiSFiP445A8bf7SGs8A3hcfXwkvtN1Y%2Bam0pL1jNW9JJn6XxVBZ3wtlmfUf%2BXcI4Ksv5alBSdGXpWw87r%2B/SqRXY66iiivZPzotTf8AIFt/%2Bvqb/wBBiqrVqb/kC2//AF9Tf%2BgxVVpIAooopgFWtQ/49LH/AK9T/wCjZKq1a1D/AI9LH/r1P/o2Sk90BVooopgFFFFAFrWP%2BPtP%2BvWD/wBFJVWrWsf8faf9esH/AKKSqtJbAFFFFMAq1rn/ACGrz/r6k/8AQjVWrWuf8hq8/wCvqT/0I0uoFWiiimAVa0P/AJDVn/19R/8AoQqrVrQ/%2BQ1Z/wDX1H/6EKT2YFWiiimAUUUUAWtH/wCPt/8Ar1n/APRT1Vq1o/8Ax9v/ANes/wD6KeqtLqAUUUUwCrWn/wDHpff9eo/9Gx1Vq1p//Hpff9eo/wDRsdJ7AVaKKKYBXUfDb/l9/wC2f/s1cvXUfDb/AJff%2B2f/ALNWdX%2BGxrc6iiiiuMsK5%2B3%2BLHwsuviFP8I7X4leH5PFdtaC6ufDEeswHUYoCFIla2DeYqYdTuK4%2BYc8iugr5As/D3jDw/8AtAaVoOo/DbxR9t0T9oPWfGOreJLfwreTWc2iXWg3tpbyR3UcTRzvuvLOzNurGVBAzsgjiD0AfTukfF34T%2BIPFer%2BA9B%2BJ/h2%2B1zQI9%2BvaNZ61BLd6avB3XEKuXhHI5cDqKx9c/ag/Zp8MeF9G8ceJf2h/AunaL4jR38PaxfeLbOG11RUwWa3leUJOBkZKE4yM180%2BFfhlqul/tHXOkaz4b8Tah8O/DE3j6%2B8SaZrHwouyZ4dZv1uZbQXMZmTXYriaR5oYrWPckMIS5UzbBXP%2BArbU7P9nL4W%2BLtNsvjX4M8SeC9L8S6dZnQfg5d3Esd1cPFLHb3Fne2EkoikVY9kyRCH5JEaeF9uQD7stLu0v7WK/sLmOeCeNZIZoXDJIhGQykcEEHIIr83/APgrR4p%2B0/tgaHZJL8vw8%2BCXjTxdLFnrJPpxsbdj9JQMH1NfoR8ML/xxqvw18Pan8TtIt9P8S3Oh2kviGwtH3RW180KGeJDk5VZC6g5PAHJr8tP%2BClnieLWPjf8Atc%2BP40klfwj8LvCngiykR%2BC2p3cFxIi8c43HIB4NfPcTVvZZbbu7/KEZz/8AbUd2Q5f/AGzxtkWV2v7fHYSLX92NaFSX4U9T67/YI8L/APCHfsUfCrQmj2OvgPTJ5Ux92Sa3SZx9d0hr1yqXgDQNC8G%2BBNE8IJp1yF0rSLazULeLjEUSpx%2B7/wBmtfztF/6B91/4GL/8br6jB0vq%2BEp0rfDGK%2B6KX6GvEGYf2tn%2BMx17%2B2rVan/gdSpNfhJFWirXnaL/ANA%2B6/8AAxf/AI3R52i/9A%2B6/wDAxf8A43XRfyPIDXP%2BQ1ef9fUn/oRqrWnrEukDV7oS2NyW%2B0vuK3SgE7j22HFVvO0X/oH3X/gYv/xuknogKtFWvO0X/oH3X/gYv/xujztF/wCgfdf%2BBi//ABunfyAND/5DVn/19R/%2BhCqtaejy6QdXtRFY3Ib7Sm0tdKQDuHUbBmq3naL/ANA%2B6/8AAxf/AI3SvqBVoq152i/9A%2B6/8DF/%2BN0edov/AED7r/wMX/43Tv5AVataP/x9v/16z/8Aop6PO0X/AKB91/4GL/8AG6s6VLpBuW8uxuQfs03LXSnjymz/AAelJvQDMoq152i/9A%2B6/wDAxf8A43R52i/9A%2B6/8DF/%2BN07%2BQFWirXnaL/0D7r/AMDF/wDjdHnaL/0D7r/wMX/43RfyANP/AOPS%2B/69R/6NjqrWnYy6Qba82WNyALYbgbpTkeanT5OOcVW87Rf%2Bgfdf%2BBi//G6SerAq0Va87Rf%2Bgfdf%2BBi//G6PO0X/AKB91/4GL/8AG6d/ICrVqH/kC3H/AF9Q/wDoMtHnaL/0D7r/AMDF/wDjdWYpdI/sicixudv2mLI%2B1LknbJjnZ9aTYGZRVrztF/6B91/4GL/8bo87Rf8AoH3X/gYv/wAbp38gKtFWvO0X/oH3X/gYv/xujztF/wCgfdf%2BBi//ABui/kATf8gW3/6%2Bpv8A0GKqtacsukf2RATY3O37TLgfalyDtjzzs%2BlVvO0X/oH3X/gYv/xukmBVoq152i/9A%2B6/8DF/%2BN0edov/AED7r/wMX/43Tv5AVatah/x6WP8A16n/ANGyUedov/QPuv8AwMX/AON1ZvpdIFtZ77G5INsdoF0owPNfr8nPOaTeqAzKKtedov8A0D7r/wADF/8AjdHnaL/0D7r/AMDF/wDjdO/kBVrvPBn/ACLVt/wP/wBDauN87Rf%2Bgfdf%2BBi//G67XwkYG8P25t43RPn2q7hiPnbuAP5VjWfulR3NGiiiuYoKKKKACiiigAooooAKKKKACiiigAooooAKKKKACiiigAooooA8P%2BLH7IWvfEH4k6p4p8P/ABUtdK0LxFqvh/V/Eug3Ph1rqS61DRrhLizkiuFuY/Jid4LRJ4zHIZI7fajwl2amfFf9kXxn8cvFMVp8VPjVBqXgldZGrN4bj8MeVewXB0uSwkt7e%2BFyRDZv5ssxiaF5cyyJ55jbYPc6KAPJv2df2cfFXwg8QX/jT4i/FOHxZrVx4W0fw1aXlroH9nJFpumm6eHfGZ5vMuZJLyd5ZVKI37sLFGE55j/gpx8BtQ/aK/Y/8ReBPDTSR%2BIbRo9W8KXMDbZYdUtN09uUb%2BFmZPLz2Ehr6ArB%2BIf/ACBYv%2Bvpf/QWrOth6WMoyoVPhkmn801/wV5pHNjMNSxuEqYer8M04v0at963XmkeGfsfftL3v7Tn7NXhH41QaxOLjWNJT%2B1YEnYCC%2BjJiuY8Z4AmRwM9sHvXhP7N/jOT9gv9qTxH%2Bx14x1O60jwJ4/1uTXvg7qEkjJZpcT4N5pAfO2NllIMaHqG/vSqDX/Z98WaB%2Bxb%2B2f49/ZW8eX66P4W%2BJGtr4q%2BFl3eKY7WW7uQFvtPSQjYriVVKRZHGO8ig/Qn7R/7Onw0/ak%2BFd98JvijpbTWdziWzvYCFudOulz5dzA/8EiE8HoQSpBViD5tKOIx%2BDp1YNfWaDcWns2lyyjLqlUSUk7aNxkrpM%2Bi8N%2BKcFRwVfKs75pYfEJUsRyWc6VSlK9PEQi9HKD9/ldlUpValNSV4tei/25rX/QYuv/Ahv8aP7c1r/oMXX/gQ3%2BNfIvwD/ay8Z/s5eMbf9kP9vXW/smtRS/Z/A3xMu4zHpvi20GBGJJm%2BWK8UYV1c/McZJZgZPrAEEZByD0Nexgcbh8fScoK0lpKL%2BKL7SX5PZqzTaZvxNwvmXC%2BMjSxFp0qi5qVaF3SrU3tUpy6rpKLtOnK8KkITi09OXWNXGkQSjVbncbmUFvPbJAWPA6%2B5/Oq39ua1/wBBi6/8CG/xom/5Atv/ANfU3/oMVVa7El2Pmy1/bmtf9Bi6/wDAhv8AGj%2B3Na/6DF1/4EN/jVWinZdgLX9ua1/0GLr/AMCG/wAas32saultZsmq3ILWxLETtyfNcZPPoB%2BVZlWtQ/49LH/r1P8A6NkpNK60AP7c1r/oMXX/AIEN/jR/bmtf9Bi6/wDAhv8AGqtFOy7AWv7c1r/oMXX/AIEN/jR/bmtf9Bi6/wDAhv8AGqtFFl2A09V1jV47lVj1W5UG2hOBOw5MSknr61W/tzWv%2Bgxdf%2BBDf40ax/x9p/16wf8AopKq0klbYC1/bmtf9Bi6/wDAhv8AGj%2B3Na/6DF1/4EN/jVWinZdgLX9ua1/0GLr/AMCG/wAas6xrGrxavdRRarcqq3LhVWdgANx461mVa1z/AJDV5/19Sf8AoRpWV9gD%2B3Na/wCgxdf%2BBDf40f25rX/QYuv/AAIb/Gs3UNV0vSIftOq6lb2sf/PS4mVF/MkVyut/tGfs9%2BGc/wDCR/HfwZp%2B37327xRaRY/76kFROpQpfHJL1aX5tGdSvRo/xJqPq0vzaO8/tzWv%2Bgxdf%2BBDf41Z0fWNXl1e1il1W5ZWuUDK07EEbhwea8L1r/goN%2Bw5oGRf/tZeAXK9RZ%2BJre5/9FM1czJ/wV3/AOCc/hnVLefU/wBpvTnWK4RnNlo2oXPAYE48m3bNcNXNsnpJ8%2BIpr/t%2BH/yRwVM8yWj8eKpr/uJD/wCSZ9I/25rX/QYuv/Ahv8aP7c1r/oMXX/gQ3%2BNfKn/D3z9jq/8A%2BRQm8beIc/d/sbwFqD7vpviSj/h6N4d1Hjwj%2BxX%2B0NrefuSWHwxfyz7lnmXA/Csv7dyR7Vov0vL/ANJhIw/1kyJ/DiIv/DzS/wDSYSPqv%2B3Na/6DF1/4EN/jR/bmtf8AQYuv/Ahv8a%2BVP%2BG//j9q3/Ipf8E0fi5Nn7v9sra6f%2Be92xR/w1h/wUU1jjw5/wAEup4UPSfWPi5pkOPrGELUf23lz%2BFTl6Uqj/8AbEH%2BsGXP4OeXpSqv/wBxo%2BtNK1jV5Lllk1W5YC2mOGnY8iJiD19arf25rX/QYuv/AAIb/GvlzTfi1/wVq1i5b%2Bxv2RvhjoxNvL/yGvHslxtHltnPkKM4Gar7v%2BCyms/di/Zz0aM/3m1u4mX8vkNL%2B16Tfu4eq/8AuE1%2BbiH9uU38GHrP/uFJf%2BlSifVf9ua1/wBBi6/8CG/xo/tzWv8AoMXX/gQ3%2BNfKn/Cq/wDgrRrH/IR/ar%2BFujZ6/wBkeBprjb9PPbmj/hlj/gpFq/Ou/wDBUBLRD96DSfg9pi/lI0m6n/aWIfw4Oo/VU1%2BdQP7WxcvgwVV%2Bvs4/nUPqv%2B3Na/6DF1/4EN/jVmx1jV3trxn1W5JW2BUmduD5qDI59Cfzr5L/AOGEP2ntU/5Gj/gpv8S5s/e/snS7Kx/LYDirFn/wTI1DVre6l8U/8FCP2jrvZbhmhtfiMLaKT94gwyJAcjnOM9QKTxuZSXu4N/OpTX/yQf2hm8vhwT%2BdWkv/AJI%2Bo/7c1r/oMXX/AIEN/jSSeINXiQyS63cqoHLNcsAP1r5V/wCHTXwCvf8AkaPi98Xdb/vf2r8R7p9312BaVP8Agjn/AME/p3EviD4SaprDg536p401Rzn1%2BW5UU/b51LbDQXrV/wDkabD61n8tsLBetb/5Gmz6O1X41eD9Cz/bfxa02zx1%2B1a9HHj/AL6cV0fwP%2BLfgP4ny6tB4M%2BJukeIn07yPtiaXrUV2bXzPM27xG7bN2xsZxnYcdDXzTpX/BKX/gnro%2BPsn7MGiPjp9qurqf8A9GzNmveP2Vf2cvgT%2Bz7FrkPwT%2BFGieGBqn2b%2B0jo9isJuvK83y/MI5bb5j4z03n1qoSzZy/fQpxj15ZTb%2BV4pG%2BFnncq69vCnGHXllOUvleMVv36HrtFFFbHrhRRRQAUUUUAFfkF8b9K1DxVonxSm1qP/SviZ%2B3FbeFIR186zsboRRD3AMDjHbFfr7XwP%2B3L8OPBnhX9q79nv4OeB9FWzt9b%2BM%2BreMr2ASu5mvY4ZL%2B5nJck5M1y7Y6KCFUBQAPBz/Cuvh4yvovdt3dR04L8HL7z7Hw2wkp%2BJGW4%2B/u4RYmu/WnhMRKL/wC3XFM%2BqKKKK%2BuPigooooAta5/yGrz/AK%2BpP/QjVWrWuf8AIavP%2BvqT/wBCNVaS2QBRRRTAtaH/AMhqz/6%2Bo/8A0IVVq1of/Ias/wDr6j/9CFVaXUAooopgFWtH/wCPt/8Ar1n/APRT1Vq1o/8Ax9v/ANes/wD6Kek9gKtFFFMAooooAtaf/wAel9/16j/0bHVWrWn/APHpff8AXqP/AEbHVWkt2AUUUUwCrUP/ACBbj/r6h/8AQZaq1ah/5Atx/wBfUP8A6DLSYFWiiimAUUUUAWpv%2BQLb/wDX1N/6DFVWrU3/ACBbf/r6m/8AQYqq0kAUUUUwCrWof8elj/16n/0bJVWrWof8elj/ANep/wDRslJ7oCrRRRTAK7zwZ/yLVt/wP/0Nq4Ou88Gf8i1bf8D/APQ2rGv8A47mpRRRXKWFFFFABRRRQAUUUUAFFFFABRRRQAUUUUAFFFFABRRRQAUUUUAFFFFABWD8Q/8AkCxf9fS/%2BgtW9WD8Q/8AkCxf9fS/%2BgtV0/jQnseL/tAfs8/Cf9p34b3fws%2BMPhiPUdNufnhkU7J7KcA7J4JBzFKueGHUEggqSD87%2BHPi3%2B2H%2BwfFL8Pvjz8LfE/xh%2BH2nsBoXxJ8JQpc6vbWnaLULPcHlaMYzODgqMksSQPr6issVl0a9ZV6M3TqpW5kk7rtKL0ku17NfZkrtPyMZlkcRXWJozdKqlbmSTuv5Zxekkul7OP2ZK7T%2BeU/ae/4J1/tx/Dq4%2BHviT4n%2BDtc07UfkufDnia7WxvI5BxlYbgxzJIpJxJHyDyrd64jSfhv%2B2z%2Bw/aD/hnfUY/jZ8K4vns/B%2Bt6kItf0i3/AOedndnKXMSj7qON2AqIvVj7v8Vf2Qv2XfjfeS6p8V/gD4U1y%2BmGJdSvNFi%2B1sPTz1Ak/wDHq8mn/wCCQf7FdpO8/gjw/wCKvCu9i2zw3431CBVY9SFeVwP5V5OLwGb1aiq8sHUWinCUqcrdmpRnGS/uttdrbn02Qca8acO4SeX1aGHxuDm7yoVXNU3LbnineVGrbT2lGpCXR%2B0iuU7n4E/8FDf2Y/j4kPgez8YSeF/GVveSR3/gbxpB/Zuq20pWP935UpAlbg/6tm98V7NXx/49/wCCIH7L3xHtLTUPGvxi%2BLmptFLLHbLqXjOO6ECgIcJ59u5X73r2Fcj8T/8AgkD8aNK0SGw/Zk/4KCfEzS7ezh2WugeK/Et1Jakf3RLZvF5K%2BwialRx3E%2BGov6xhFUts4VIpv1i1a/8Ahl8h42vgM4x9OOVYN4Tn%2BJYjFUp0oPtGrCh7Rx7e1pXS3k7Xf3dRX5cD9lb9oT4Tf6P%2B1T8Bvjn41s4f9f4h%2BF3xim1NJh3KWEgS4A7/ADMOtbfgrwj/AMEQfG%2Bpf8I78S/E3izSdYBAudG%2BKHiPWtNlhJ7SO8iRD/v5WUOJa8pKM6MaUu1Wo4P8adn8pM9Cv4eeKfsnWwWWQxVJa8%2BGxNPFRt3f1eM6kV/jowffXQ/RTWviF4B8N5PiLxxo9ht%2B99t1OKLH/fTCuZ8V/tj/ALI/hu1tF179qL4eWjJbMGjn8Z2KuD5shxt83OfbFeOfDX/gmz/wSz8Saeus/DL4M%2BEvEFpgFbq08R3GpREdvmNxIDXp9h%2BwN%2BxH4ZtrKTSP2TPh6HNuWMlx4StZmz5jjO6RGOcAc16kaue1UpRjRSf96pL/ANJikfDVqfFVGq6VWjSpyW6k6116rkg0/VI5fXv%2BCoP7AHhzd/aH7UvhmTb1%2BwSS3X5eQj5rmZP%2BCw/7Cd3IYfCHj7X/ABHIDjZofgnUpCT6DfAoNe86D8Evgz4Wx/wjHwj8Madt%2B79g0C3hx/3wgrpY444YxFDGqqowqqMACr9ln0t61OPpTk//AEqa/Iz9jxFPevSj6U5v/wBKqL8j5g/4ek%2BE9V%2BXwL%2Bx1%2B0B4i3fcl0z4Zv5R9y0kq4Hvij/AIbv/ae1z/kR/wDgmR8S7jP3P7e1Sy0vP18wtivqGij6jmkvixbX%2BGnTX58wfUM3n8eNa/w0qa/NyPmXUv2i/wDgqJ4juFbSf%2BCdHh/w/mCII2v/ABas7n5RGoDEW6AjIwcdRnFQf2v/AMFjfEH/AB5eEP2fvD0bdf7Sv9Xu5VHt5Xyk/XivqvWP%2BPtP%2BvWD/wBFJVWksqrSXv4qq/SUY/8ApNMP7Hry/iYys/SUI/8ApNM%2BXv8AhU3/AAVk1/8A5C/7W3wz8P7uv9heA5Lvb9PtLDP40f8ADHn7eut8%2BMf%2BCo%2Btsrfei0L4Z6ZY7fYMrE/jX1DRT/sXCv451JetWp%2BjiH9g4OXx1KsvWtU/SUUfL3/DuHx5rI/4rX/gox8fLrP310fxbFp6t7YSFuKn1X/gkr8ArnVLmDxn8Yvi/wCJgtw6s2v/ABJupDJhjyxjCZJr6aq1rn/IavP%2BvqT/ANCNL%2Bwcob96lzf4nOX5zf5B/q5kr%2BKipf4pTl/6VUf5Hy3p/wDwR6/4J42c/wBsvvgK%2Bo3H8U%2Bp%2BKdTnZvqGudv6V1eif8ABNj9gzw/t%2BwfsqeDpNvT7bpYufz84tmvb6K1hkuTUvgw1Nf9uR/yZpTyHI6TvDC01/25H9Ys8/0T9k39ljw1j/hHv2avAFiV6Gz8HWUZ/NYhXceCvBng/wAOa1ZDw94T0ywxdR4%2BxWEcWPmH90CrFWtD/wCQ1Z/9fUf/AKEK7I4fD0l%2B7hFeiS/JI9ClhsNR/h04x9IxX5JFWiiitzYKKKKALWj/APH2/wD16z/%2BinqrVrR/%2BPt/%2BvWf/wBFPVWl1AKKKKYBVrT/APj0vv8Ar1H/AKNjqrVrT/8Aj0vv%2BvUf%2BjY6T2Aq0UUUwCuo%2BG3/AC%2B/9s//AGauXrqPht/y%2B/8AbP8A9mrOr/DY1udRRRRXGWFFFcNZftJfBrUPi1L8ELTxXM3iKK7e0MR0e7W0e7S2W6e0S8MQtpLlbdhM1usplWMMxQBWIAO5orzrT/2sv2ftR1/XvDqfEFYJPDdvqM%2Bq3t/pl1bWIj0%2BUQ37RXk0S29z9mlIjn8mR/Jf5X2niqOofto/s46d8M/D/wAXZfGt/Nofim1nudEks/C2pXFzNbwKWnna0it2uIYogP3kkkarHld5XcuQD1OviL9pf/iq/wDgsD8I9A%2B9/wAIn8Pde1vb/c%2B1JHZ7vxxivtfTtRsNX0%2BDVtKvYrm1uoVmtrmCQOksbAFXVhwykEEEcEGvigf8VX/wWg8fa2fmXwn8FNL0f2Rrq8F3%2BBIH5V5uY%2B86FP8Amq0//JXKf/tqPv8Aw/8A3NTNcZ/z6wGKfzqRpUF9/tpI%2BjaK%2BeviL/wVW/YJ%2BE/jrVvhp8QPjx9g1vQ76Sz1Sy/4RfVJfInQ4ZN8dqyNg91JHvWL/wAPmP8Agmz/ANHH/wDln6x/8h12Tz7I6c3GWKpprRrnjo18znoeF3iXiqEK1HJcXKE0pRksPVacWk001CzTTTTWjTT6n0/RXz18Ov8Agqt%2BwT8WPHWk/DT4f/Hj7freuX0dnpdl/wAIvqkXnzucKm%2BS1VFye7ED3r0H9rX4meNfg3%2BzX40%2BKHw60%2Bwutb0TQpbnTotTnaOASDA3sVRydoJYLtwxUKSoJYdmFx2Cx0HPDVIzS0bi07Pe2h8/nnDXEfDNeFDOMHVw05rmjGrTlTcle10ppNq%2Bl1pfQ9O1z/kNXn/X1J/6Eaq189eOP24viHocniG5n%2BB2kNfWfxAvPDWmadb%2BKdQu5dRntYZpruZIrLSZ7jyk2RqpWFs7naTyVQF%2Bc8If8FA/FnxC1K2T4U/B86xJ4jtYNQ0i28Q%2BK47CG0t28N6brG0tDYyuuRemPB84%2BYM7lRtse6krI8WzPqiivMbr4/andfsrap%2B03o/hWFbX/hX58T6BYyXbSSzxnTReLHMoRRG28mPCs4IAbcC21cH9nnxj8Wrf4g%2BJfhP44%2BI8vjK4sfAHhzxLY6tqFhaWrC41F9UhltgLSGNPID6aroWVpAJmDO%2B1TVXQj3bQ/wDkNWf/AF9R/wDoQqrXyd8A/jJ%2B0t431af4XeJ/H3jiy8Tx%2BEND17U1uPBWl2Gp22qtNdLfaRpYvYobSWNmgRYLicTx4WU%2BfLnfFUn%2BOX7Rg%2BA/hb40t8WtS86w1mLTfFljBoelC30zyddns7ybW96GclIoTbMNOjRVuYJ5AzQsrxTzK47H15RXzH8OvH/x2TW/EvgX4xfFrxl4S8R6snia68Lah4n0LQH0K20uz1Yol1a/ZkSfzIbKW1I%2B2uFbzGkKzBGx6b%2Byb4r8feNfhzfeI/GPiHUdZ0248QXJ8G67rOnwWt7qmj4TybqaKCKGNd8nnGMrFHvg8lyuWJNJ3FY9Pq1o/wDx9v8A9es//op6q1a0f/j7f/r1n/8ART0PYCrRRRTAKKKKALWn/wDHpff9eo/9Gx1Vq1p//Hpff9eo/wDRsdVaS3YBRRRTAKtQ/wDIFuP%2BvqH/ANBlqrVqH/kC3H/X1D/6DLSYFWiiimAUUUUAWpv%2BQLb/APX1N/6DFVWrU3/IFt/%2Bvqb/ANBiqrSQBRRRTAKtah/x6WP/AF6n/wBGyVVq1qH/AB6WP/Xqf/RslJ7oCrRRRTAK7zwZ/wAi1bf8D/8AQ2rg67zwZ/yLVt/wP/0Nqxr/AADjualFFFcpYUUUUAFFFFABRRRQAUUUUAFFFFABRRRQAUUUUAFFFFABRRRQB4p8Sf2uNT8CfFa%2B8J2Pwzhv/DPh7WvDuj%2BLfEb68YbiyvdZuo7e2WC08hhcJGbi1eZ2mi2pPlBIUZam%2BL/7Tnj/AODvxJ0/Qtc%2BCcD%2BGNW1o6RpOuHxSovr%2B7Glz6g0kNikDg2qC3kieR5klVo5H8lo1WR6nxY/ZC174g/EnVPFPh/4qWulaF4i1Xw/q/iXQbnw611Jdaho1wlxZyRXC3MfkxO8Fok8ZjkMkdvtR4S7NU0v7OHxlvf2i7/45av8aPDF5a3GlRaXpWn3XgGeS70KzMCC6SynbUjBE89wrTPI9tIzKIYn8xYEoAufsa/tN3/7Vnwwh%2BJtzZ%2BBrWO6srKdbLwb8QTr0lk88Ama3vM2dt9mnQOgMfzk5PTAz6B8Q/8AkCxf9fS/%2BgtXD/AT9nvxj8M/HWt/E/4k/EjSvEOuav4a0fQEbQPCf9jWkVjpz3kkJaD7RPvmZ76bcwZIwqxqkUYDbu88d3V1Z6RHLaXMkTG5ALRuVONrccVdP40J7HE0Va/tzWv%2Bgxdf%2BBDf40f25rX/AEGLr/wIb/GuzUgq0Va/tzWv%2Bgxdf%2BBDf40f25rX/QYuv/Ahv8aNQCb/AJAtv/19Tf8AoMVVa05dY1caRBKNVudxuZQW89skBY8Dr7n86rf25rX/AEGLr/wIb/GkrgVaxvGnw6%2BH3xI03%2BxviJ4E0bXrMgg2mtaZFdR89fllVhXR/wBua1/0GLr/AMCG/wAaP7c1r/oMXX/gQ3%2BNKUVOLjJJp9HqvxTNaFevhqqq0ZuElqnFuLT8nFpr5NHzT4w/4JQ/sK%2BKNROvaT8Gz4Y1MEmLUvB%2BsXWmyQk/3UhkEY/74qhef8E8vjX4Et7R/gV/wUe%2BLejqYC0Fr4umt/ENvB%2B8cBEjnVMJx90k9TzX1L/bmtf9Bi6/8CG/xqzfaxq6W1myarcgtbEsRO3J81xk8%2BgH5V5U8iypy5o0VBvrByg//JHH8j7ij4oce06SpVsfOvBaKNdU8TG3a2Ip1ml5KSPkseB/%2BCungT/kAfHL4PePI06/8JV4au9LmlHt9iJQN9eKP%2BGjv%2BCmPgwY8bf8E%2BNF8SRL/rb3wd8S7aPHusNym9vpmvqv%2B3Na/wCgxdf%2BBDf40f25rX/QYuv/AAIb/Gl/ZNWH8HE1Y%2BslNf8Ak8H%2BZp/r7hsT/v8Ak2BreaozoS%2B/DV6a/wDJEvI%2BVP8Ah5P4i8N/J8VP2BPjtou3/WXWn%2BEE1G1j9cyxSjj8Kktf%2BCv37DVvOtl418d694VuHOBb%2BJPBmowMD6ErCyj8TX1P/bmtf9Bi6/8AAhv8aju9Qv7%2B3a0vr6aaJxh4pZSysPcHg0fVc7h8GKjL/FSX5wlH8g/t3w5xP8fJalN96ONqfhGvQqr5c3zPGdN/4KOfsI%2BMrmN9F/av8EoGt4VH9o63HZ8iNQR/pBTHIxXb%2BHfjl8FPGG3/AIRL4weFtU3/AHP7O8QW0%2B76bHOaZ4%2B/Zo/Zy8bXWPGPwB8FarvtoS51LwtaTkkxKSfnjPOec15p4i/4JifsCeKNx1P9lrwvFu6/2dBJZ/l5Dpj8KE%2BIILalL51I/pJBy%2BFGI%2B1j6L9MJWX4OjJ/ge7I6SIJI3DKwyGByCKWvmIf8EhP2JtLcyeBfC/ijwu5OQ/h7x1qURU%2Bo3zPipk/4Jrpowz4E/br/aM0Db9yGy%2BKEjQj6o8RyPxp/Ws7h8WFi/8ADVX/ALdBB/YnhxX/AIWdVYf9fcDP/wBw4mZ9L1a1z/kNXn/X1J/6Ea%2BX/wDhjD9rzRv%2BRM/4KnfFKDH3P7c0%2B01L8/M25qbUfgJ/wVS8N6jPb6R/wU5sNZEUzqqaz8KLK3BwSOTBJml/aWPi/fwc/lKnL/29fkH%2Bp/DNX%2BBxDhv%2B36WMpv8AGhUS%2B8%2BkKK%2Baf7J/4LMaL/yDPj58GNb29P7Z0bU7bd9fs7HH4Uf8LF/4LPaN/wAhLwF8EdZx1/sjxHq1vu%2Bnn5xR/a8l8eGqr/ty/wD6TNh/xD9VP4GcYCf/AHNcj%2B6ph4fmfS1WtD/5DVn/ANfUf/oQr5f/AOGmv%2BCsOj/8hH9hXQNYx1/sn4uwW%2B76eepxU2nftz/t/aZqMH/CUf8ABMfxdxMu6LSvibp19v5HyjaBnPSh53hEvehUXrSq/pFh/wAQ04hn/Br4Sp/hx2Df4SrQf4H0hRXzT/w8n%2BPWm/8AIy/8E8/jtFj739l2EV7%2BWyUZo/4evwWfHiT9kD9pPScfea%2B%2BG0u0fis5yKP7eytfFUt6xqL86Yf8Qs47l/Dwin/gr4Wf/pOLv%2BB9LUV80j/gsT%2Bz9a/8jDofxW0jH3v7S8CXy7frtDU6P/gtT%2BwhG4i1j9oDWNMkPATUPCuroc/hbkU/9YMk64mC9ZW/NIT8KPEz7OT4mX%2BGk5/%2Bm5TPp7R/%2BPt/%2BvWf/wBFPVWvCPD3/BX79gXUpyR%2B1nYKpglA%2B1219F83ltt/1kI5zitbT/8Agpz%2BxXqePs37YfhVc/8APx4gEP8A6GRWkM5ymb93EU3/ANvx/wDkjgr%2BHfiBhv4uUYqPrh6//wAqZ7DRXnWn/t7fsn6pgWH7ZHgCQnon/Cf2Qb8jNmtqw/au%2BCGq4/sz9pPwpc56eR4xtnz%2BUtdMcdg5/DVg/Scf/kjya3DXEmG/jYGvH1oVl%2BdFHV1a0/8A49L7/r1H/o2OsSx%2BM3hPVMf2Z8V9OuM9PI12N8/k9b%2BkeJLy/srya21%2BScLbAq8d0WwfNQZBB9CfzrdTjNe60/Rnl1cNiKDtVhKPrFr80ijRVr%2B3Na/6DF1/4EN/jR/bmtf9Bi6/8CG/xq9TAq11Hw2/5ff%2B2f8A7NWD/bmtf9Bi6/8AAhv8a6PwBfXt79r%2B2Xksu3y9vmyFsZ3dM1nVvyMa3OjooorkLCvlqD4M/HHQvjRpmmJ8J7680Hw98btW8ep4ptNVsAl9aXuk3tstnHFJcJMtylxqLK29Fi8i2YrIzusdfUtFAHyl4O%2BAnxV8H/tNN8QtP%2BGPjSLwp4Qu/Fuq6doT%2BJ9GubPVbvVbpZtumLuhnTz2kuLiVdQdEt5SsUDNES45z4V/DH9p/wACeAfh54yf9lrXZta8KeCPGHhK/wDCd34g0RZnfVbrTb22v1lS/eA2ytp/kyDzPOHnFlicL832hRQByXwC%2BHd98IPgV4K%2BE2qakt7c%2BF/CWm6RcXiZ2zyW1rHC0gzzhihPPrXyl%2By9eQeJP%2BChX7VPxFlsYrlD4h8O6HbNKXxH9i00pIo2sOrMCfcV9tV8TfsA6NdQ%2BJP2gvFWoZabVf2kfFSxyEdYLedLeNfwMbivPxEXUzPCR6Jzl91Npf8ApR97wzUhhuDs/rX96VLDUl6VMXGUvwoK59J/2haf9AO1/wC%2B5f8A4uj%2B0LT/AKAdr/33L/8AF183/EX/AIKD/wDCu/HereBv%2BGIP2htd/sm%2Bktv7Y8OfDT7VYXmw482CXz18yM9Q2Bkdqxf%2BHnX/AFj1/ag/8NN/9011TzrKYTcZVNVp8NT/AOVv8z8mnxBk9ObhKrqtH7tTp6Un%2BbPqr%2B0LT/oB2v8A33L/APF1kfEDwn4J%2BKPgjVvhz468H2t9o2uWEtlqdoLq5iMsMilWUSRyq6HB4ZGDKcEEEA14N8Ov%2BCg//CxPHek%2BBv8AhiD9obQv7Wvo7b%2B2PEfw0%2By2FnvOPNnl89vLjHUtg4HavVP2hPHfiv4W/BfxD8TfBmlW99d%2BHbH%2B057G4heT7RaQMst1HGqMp85rdJhHyQJChKsAVPXhsXhMbByoy5ktHpJf%2BlRj%2BTO3B4/CY%2BDlh5cyTs9JLX/t6MfyfqR%2BI/2Vf2e7pxo938PJ5FsfEN5qkd2fFWrLdS3U6GG4aWdbsSTLMnEkTs0cn8SmqXw6/ZK/Zp%2BFD2UngT4SxWbadAYbJpdf1O4MMRsYLDYPOun%2BUWttBEq9FWMbcHJPg3x2/wCCiHxX8NReIfiL8ONA0LVtB0281nVo4k0zzDNoNpqCafFcPcy6jbpH9puIb1opIY7lmjeDFu2C0mR4E/ai%2BMujfEC9%2BG%2Bh6tZ3Ooa1491jS9N1vxRNfX0Ono/jTxBbIHtxdRo8cdtZJDEimNsmJPM2KqDZclkdup9e%2BDPh98PfAHg6H4feGfBsKaJb6bBp8GmXmo3l1DFaw26W0cKrPM%2B1PKjUED7x3M25mZjj/DX4B/Bn4Q2zW3w/8Ez2Yea3d5ZvE2qXMrpBE0UFu0k907m2jR2CWxPkpuJVAea4b9hfxN8Q/GvwSPijx14zttYkk8YeK4HmjWaQl4fEuqRJ5U0kzf6MsKRRxRbfkSNQGIwo4D9lLxn4x1H4o%2BBNW1Lx7rup3XjzwX4s1Txnpepa3Pc21lfWWsafDCsEEjtHZCA3Nza%2BXCsYcKN4Zo9wr3dBans3hj9jz9mjTrNfCum/DGa3hub7T3hu4vFer/bLAWjP9kSzujdmayjg82YRRQPHHGJpAqgSODAf2Qf2ZD/ZoT4Soi6bDFF5cXiPVES/SO7kvUF8q3QGo4uppp83QlJknlc5MjlvBNG8W/EDw78eLvQfiJ8VvEmjaRrjeO5fE3jqy8fQXGn2ek2l6ptbixtzLKunTWELRWkzGCErMzbvPciRTXvDfxGu/gh4gfT/AB34v0vUNSfWdf8AhZ4N8T/FPU9L1GDRobKwha5u7oGS8mkinMt2lpPKEQaikM/lmMeTPu32DU931n9jn9mTxDb63Z6z8Lpp4PEFnd2l7A3i7WBHBb3Vwlzcw2qi8AsY5po42kS2EQk2AMCBiu68BeD/AAt8N9FfQfDtlqNxBJcNOz694o1PVZgxVVIE17cyyKuFGEDBQckAFiT8keCPiZ8V5fjl4J8XQeJvEev2ni7xnpdpaai/imKOwGjz%2BFFu3sbnR0uD9m1BZke/ZvIyI3Qi4KMIK%2ByKpKLB3LX9oWn/AEA7X/vuX/4urOlX1q1ywXR7Zf8ARpjkNL/zybjl%2B/SsyrWj/wDH2/8A16z/APop6bSsIP7QtP8AoB2v/fcv/wAXR/aFp/0A7X/vuX/4uqtFOyAtf2haf9AO1/77l/8Ai6P7QtP%2BgHa/99y//F1VoosgNOxvrVra8I0e2GLYEgNL8371OD8/48elVv7QtP8AoB2v/fcv/wAXRp//AB6X3/XqP/RsdVaSSuwLX9oWn/QDtf8AvuX/AOLo/tC0/wCgHa/99y//ABdVaKdkBa/tC0/6Adr/AN9y/wDxdWYr61OkTv8A2PbAC5iBXdLg/LJz9/P/AOusyrUP/IFuP%2BvqH/0GWk0gD%2B0LT/oB2v8A33L/APF0f2haf9AO1/77l/8Ai6q0U7IC1/aFp/0A7X/vuX/4uj%2B0LT/oB2v/AH3L/wDF1VoosgNOW%2BtRpED/ANj2xBuZQF3S4Hyx8/fz/wDqqt/aFp/0A7X/AL7l/wDi6Jv%2BQLb/APX1N/6DFVWkkgLX9oWn/QDtf%2B%2B5f/i6P7QtP%2BgHa/8Afcv/AMXVWinZAWv7QtP%2BgHa/99y//F1Zvr61W2sydHtjm2JALS/L%2B9fgfP8Ajz61mVa1D/j0sf8Ar1P/AKNkpNK6AP7QtP8AoB2v/fcv/wAXR/aFp/0A7X/vuX/4uqtFOyAtf2haf9AO1/77l/8Ai67XwlIkvh%2B3kjgSMHfhEJwPnb1JP61wFd54M/5Fq2/4H/6G1Y1klEqO5qUUUVzFBRRRQAUUUUAFFFFABRRRQAUUUUAFFFFABRRRQAUUUUAFFFFABRRRQAVg/EP/AJAsX/X0v/oLVvVQ8RaJ/b1ktn9q8rbKH3bN2cAjHUetVBpTTYnsefUV1H/Ctv8AqNf%2BS3/2VH/Ctv8AqNf%2BS3/2VdXtafcmzOXorqP%2BFbf9Rr/yW/8AsqP%2BFbf9Rr/yW/8AsqPa0%2B4WZgzf8gW3/wCvqb/0GKqtda/gDfZR2f8Aa3%2Brld93kddwUY%2B9/s/rUX/Ctv8AqNf%2BS3/2VJVYdwszl6K6j/hW3/Ua/wDJb/7Kj/hW3/Ua/wDJb/7Kn7Wn3CzOXq1qH/HpY/8AXqf/AEbJW9/wrb/qNf8Akt/9lUtx4A8%2BKCL%2B1seTEUz5HX52bP3uPvY/Ck6sL7hZnJUV1H/Ctv8AqNf%2BS3/2VH/Ctv8AqNf%2BS3/2VP2tPuFmcvRXUf8ACtv%2Bo1/5Lf8A2VH/AArb/qNf%2BS3/ANlR7Wn3CzMHWP8Aj7T/AK9YP/RSVVrrbzwB9rlEv9rbcRImPIz91Aufve2ai/4Vt/1Gv/Jb/wCypKrC24WZy9FdR/wrb/qNf%2BS3/wBlR/wrb/qNf%2BS3/wBlT9rT7hZnL1a1z/kNXn/X1J/6Ea3v%2BFbf9Rr/AMlv/sqlvvAH229mvP7W2%2BbKz7fIzjJzj71L2sL7hZnJUV1H/Ctv%2Bo1/5Lf/AGVH/Ctv%2Bo1/5Lf/AGVP2tPuFmcvVrQ/%2BQ1Z/wDX1H/6EK3v%2BFbf9Rr/AMlv/sqlsfAH2K9hvP7W3eVKr7fIxnBzj71J1YW3CzOSorqP%2BFbf9Rr/AMlv/sqP%2BFbf9Rr/AMlv/sqftafcLM5emyRxzIY5Y1ZT1VhkGuq/4Vt/1Gv/ACW/%2Byo/4Vt/1Gv/ACW/%2Byo9rT7hZo4iH4dfD7WbqQav4F0a7zbTk/adLikz%2B6f%2B8prmdQ/Zr/Z01bP9q/ALwVc56/aPCtm%2BfzjNexWfgD7JKZf7W3ZidMeRj7yFc/e981F/wrb/AKjX/kt/9lWMoYSb96KfrFP80z0KGa5vhv4OIqQ/w1Kkf/SZo8Gv/wBiD9jLU8m9/ZN%2BGzserjwRYK35iIGsW/8A%2BCcP7COo5%2B0fsp%2BC1z/zw0dIv/QMV9J/8K2/6jX/AJLf/ZUf8K2/6jX/AJLf/ZVzywOUz%2BKjB/8Abkf/AJE9ajxpxph/4WZ4mPpiK/8A8uZ8pX3/AASm/wCCe2o5%2B0fsw6Kuf%2BeF3dxf%2BgTCqCf8EbP%2BCcF7FdXI/Z28iWKANHJbeLNWjKnzEHQXWOhPavrz/hW3/Ua/8lv/ALKpbfwB5EU8X9rZ86IJnyOnzq2fvc/dx%2BNc88nyCe%2BGp/8AgEf8j1KXif4mUNKedYtf9zNb9Zs%2BMj/wR/8A2KIP%2BQP4e8V6d6fYvHWorj/vqY0f8Om/2fLf/kEfFT4s6f6fYviNdLj/AL6zX2R/wrb/AKjX/kt/9lR/wrb/AKjX/kt/9lU/2JkHTDwXomvyaNv%2BIreJb%2BLNq8v8U1L/ANLpzPjf/h1t4Og/5BP7Yv7Qun%2Bn2P4oyLj/AL6hNe8fsS/syzfs5f8ACTI/7Q3xM8eJq/2LYPiN4o/tM2Hlefn7OfLTy9/mDf1z5adMV6h/wrb/AKjX/kt/9lWp4b8N/wDCPed/pvnedt/5Z7cYz7n1q6eWZVh5qpRp2kttZ/k5tfgcGacfcY53gZ4PH4t1KU7XThQu7NNe9HDwmtUtpq%2Bzurp6lFFFdJ8iFFFFABRRRQAV4z4W%2BEHhX4L3WvaF4TlupI9Z8Van4gvZLyRWdrvULqS8mA2qoCK8xRBjIRVBLHLH2asHWvBP9r6nLqP9p%2BX5m35PJzjCgddw9KqnGmqqnJaq9n2va/32N44rE08NPDwm1Cbi5LpLkbcb/wCFybXm2cbRXUf8K2/6jX/kt/8AZUf8K2/6jX/kt/8AZV1e1p9zlszl6ZPBBdQPbXMKSRyIVkjkUFWUjBBB6gjtXV/8K2/6jX/kt/8AZUf8K2/6jX/kt/8AZUe1p9wszy3xX%2Bzf%2BzvqptfDeqfAXwXc6doFncaVoVhceFrR4dOsHXyntYEMe2GFowEMaAKVABGOKin/AGffgLc6Lc%2BGrn4I%2BEJNOvI9l3p7%2BGrUwTr9pe72uhj2sPtMkk%2BCP9a7P94k165feAPtt7Nef2tt82Vn2%2BRnGTnH3qi/4Vt/1Gv/ACW/%2BypKpTsFmee%2BE/hx8PPAMK2/gXwHouixpG8aJpOlw2wVHmkndQI1GA00sspHd5HY8sSall8Gvg/pup6xrWnfCnw1b3niGVJfEF3DoVukupur71a4YJmYhiWBckgnPWvTf%2BFbf9Rr/wAlv/sqP%2BFbf9Rr/wAlv/sqftafcLM8ztfgD8CNY8Q6rdav8FPCN1J4taKDxVJc%2BG7V21mIMMR3ZaM/aV4HyybhxWP/AMMs/sx/8I0vgz/hnLwH/Y63/wBuXSf%2BEQsvswutnl%2BeIvK2eZsAXfjdtGM4r2mx8AfYr2G8/tbd5Uqvt8jGcHOPvVF/wrb/AKjX/kt/9lS9pTuFmedQ/C34ZW/jtvijb/DrQo/EzWQs28RJpEIvzbjGITcBfM8vgfLuxwOK3a6j/hW3/Ua/8lv/ALKj/hW3/Ua/8lv/ALKn7Wn3CzOXq1o//H2//XrP/wCinre/4Vt/1Gv/ACW/%2ByqWz8AfZJTL/a27MTpjyMfeQrn73vmk6sLbhZnJUV1H/Ctv%2Bo1/5Lf/AGVH/Ctv%2Bo1/5Lf/AGVP2tPuFmcvRXUf8K2/6jX/AJLf/ZUf8K2/6jX/AJLf/ZUe1p9wszB0/wD49L7/AK9R/wCjY6q11tv4A8iKeL%2B1s%2BdEEz5HT51bP3ufu4/Gov8AhW3/AFGv/Jb/AOypKrC%2B4WZy9FdR/wAK2/6jX/kt/wDZUf8ACtv%2Bo1/5Lf8A2VP2tPuFmcvVqH/kC3H/AF9Q/wDoMtb3/Ctv%2Bo1/5Lf/AGVSp4A2WUln/a3%2BslR93kdNoYY%2B9/tfpSdWHcLM5Kiuo/4Vt/1Gv/Jb/wCyo/4Vt/1Gv/Jb/wCyp%2B1p9wszl6K6j/hW3/Ua/wDJb/7Kj/hW3/Ua/wDJb/7Kj2tPuFmYM3/IFt/%2Bvqb/ANBiqrXWv4A32Udn/a3%2Brld93kddwUY%2B9/s/rUX/AArb/qNf%2BS3/ANlSVWHcLM5eiuo/4Vt/1Gv/ACW/%2Byo/4Vt/1Gv/ACW/%2Byp%2B1p9wszl6tah/x6WP/Xqf/Rslb3/Ctv8AqNf%2BS3/2VS3HgDz4oIv7Wx5MRTPkdfnZs/e4%2B9j8KTqwvuFmclRXUf8ACtv%2Bo1/5Lf8A2VH/AArb/qNf%2BS3/ANlT9rT7hZnL13ngz/kWrb/gf/obVl/8K2/6jX/kt/8AZVvaLpv9kaZFp3neZ5e759uM5Ynpk%2BtZ1ZxlGyGk0y1RRRXOUFFFFABRRRQAUUUUAFFFFABRRRQAUUUUAFFFFABRRRQAUUUUAFFFFABXz38WP2o/ip4O%2BLOux%2BG7Hw8fB/gvxP4T0HxHaX1hO%2Bo38%2BtXdvA01vOs6x26W6XltJtaGUzFZUzH8rV9CV5b47/ZM8B%2BP/imPidqXinxBaxXF9o99rfhqyuLddO1i70q4%2B0afcXAeFpg8Mojb91LGsnkRLIJFQCgD1KiiigAooooA%2Bf/AIc/tK/EPXf2qvEXwj%2BIHirRdE0q28WXOk%2BE9Gn%2BHGqxT62kWmQXm6LWZLr7FJMC1w5gSIyeVbOcAKzj6Arze6/Zr0rVPjBp/wAWPEPxS8X6pb6Nrkus6F4T1C/t5NM03UJLKSyaeL9wLnHkz3AWF52hRp2ZYwQhX0igAooooA4n9pDxl8Rvh58CPFfjv4T6fotzr%2BjaLPe2MfiGSUWa%2BUpd3kEPzybUDMIwU8xgE8yMMZF8V8Oftk/GTXNcg8XSaX4Yj8JaZ408K%2BEPEWnDTrg6hcahrOm6ZdC7t7j7R5cUMcms2SeS8UjMscx81flFe9fGP4at8Yfhpq/wzbxzrPh2HWrJ7S71PQEtDdLBIpWRF%2B1wTxDcpKkmMkA5UqcEeZeBP2DPAvgnWdJ1O6%2BLnjbW7fTtRsNTvdK1WbTltdX1Kxt1trK%2BuVtrKJjLDBFaxqImjjb7FbtIjuhdgD3OiiigAryz9sT4sfFX4JfBmT4jfCfSdAurmy1ixTVD4hacxxWUtwkUhijhKmWUl1VQzoq7i5L7BFJ6nXA/tHfAWD9o/wCHMnwy1H4n%2BJPC9jcXUM15P4YSwM1wIpFkSNje2twqqHRG%2BRVYlQN2CQQDz34GftK/EPxv8f8AxB8NviZ4p0XSIoPEmt6f4a8Nv8ONVs7jUbazm2pNFq090bS7fysSvFDFuCtuwqqTX0BXlfhH9lm20L4haR8RPF/xx8d%2BMZvD9xd3eh2Hii8sXt7K9uYWhnuk%2Bz2kMhZkknVY2cwxLO6RRxoEVPVKACiiigDxj9sz4vfHH4HeBJviR8LW8INZ6bp0zjSdes7q5v8AxHqrPEljo1kkMsSwy3Ls8YnYzFXaP9wy7iMP9lH9qP4qfGDXPCEnxIsfDy6b8TvhcvjzwdFolhPBPpdn5tqDZ3byzyrcyiLUbM%2BdGsKllmHl42mu2%2BMv7NKfF/4k%2BGfilB8afF3hnUfCVreRaPDoUGkz26SXIRZLkx6hY3IFwI0MSyrtZY5ZkGBK%2B6L4GfsmeA/gJria14e8VeINVTT9AXQfDFjrdxbvD4e0hZfNFhaCGCNvKyIl3TNLJtt4V34QCgD1KiiigAr5y/bo/aK/aV/Zv0pvGXwr03wZq0E/2Wz8O%2BDrrTb271nxBdu0jXkkZhniWCK0tl%2B1MoSYypBMpaAlGr6NryT4i/slwfED4yXfxpg%2BPnjzQb688Nx6C9joUmlrFBYiR5JUt5ZrGS6tHmZwZJIJo5GMMJDAwxlQBf2SPjV4g%2BMfhS%2Bm8a%2BPdJ1TXbA2p1LS7D4f6n4bn0zzoFkVZbbUriaaRW%2BYpOu2Nwp27tpNetVwfwe%2BA1h8Jta1zxdqHxE8R%2BLvEHiGOzh1PxB4oe0%2B0Pb2qyLb26rZ29vCqIZp34j3M0zlmbIx3lABRRRQB8pftb/tiftE/s2/GHw54GsdP8IXlr488U2OgeF7a78OamiWBvpo7O2vJ9SaZLa8lW7fdJpdui3At90wkCRs59n/AGc/if41%2BIFl4s8MfEkaXJ4g8EeMZ9B1S%2B0SzktrS9xbW15DPHDLLM8Obe8hDIZZMOr4YjFcn8V/2C/h58ZvEf8AbHjT4qeOnsbXxN/wk2gaDFqtt9l0PXhCYotTtWe2adZIizyJFJLJbLI5byemPRfg58H9F%2BDXh6%2B0jTvEGqaze6vrFxquua7rbwm71K8m2hpZPIiiiXCJHGqxxoqpEiheKAOtooooAK%2BN/jh%2B2d%2B1v8KP2gNO%2BCEdp4Vl/tW6ae8vbH4V%2BINROi2XmDyvIjjuY5NfJjkiEs9mscdrLtjlXdPGB9kV4bJ%2BwzpSeLrHxzpn7SXxQs9S0GO%2Bg8IzxavYSf2Fa3lxHPdWsYmsnF3FIYYF2332oosMfllGUNQB6Z8GvG9p8SPhdovjey8Zab4gTULISNrGkaZLZW9w4JV9tvNJLJbkMGVopHZ0ZWVsEEDpq5r4Q/Cvw38Ffh5YfDfwrcXk9rYtPLJeajMJLi7uJ5nuLi4lZVVTJLNLJI21VXc52qowB0tABRRRQAUUUUAFFFFABRRRQBifErxvY/DP4c6/8SNTtZJ7bw/ol3qVxDEcNIkELSso9yEIFeY/szfGz4xeMvG2ofDX43x%2BG5NUTwLoHiuyuvC%2Bn3FtDFDqT30T2TrPPMZHgksj%2B/BQSrMv7qMqc%2Bv65ouleJNFvPDuu2Md1Y39rJbXltKMrNE6lXQ%2BxUkH61wPwF/Zm8MfAS6vdVsfG/iTxJqN5o2m6Mmp%2BJ7m3lnt9LsBP9jskMEEIKRm5uG3uHmdpmMkjnGAD0iiiigArgf2pfiN44%2BEX7OnjP4nfDTR4L/X9D8P3F5pFndafNdxyzouVDQwOkkoz/AjKx6Aiu%2BrK8c%2BFR448Iaj4S/4SPVdIOoWrQpquh3v2e8tGP3ZYZMEK6nBGQynGGVlJBAOS/Zu%2BKF38UvBuoXur/EHTNf1LS9aksNT/s/wRf8Ah2SwlEUUgt57DUJ5riKXZKkoLlQ8c0bKu0hm9CrjPg38FdK%2BDsOvXSeL9a8Rav4o1oar4h8QeIGtvtV7cLbQWkeVtYYYI1SC2gjVY4kGE3HLszN2dABRRRQB8%2B/te/tXfE79l/xlFrg8KaFf%2BCrb4ceJvEF8rTTHU7q70qxe88mMjEUEWxVXcRKzmU8RCPMvW/AT4m/FvVPiL4u%2BCnxxn8OXmv8AhnTdI1RdU8K6ZPZ2k1rqC3KrGYZ553Ekc1lcgv5mHQxnahyKr/Hz9j/w7%2B0X4203xR44%2BLHiy30uw0q90yfwlp8el/2df2l7F5N7DMZrKS5Inh/dsUmQqvMZRvmrofgr8AtJ%2BDNzrGtS%2BPfEXivW9d%2BypqXiHxVPbPdyQW0XlW9v/o0EMYjjDSMPk3M80jMzMxNAHeUUUUAFfM/7Sf7Un7Sfwl%2BI3jbwn4S8LeGJrHTPB2k6t4VddHv9VvHM%2Bqw2VzNcwW8kTSKiySstvD82IQ5lPmGOP6Yrx3x3%2ByHc%2BOPjFffGiL9pv4k6JfXejR6ZFp%2BgzaRBb2lvHMJ41jZtPac4nAkIkldZOY5A8LNEQDp/2dviVL8Uvh4devfHum%2BIL221K4s9Rn03wle6EbWeNsG3msL6aW4t5VBXKyMCQysFAYZ7uuQ%2BDfwb0b4M6NqllZeJdW1zUNd1ubV9e17XXgN3qN5IkcXmOLeKKFNsUMMSrHGihIl4zknr6ACiiigD5Q%2BIn7Vn7Vvg79qnwn%2By3Zy/Dm41Dx/fX8dtfWei391F4LjhjubyzXUD9riN/Le2NjfNGqC02S2r/wCsTDH3T9mr4q6z8Zvg5p3jjxNp1ra6st7qGmaxFYbvs5vbC%2Bnsbh4g5LCJpbaRkDEkKygkkZPn2m/sC6Npd9darbftIfEX7ZJ4wufFVjfNFoX2iw1ifzEe7SX%2By98xFrNNZLHcGaNbWTygnyRFPWfhL8L/AA18Gfh3pnw08JPdSWWmRMBc30wkuLqV3aWa4lcABpZZXeRyAAWdiABxQB0dFFFAEd01ylrI9lCkkwjJhjlkKKzY4BYAlQT3wceh6V8W%2BKP23P2tvBXxxf4P%2BK9Z8CLpWlaOLrxX478M/CjX9esNI1HyTLNozQ2l8JDJbx%2BTM92xRTHdR7oYSrZ%2B0NRtJb/T57GDUJrR5oWjS6ttvmQkggOu9WXcOo3KRkcgjivCPBv7B0/gHwBZfDbwt%2B2B8WrTTbCyntIhDLoKNLHPk3LzbNKAuJ5XPmtcyh7gSb2WVDLN5gB7h4b1a01/w7Ya7p%2BsWmowXtlFPBqFh/qLpHQMJY/mb5GBDL8zcEcnrV2szwT4O8O/DvwZpHw/8IaeLTSdC0y30/S7RXLCG2hjWONMsSThFUZJzxWnQAVleNz42HhHUR8N10o68bVhpJ1tpBaLORhWmEQ3sgPJVcFsY3LncNWsT4keBNP%2BJvgbU/Aep6vqenxalbGL%2B0NGvTb3dq%2BQySwyDO11YKwyCpIwwYEggHx54a/4KJftEa3c/FWeKx8IS6d8D9Ps9Z8VzXvg7U9Lvtf064ec%2BXFYXN55%2Bi3Ecdje4F0JzMDayrGscwNfb1fPf/Dub4ZXPiXxB4w1v4ueO9R1PxvcWrfEi5ubvTkHi%2BC2EK21reJFZIkcMUcPlKLVbdmSWUOzmRifoSgAooooA5b4zap8RdF%2BH17q/wAMLjS4NRtds011q2jXmpJBaod87R2VkVnvJvLVhHBG6M7lQDn5W%2BYv2VP28vjP8ZviKmmfFrX/AAv4Y0Z/EK6RpCL8MdZA12TEqj/iYvem20y5keMj7BcK88Mge3fdKjV9QfFb4aRfFPw1DoS%2BNNd8O3VpqMF9p%2BteHLqOK6tZ4m3KQJo5IZVI3K0csciMrEFc4I808H/sI%2BC/CN5YRv8AGbx/qukWviv/AISm98OavqdnLZajrpupLxtQk22qyxMbt/tBgt5IbbzEUiEfMGAPcaKKKACiiigAooooAKKKKACiiigAooooAKKKKACiiigAooooAKKKKACiiigAooooAKKKKACiiigAooooAKKKKACiiigAooooAKKKKACiiigAooooAKKKKACiiigAooooAKKKKACiiigAooooAKKKKACiiigAooooAKKKKACiiigAooooAKKKKACiiigAooooAKKKKACiiigAooooAKKKKACiiigAooooAKKKKACiiigAooooAKKKKACiiigAooooAKKKKACiiigAooooAKKKKACiiigAooooAKKKKACiiigAooooAKKKKACiiigAooooAKKKKAP/2Q%3D%3D\">"
            ]
          },
          "metadata": {
            "tags": []
          }
        }
      ]
    },
    {
      "metadata": {
        "id": "XJfSBDtz9AqC",
        "colab_type": "text"
      },
      "cell_type": "markdown",
      "source": [
        "# Submit a linear model"
      ]
    },
    {
      "metadata": {
        "id": "-FIoZ8kf9AqD",
        "colab_type": "code",
        "colab": {}
      },
      "cell_type": "code",
      "source": [
        "## GRADED PART, DO NOT CHANGE!\n",
        "# Testing shapes \n",
        "grader.set_answer(\"9XaAS\", grading_utils.get_tensors_shapes_string([W, b, input_X, input_y, logits, probas, classes]))\n",
        "# Validation loss\n",
        "grader.set_answer(\"vmogZ\", s.run(loss, {input_X: X_val_flat, input_y: y_val_oh}))\n",
        "# Validation accuracy\n",
        "grader.set_answer(\"RMv95\", accuracy_score(y_val, s.run(classes, {input_X: X_val_flat})))"
      ],
      "execution_count": 0,
      "outputs": []
    },
    {
      "metadata": {
        "id": "XEhVbgoS9AqG",
        "colab_type": "code",
        "outputId": "6a0ad6b5-9e62-4b30-8985-1e6fa52af44e",
        "colab": {
          "base_uri": "https://localhost:8080/",
          "height": 34
        }
      },
      "cell_type": "code",
      "source": [
        "# you can make submission with answers so far to check yourself at this stage\n",
        "grader.submit(COURSERA_EMAIL, COURSERA_TOKEN)"
      ],
      "execution_count": 0,
      "outputs": [
        {
          "output_type": "stream",
          "text": [
            "Submitted to Coursera platform. See results on assignment page!\n"
          ],
          "name": "stdout"
        }
      ]
    },
    {
      "metadata": {
        "id": "pauNTdpD9AqJ",
        "colab_type": "text"
      },
      "cell_type": "markdown",
      "source": [
        "# MLP with hidden layers"
      ]
    },
    {
      "metadata": {
        "id": "jv5_i9qJ7t-W",
        "colab_type": "code",
        "colab": {}
      },
      "cell_type": "code",
      "source": [
        "s=reset_tf_session()"
      ],
      "execution_count": 0,
      "outputs": []
    },
    {
      "metadata": {
        "id": "PGs1HT9W9AqK",
        "colab_type": "text"
      },
      "cell_type": "markdown",
      "source": [
        "Previously we've coded a dense layer with matrix multiplication by hand. \n",
        "But this is not convenient, you have to create a lot of variables and your code becomes a mess. \n",
        "In TensorFlow there's an easier way to make a dense layer:\n",
        "```python\n",
        "hidden1 = tf.layers.dense(inputs, 256, activation=tf.nn.sigmoid)\n",
        "```\n",
        "\n",
        "That will create all the necessary variables automatically.\n",
        "Here you can also choose an activation function (remember that we need it for a hidden layer!).\n",
        "\n",
        "Now define the MLP with 2 hidden layers and restart training with the cell above.\n",
        "\n",
        "You're aiming for ~0.97 validation accuracy here."
      ]
    },
    {
      "metadata": {
        "id": "9batb2Gn9AqM",
        "colab_type": "code",
        "outputId": "4d6d1410-9552-40b0-8ce1-9877c5b26398",
        "colab": {
          "base_uri": "https://localhost:8080/",
          "height": 51
        }
      },
      "cell_type": "code",
      "source": [
        "#from tf import layers.dense\n",
        "# write the code here to get a new `step` operation and then run the cell with training loop above.\n",
        "# name your variables in the same way (e.g. logits, probas, classes, etc) for safety.\n",
        "### YOUR CODE HERE ###\n",
        "s.run(tf.global_variables_initializer())\n",
        "hidden1=tf.layers.dense(input_X,256,activation=tf.nn.sigmoid)\n",
        "hidden2=tf.layers.dense(hidden1,256,activation=tf.nn.sigmoid)\n",
        "#logits=(tf.matmul(input_X, W)+ b)\n",
        "#model = tf.keras.models.Sequential()\n",
        "#a=tf.keras.layers.Dense(256, \"sigmoid\")\n",
        "#h=tf.keras.layers.Dense(256, \"sigmoid\")\n",
        "logits = tf.layers.dense(hidden2,10)\n",
        "print(logits.shape, input_X.shape, W.shape,input_y.shape)\n",
        "probas = tf.nn.softmax(logits)\n",
        "classes = tf.argmax(probas,axis=1)\n",
        "print(classes.shape)\n",
        "#predicted_y = tf.squeeze(tf.sigmoid(tf.matmul(input_X, W) + b))\n",
        "# Loss should be a scalar number: average loss over all the objects with tf.reduce_mean().\n",
        "# Use tf.nn.softmax_cross_entropy_with_logits on top of one-hot encoded input_y and logits.\n",
        "# It is identical to calculating cross-entropy on top of probas, but is more numerically friendly (read the docs).\n",
        "#loss = ### YOUR CODE HERE ### cross-entropy loss\n",
        "loss = tf.reduce_mean(tf.nn.softmax_cross_entropy_with_logits_v2(labels=input_y,logits=logits))\n",
        "\n",
        "# Use a default tf.train.AdamOptimizer to get an SGD step\n",
        "#step = ### YOUR CODE HERE ### optimizer step that minimizes the loss\n",
        "step = tf.train.AdamOptimizer(0.001).minimize(loss)"
      ],
      "execution_count": 0,
      "outputs": [
        {
          "output_type": "stream",
          "text": [
            "(?, 10) (?, 784) (784, 10) (?, 10)\n",
            "(?,)\n"
          ],
          "name": "stdout"
        }
      ]
    },
    {
      "metadata": {
        "id": "R4xI_n6e0h5o",
        "colab_type": "code",
        "outputId": "825a8914-4b6d-478a-b06f-136feb1ed9d0",
        "colab": {
          "base_uri": "https://localhost:8080/",
          "height": 309
        }
      },
      "cell_type": "code",
      "source": [
        "s.run(tf.global_variables_initializer())\n",
        "\n",
        "BATCH_SIZE = 512\n",
        "EPOCHS = 40\n",
        "\n",
        "# for logging the progress right here in Jupyter (for those who don't have TensorBoard)\n",
        "simpleTrainingCurves = matplotlib_utils.SimpleTrainingCurves(\"cross-entropy\", \"accuracy\")\n",
        "\n",
        "for epoch in range(EPOCHS):  # we finish an epoch when we've looked at all training samples\n",
        "    \n",
        "    batch_losses = []\n",
        "    for batch_start in range(0, X_train_flat.shape[0], BATCH_SIZE):  # data is already shuffled\n",
        "        _, batch_loss = s.run([step, loss], {input_X: X_train_flat[batch_start:batch_start+BATCH_SIZE], \n",
        "                                             input_y: y_train_oh[batch_start:batch_start+BATCH_SIZE]})\n",
        "        # collect batch losses, this is almost free as we need a forward pass for backprop anyway\n",
        "        batch_losses.append(batch_loss)\n",
        "\n",
        "    train_loss = np.mean(batch_losses)\n",
        "    val_loss = s.run(loss, {input_X: X_val_flat, input_y: y_val_oh})  # this part is usually small\n",
        "    train_accuracy = accuracy_score(y_train, s.run(classes, {input_X: X_train_flat}))  # this is slow and usually skipped\n",
        "    valid_accuracy = accuracy_score(y_val, s.run(classes, {input_X: X_val_flat}))  \n",
        "    simpleTrainingCurves.add(train_loss, val_loss, train_accuracy, valid_accuracy)"
      ],
      "execution_count": 0,
      "outputs": [
        {
          "output_type": "display_data",
          "data": {
            "text/html": [
              "<img src=\"data:image/jpeg;base64,/9j/4AAQSkZJRgABAQEASABIAAD/2wBDAAIBAQEBAQIBAQECAgICAgQDAgICAgUEBAMEBgUGBgYFBgYGBwkIBgcJBwYGCAsICQoKCgoKBggLDAsKDAkKCgr/2wBDAQICAgICAgUDAwUKBwYHCgoKCgoKCgoKCgoKCgoKCgoKCgoKCgoKCgoKCgoKCgoKCgoKCgoKCgoKCgoKCgoKCgr/wAARCAEgA2ADASIAAhEBAxEB/8QAHwAAAQUBAQEBAQEAAAAAAAAAAAECAwQFBgcICQoL/8QAtRAAAgEDAwIEAwUFBAQAAAF9AQIDAAQRBRIhMUEGE1FhByJxFDKBkaEII0KxwRVS0fAkM2JyggkKFhcYGRolJicoKSo0NTY3ODk6Q0RFRkdISUpTVFVWV1hZWmNkZWZnaGlqc3R1dnd4eXqDhIWGh4iJipKTlJWWl5iZmqKjpKWmp6ipqrKztLW2t7i5usLDxMXGx8jJytLT1NXW19jZ2uHi4%2BTl5ufo6erx8vP09fb3%2BPn6/8QAHwEAAwEBAQEBAQEBAQAAAAAAAAECAwQFBgcICQoL/8QAtREAAgECBAQDBAcFBAQAAQJ3AAECAxEEBSExBhJBUQdhcRMiMoEIFEKRobHBCSMzUvAVYnLRChYkNOEl8RcYGRomJygpKjU2Nzg5OkNERUZHSElKU1RVVldYWVpjZGVmZ2hpanN0dXZ3eHl6goOEhYaHiImKkpOUlZaXmJmaoqOkpaanqKmqsrO0tba3uLm6wsPExcbHyMnK0tPU1dbX2Nna4uPk5ebn6Onq8vP09fb3%2BPn6/9oADAMBAAIRAxEAPwD9/KKKKACiiigAooooAKKKKACiiigAooooAKKKKACiiigAooooAKKKKACiiigAooooAKKKKACiiigAooooAKKKKACiiigAooooAKKKKACiiigAooooAKKKKACiiigAooooAKKKKACiiigAooooAKKKKACiiigAooooAKKKKACiiigAooooAKKKKACiiigAooooAKKKKACiiigAooooAKKKKACiiigAooooAKKKKACiiigAooooAKKKKACiiigAooooAKKKKACiiigAooooAKKKKACiiigAooooAKKKKACiiigAooooAKKKKACiiigAooooAKKKKACiiigAooooAKKKKACiiigAooooAKKKKACiiigDxPxd/wAFFP2PvAmoXmn%2BK/ipc2gs9UbTReHwpqj2l5eLfw6fJb2lwlsYb2SO7nigkW3eQxOxD7drY2j%2B2f8As6R%2BObL4c3XjHUbfVLy6sLNlu/Cmpw29le3sUctpY3dw9sIbG8lSWIraXDxzkzRjy8uoPiVz%2Bxn%2B1bH4C8N/s66Zqfw9HgXwn8W9N8V22tXOo3r6rqtnb%2BLrXWxbyQC1EVrLHAlxFvEswuJFiJ%2Bzqzbeh8cfsffGzXfGPi3wPoup%2BFv%2BEA8c/F7QfHuq61dalcrrOnvp8mlTyWEVqtu0Mwll0mLbcNcRmJLhh5TmNSwB6Fa/t1fsv3cGr3w8f30Nno2n3N7LqV54U1OC0vYLedLeZ7G4ktli1HbNJHHi1aYlpEAB3rns/hT8ZfAXxp0m91fwJc6njTdQNlqVnrfh690q8tJxGkuyW1voYZ48xyxupZAGVwQSDmvmbTf2IPj5a6t4mtbTwl8ONN8MazoOp22reBV8Za1feHfFN5cXcEsdw2mTwCPQGCJcEvZyTnzLkMRL5Q3egfs4/sm%2BOvDGmXP/AAu3xl4hhgsfFa6n4L8M6H8ZPEOpQaLbC3tla2mvpmtZtTheeGSUQXUbxRLKY1BQnIB0kX7eP7Kk0fiC6HxNlW18N6Jqur32oy%2BHdQS0urLTSRfzWVw1uItSFuRiQWjTFSQCMkZ5vx3/AMFL/wBmXwh4Vl8TaPd%2BJtceDxF4b0yXTdP8Dav9qeLW78WdnfwxNaB7m1crO0c8IeOZoTFEzyvGjeKaH/wSx%2BI%2BjfBrXPgl5eiXX9m/DfxR4c8C%2BK9W%2BK/ia/LzajZT2VtI%2Bkz5sdLUQzFZjALjJGY0j4A7z4//ALEPxs8d%2BOH%2BIfw%2B1Pwo9zp/hz4cxaTp2r6nc20dzfeG/FE2szxSyRW0phhlidIklVJGDliYsAbgD1V/25/2ZFtteu4/G%2BpzJ4b8Sf8ACPakLbwfqsrPq/nPCdOt1S1JvLsOhJggEkgQrIV2MrGpqn/BQX9lDSbTRp5PH%2Bq3U%2Bv2Wq3WmaXpfgnWLy/ZNMuIrfUFks4LR7iGW3lmRZIpI1kT5iVwjleFtv2OvjToXha08QaFfeFZvFegftCaz8R9G0y61O5j0%2B%2Bgvl1C3NnPcrbNJDILbUZSJFhlCyxJ8rCvMNI%2BEf7S3wX/AG5vCGqeD9N8Dav478U%2BA/iX4l1jSNT128tdItftmt%2BFwlvBdpZyzN5Srb5kNuvnFZfli8wbQD6jsf2yP2adU8Gaz8QtK%2BKVvd6PoNxpMGoXtpY3MoLapDaTaeYVWMtcrcJfWvlvCHVmkKZ3I6r6bXwN8Nv2Q7XwR%2B1Z8Ff2dvBXxLsNdsPh58M9Ff432dmnD3ugLu8PPKqki2klutRnuUjf52i06PGVQGvvmgAooooAKKKKACiiigAooooAKKKKACiiigAooooAKKKKACiiigAooooAKKKKACiiigAooooAKKKKACiiigAooooAKKKKACiiigArzb4q/tdfs/fBPxlH4D%2BJPje4stR%2By2l1efZ9Bvru3023urh7a2nvbi3geGwilmjkRJLl41YxvgnY2PSa%2BQ/28f2Kv2o/2pNZ8Z6N4R%2BIWn/8I5rvhC0s/DFtqHxB1rSoNGvoXnkm8/TtPi8jU47ljApluZG8hVJWCXbscA9gh/br/ZUku9btpviqtrFoGn6hfXeoahot7bWVzb2EywXslndSwrDqAhldI3%2ByvKVd1U8sAdDwJ%2B2B%2Bz78R/EmneC/DXjC%2Bj1vVNTutPt9D1fwzqOnX0Vzb2kd5LHPb3dvHLbH7NLHMvnKgkSRShbIrwzQ/wBjX9rW8/ZXP7IXiDWvh5pWgaLpEn9ga1ZX99qF3qF9FqUN9YC5R7e3W2hjMRinKNO1xuDqIOYz1/jH4S/tp%2BNfiB4H%2BPWqaH8ME1/wZ4l1CS08HQeJtQWzGmXel/ZHLambAyTXAnHnAfY408s%2BVnK%2BawB2uh/t0/steJddsPDmh/EuW4utR0KfWotnh7UBFDpsM9zbzXk8pg8u1gSa0njaSZkUMEBP72Le3w9%2B3Z%2By74m8J6741sviFe21l4dsdPvdSj1fwrqdhctbX8jRWM0Ftc20c13Hcyq0UDQJIJpAUjLN8teO/s%2BfsI/tK/Bjw3q7xfFHwvY%2BKLj4J3fhXR/EWlxzSrY61Jq2rX0V6IZYgDAn263baWJ3RuuCAGbkrH/gnN%2B1HceNNR%2BImoa74div59G8Iz2dvrXxT1/xIw1jw7r39rQrLc6hbB/st3vlR/JSJbU7WjgmJY0AfUHw9/bC/Z2%2BJ%2Buy%2BF/Cnj%2BRdTttLvdQvdN1fRL3Tbizgs5Yorrz47uGJoHia4ty8UgWRVnicrskRj2nw98e%2BFvip4C0T4m%2BBr%2BS70XxFpNvqWkXU1nLbtNazxrLE5imVJIyUZTtdVYZwQDxXxx%2B3H8PfjP8Ybb4c/D3xh4x8IaH8UvFXjTUNFj8PeD724unh8D6lZNaa0vnSpDLMYoUS7N2YYIxPDbRBdxQyfbOnadYaRp8Gk6XZx29rawrDbW8KBUijUAKqgcAAAAD2oAmooooAKKKKACiiigAooooAKKKKACiiigAooooAKKKKACiiigAooooAKKKKACiiigAooooAKKKKACiiigAooooAKKKKACiiigAooooAKzPFWs3eh6el3aJGzNMEIkUkYwT2I9K068t%2BMfxYfQvjP4P%2BCbaUjR%2BJfDut6v9uMpDRPp82mxCILjBDrqDsTnjyRwd3C54QlHn2bS%2Bb0R04bCYjGylGiruMZTf%2BGEeaT%2BS1tu%2Bh0H/AAsPWv8An1tf%2B%2BG/%2BKo/4WHrX/Pra/8AfDf/ABVYNFd3s4djjuze/wCFh61/z62v/fDf/FUf8LD1r/n1tf8Avhv/AIqsGij2cOwXZ0j%2BO9YXT4rsW9tueaRCNjYwoQj%2BL/aNQ/8ACw9a/wCfW1/74b/4qsub/kC2/wD19Tf%2BgxVVpKnDsF2b3/Cw9a/59bX/AL4b/wCKo/4WHrX/AD62v/fDf/FVg0U/Zw7Bdm9/wsPWv%2BfW1/74b/4qprrx3rEEFvKtvbEzQl2yjcHey/3v9kVzdWtQ/wCPSx/69T/6NkpOnC%2BwXZqf8LD1r/n1tf8Avhv/AIqj/hYetf8APra/98N/8VWDRT9nDsF2b3/Cw9a/59bX/vhv/iqP%2BFh61/z62v8A3w3/AMVWDRR7OHYLs6S%2B8d6xazrElvbEGGN%2BUbqyKx/i96h/4WHrX/Pra/8AfDf/ABVZesf8faf9esH/AKKSqtJU4W2C7N7/AIWHrX/Pra/98N/8VR/wsPWv%2BfW1/wC%2BG/8Aiq8UuP21f2N7S4e1uv2tPhlFLE5SSOTx5pysjA4IIM2QQe1N/wCG3f2L/wDo7v4X/wDhfad/8erl%2BuZZ/wA/Yf8AgcP/AJM99cKcWNXWXYj/AMJ6/wD8oPbf%2BFh61/z62v8A3w3/AMVU2o%2BO9Ys9QntI7e2KxTMiko2SASP71eReB/2nf2a/ib4ii8IfDb9obwN4h1adHeDS9D8W2d3cSKqlmKxxSMxAAJJA4AzWh%2B0b8b/DXwGtbbxL4n0rVb2PVvGNjoltDpGlz3cgmvLtYVdlhR2CqGZicclQg%2BZ1B2pzw1Zc1NqS7ppr702eZjcBmOW1fZYyjOlO1%2BWcJwdu9pwg7aPW1tNz0f8A4WHrX/Pra/8AfDf/ABVH/Cw9a/59bX/vhv8A4qvCx%2B2z%2Bzi3haHxynizV20Waa6QasvgzVjbRpbNGtxcSSC12xW0bSqrXLlYQyyKXzHIFr3n7b37P/h6%2Bu9I8YeMjbXdnf38VwmnaLqV5HbQWuoSWElxcSJaBbeNZo9kkj/uoyf9ayFZG05KXY47s98/4WHrX/Pra/8AfDf/ABVTad471i81CC0kt7YLLMqMQjZAJA/vV5R8WvjLp3ww%2BFer/EqHQby/k0%2B5WxstMlhktGvb6S6S0ghDSoNqSXEkaiYKyFW3rvXGed0f9qqbw38N/HvxD%2BInw/Wz1n4XapJaa9oGjav9sjurhbK1voI7a4kig3iaG8tgC8ce13ZSMLuI4U7bBdnuf/Cw9a/59bX/AL4b/wCKo/4WHrX/AD62v/fDf/FV8zeKP2xPiB4I8La5L4k%2BAsEniDwx4x0nRvEOn6X4tWWxtrW/%2BzGO/S6ltopJVAufL8sW4YyxsvEf76u7uPjTrtp%2B07p37P138OJYdP1TwZqeuWXiiXVI8TyWVzpsMsCW6gttxqUZ8x2Q7o2UIww9HJT7Bdnr3/Cw9a/59bX/AL4b/wCKo/4WHrX/AD62v/fDf/FV4D4K/avl1b4U%2BL/iT4%2B%2BF954fu/C/iifQ4vDaanFeXl9c/uBawKUAjFxPJcRRCNWdFkbAlZfmrAX9umE/DP4QeMR8MHl1f4otoct/oltrAdPD9nf3FtbNcyTmIecsc93DGi7EaYliAqpIUOWl2DU%2Bo7Hx3rF1O0T29sAIZH4RuqozD%2BL2qH/AIWHrX/Pra/98N/8VXzR45/bV8cfBvX9Z0/4g/AaCyWLw1qWr6M6%2BLlkKWNvqFrpzXWqFLcppsBF8l35iPc7be3uWYB4TGeK8S/8FO7Tw74K07xefh34duI71Naa2uIvH4%2Bw6%2B%2Bn3MUAtdCufsf/ABNru4MuIYNkG9kZQ2BupctK%2Bwan2Z/wsPWv%2BfW1/wC%2BG/8AiqP%2BFh61/wA%2Btr/3w3/xVfM3hb9tufxV8dte%2BCOl/DO1vb/RxrQXSNM8UxSa4h09kCSXdjLFGllBd%2BYhtpnuGWRZYWOwOdmTqf7e2rad8Pfh14u1HwJ4O0K78dT6tDdr4y%2BJB03T9LexkaNk%2B2fYZPOZ2XCjy0p8tLsGp9X/APCw9a/59bX/AL4b/wCKqa28d6xPBcStb2wMMIdcI3J3qv8Ae/2jXzNpH7YWrap8b/FvwffQPAlu3hGRY7mCb4kMNX1D/iS2mptLaWH2H99Apu1i8wyrxG77RjZUvwP/AGtfiD8af2fL/wCNvhPwx8KpFi0m0vdQtIPi/PPDpdu8S3EwvJ49JJt54gYwYihBBdi67AHTjT7BqfR3/Cw9a/59bX/vhv8A4qj/AIWHrX/Pra/98N/8VXyro37dPistpNz43%2BCdjoVt9h8Mz%2BK1ufFzG50xtevntLFIIXs0N0FZUaYuYCm51RZXjZa1vgD%2B1f8AEL9o3whqniHwB4M%2BG8uoWZAg0GP4qyzXUB%2B0PHi/SPS2ayJSN3UAS7iNvAy4fLS7BqfSn/Cw9a/59bX/AL4b/wCKrZ8JeIr3XvtH2yKJfK2bfKUjOd3XJPpXiH7O3xT8S/Gr4U2PxL8TeDrHRDqVxcNp8Gm609/BdWazOkF5HM9vAxjnjVZkzGDskTPJIHsHw2/5ff8Atn/7NUVIQULpDTdzqKKKK5igpGZVUszAADJJPSlplxI0VvJKlu8zKhIiQruc4%2B6NxAyenJA9xQBw/gX9pr4E/Er4Xax8bPBnxHs7rwloEl6ureIJIpYLaBbRS1xLvlVd8SqC4lXMbphlZlINYjftr/s6r4aHiVvE2t/8hk6V/Y//AAg%2Br/2sLsWn20odN%2By/bAPspE%2B8w7PLIfO0g14/pHwx%2BPnxK/Z0%2BOXwR1f9njxF4R1Dx7qfiO98N3viHV9Gks3F5ETbxzGxv7iRAWVUf5CAH4zzhi/DT9o2L9pp/wBtpf2ddZYvePpo%2BHn9v6SNUFmdJjiF%2BZPtn2Pd9qjMWwXBbyCH%2B9mKgD6s8NeJNA8ZeHNP8X%2BFNXt9Q0vVbKK802/tJA8VzbyoHjlRhwysrBgR1BFY3iDxlqmk6vNp9vBbske3aXRs8qD2b3rG/ZT%2BF%2Bv/AAS/Zk%2BHvwe8V3NvNqnhjwZpml6lJaMWhNxBbRxyCMkAmMMpC5AO0Crfi28t4vEFxHJpVvIRsy7tJk/Ivo4H6VrSSctUJjv%2BFh61/wA%2Btr/3w3/xVH/Cw9a/59bX/vhv/iq8o8Rftk/sjeD9du/C/i39oH4ZaXqdhO0F9p2o%2BN7aCe2lU4ZJI3uQyMD1BAIqn/w3Z%2BxJ/wBHP/CX/wAODZ//ACVWbxmWxdnUgn/jh/8AJnt0%2BFuKasFOGX4hxaTTVCu009U01QaaaaaabTWqbR7H/wALD1r/AJ9bX/vhv/iqP%2BFh61/z62v/AHw3/wAVXlHh39sn9kbxhrtp4X8JftA/DLVNTv51gsdO07xvbTz3MrHCpHGlyWdiegAJNa3x4%2BOHhb4AfB3xF8ZvE/hGW8sfDumPdzWmmW1zPPNjAVFSMs3LEAtjCglmwoJG1Kpha8XKm1JLs0/ybODHZbmeWVFDG0KlKTV0qkJwbW10pwg2r6XSavpe56PqPjvWLPUJ7SO3tisUzIpKNkgEj%2B9UP/Cw9a/59bX/AL4b/wCKryTVP20v2fpbvXLuzi1u9/sfXm0vUEtPAWvTzpebJJWh8qK3LtIkcbPIqqfKBTfs3puxrn9vL9nDTbudL7WbW7heSM6P/wAI7pOr6pNfQtpltqRkEVtbsTi2uo5f3ZkXyzuLAh0S1GnbY4tT3T/hYetf8%2Btr/wB8N/8AFUf8LD1r/n1tf%2B%2BG/wDiq4G/%2BO/w2s/hnq3xehtEuNA0fQ21ebUIrW6EdxZi0F2JYHdlWdTEQdyEjOVJDKwHM/Bb9o/XfHuq614U%2BJnwY0/wzrej%2BHNL8QGw07XZ9TSTT7/7WsBL%2BXCROsljco8QVlBRSruHGHyw7Cuz2rTvHesXmoQWklvbBZZlRiEbIBIH96of%2BFh61/z62v8A3w3/AMVXy74G/wCCiV/4jj8NwQ/Arw/B4h8ZW3hvUvBWnDxxK9tPZaxLOtvJeXItybORPs770SK4Uu8aRvKWO3PvP%2BCmWhQa74e0GH4SeHhPqtzHZ3Frc%2BNXjuL%2B%2BXXbnRbu20aMRN/az209q8snzQYhmt3OPMIRWp32HqfWX/Cw9a/59bX/AL4b/wCKo/4WHrX/AD62v/fDf/FV8s6v/wAFEZNA8NyeNdX%2BAemw6Nqui3%2BreDNQPiqbbdWNpqdpYzXWoZhA06FVvoLtnU3G22SZ2AaPY3qf7Nv7QNh%2B0H8Nm%2BIEHg/RYI01e8sEudE1yXUtOvhbzNEbizu8RfaIGKkB/LX5lcYO3JajTfQWp6n/AMLD1r/n1tf%2B%2BG/%2BKqax8d6xdTtE9vbACGR%2BEbqqMw/i9qxf7QtP%2BgHa/wDfcv8A8XVnSr61a5YLo9sv%2BjTHIaX/AJ5Nxy/fpQ4RtsF2W/8AhYetf8%2Btr/3w3/xVH/Cw9a/59bX/AL4b/wCKrL/tC0/6Adr/AN9y/wDxdH9oWn/QDtf%2B%2B5f/AIunyQ/lC7NT/hYetf8APra/98N/8VR/wsPWv%2BfW1/74b/4qsv8AtC0/6Adr/wB9y/8AxdH9oWn/AEA7X/vuX/4ujkh/KF2bVt471ieC4la3tgYYQ64RuTvVf73%2B0ah/4WHrX/Pra/8AfDf/ABVVLG%2BtWtrwjR7YYtgSA0vzfvU4Pz/jx6VW/tC0/wCgHa/99y//ABdJQjfYLs1P%2BFh61/z62v8A3w3/AMVR/wALD1r/AJ9bX/vhv/iqy/7QtP8AoB2v/fcv/wAXR/aFp/0A7X/vuX/4unyQ/lC7NT/hYetf8%2Btr/wB8N/8AFVMnjvWG0%2BW7NvbbkmjQDY2MMHJ/i/2RWL/aFp/0A7X/AL7l/wDi6sxX1qdInf8Ase2AFzECu6XB%2BWTn7%2Bf/ANdJwj2C7Lf/AAsPWv8An1tf%2B%2BG/%2BKo/4WHrX/Pra/8AfDf/ABVZf9oWn/QDtf8AvuX/AOLo/tC0/wCgHa/99y//ABdPkh/KF2an/Cw9a/59bX/vhv8A4qj/AIWHrX/Pra/98N/8VWX/AGhaf9AO1/77l/8Ai6P7QtP%2BgHa/99y//F0ckP5Quzafx3rC6fFdi3ttzzSIRsbGFCEfxf7RqH/hYetf8%2Btr/wB8N/8AFVUlvrUaRA/9j2xBuZQF3S4Hyx8/fz/%2BquM8ZftCfAf4cu8fxB%2BI3gvQmj/1i6z4jjtSv18ydcVnN0KUeadku7aX5tHThcJjMdVVLDU5VJdoRlJ/dGMn%2BB33/Cw9a/59bX/vhv8A4qj/AIWHrX/Pra/98N/8VXzl4p/4Knf8E9/B5ZdW/aI8HzbOv9lT3V9%2BX2bzM/hXMf8AD4n9jHUvm8D6P4s8Tqf9W%2Bg%2BBdVkD/TzAledPOcjpy5ZV4X7KSb%2B5OR9hhvDLxHxdP2lPKMTy93RnCP/AIFUVNfifWn/AAsPWv8An1tf%2B%2BG/%2BKqa68d6xBBbyrb2xM0Jdso3B3sv97/ZFfIv/D1Twrd/8i7%2BwR%2B0Dqqn7klj8MLgo3vlrocfhU11/wAFKfiBfwWw0b/gmL8cnAhIT%2B0fDQtQRvY8ZuDxz375qP7byZvSd/SNR/lTOj/iFvHsf4mEUP8AFWwsf/SsXf8AA%2Brv%2BFh61/z62v8A3w3/AMVR/wALD1r/AJ9bX/vhv/iq%2BS/%2BG/P2k7nnS/8Aglf8QHz0%2B16vbwfzlOKD%2B2f%2B3bqny%2BGP%2BCTV85P8WrfFSxswPfDE5o/tnLXtGb9KVV/%2B2C/4hlxZH%2BI8PD/FjcFH/wB2WfWn/Cw9a/59bX/vhv8A4qum8P6jPq2kQ6hcKivJu3BAQOGI7/SviX/hoT/gqFqXNn/wT18B6bnoNR%2BKQm2/XyutfVv7NusfFbX/AIK6Lq3xu8H6RoHiiYXH9qaToN%2B9zaW%2BLiUR7JX%2BZsxCNjnozMBwK1pY6hipcsKc49byhKK%2B%2BXXyPIzrhPHZDhVXr4jDzu%2BXlpYmjWmtG7uNNu0dLOV7XaXU7miiitz5kKKKKACiiigAooooAKKKKACiiigAooooAKKKKACiiigAooooAK%2BWf2VfiX%2BzVoH7Y/x18GeC/jD4Yn1LV/EOlXUtl/wl0V1d3V4bQrcAB5WkYxykReWOIgqRKEVVUfU1FAHyV/wTr1L9mvxv8SPFvxQ/Zi8TeE7Pw3e6FY6bpnhzRPEMN5qerRW1xcs3iDVQsjyme5acLG85ado0DzPvl8qHd/al1O3sf2%2BvgHZ3Vw8aX/hLxxBmOMMTgaNLjBI/55%2BvavpivkH9ubUX07/got%2BymCCI7uHx3bu3YE6ZaOo/Ex15%2BZT9nRhL/p5S/GpFfqfacBYf61nNen3wmNf/AIDhKsv/AG0948nRf%2Bghdf8AgGv/AMco8nRf%2Bghdf%2BAa/wDxyqtFe/bzPhy15Oi/9BC6/wDANf8A45R5Oi/9BC6/8A1/%2BOVVoot5gacsWkf2RADfXO37TLg/ZVyTtjzxv%2BlVvJ0X/oIXX/gGv/xyib/kC2//AF9Tf%2BgxVVpJAWvJ0X/oIXX/AIBr/wDHKPJ0X/oIXX/gGv8A8cqrRTt5gWvJ0X/oIXX/AIBr/wDHKs30WkG2s999cgC2O0i1U5Hmv1%2BfjnNZlWtQ/wCPSx/69T/6NkpNaoA8nRf%2Bghdf%2BAa//HKPJ0X/AKCF1/4Br/8AHKq0U7eYFrydF/6CF1/4Br/8co8nRf8AoIXX/gGv/wAcqrRRbzA09Vi0g3K%2BZfXIP2aHgWqnjylx/H6VW8nRf%2Bghdf8AgGv/AMco1j/j7T/r1g/9FJVWkloB55cfsS/sO3dw91dfstfDyWWVy8kknw30xmdickklckk96b/ww7%2Bwr/0ap8Of/Da6Z/8AE15VqH/BYv8A4JxaXfz6Zf8A7Rflz20zRTJ/wiOsHa6kgjItMHkHpUP/AA%2Ba/wCCa/8A0ch/5Z%2Bs/wDyHXzzx3CV9alD/wApf/Im3/EUMVHT%2B3Zq3/UXV/8Amg9x8D/sufso/DLxFF4v%2BG3wJ8IeHtWgR0g1TQ/A9jaXEaspVgskQVgCCQQDyDirn7SPwjT4waRDoujeNzouo6V4w07W7O8udC%2B2wCWyvo7ny3iW5hZ1cRlMh1I3BucbT5h8D/8AgpL%2BxZ%2B0f8RLX4UfBj4z/wBs6/ewyy21h/wjupW%2B9I0Lud89uiDCgnlhnHGTXrXxd%2BJehfDXXdNbxDZ3jQa94sj0aK7t40MdpPOZBC0xZgVR5VSAFQx8yeIYwSy%2BpgquXVqXNg5RcP7nLa%2Bn8qSvt5kSz2pxC/rU8U8Q17vO6kqr015eaU5vS%2B17K%2B2p87fFX/gmLoXxQ%2BFOlfCi9%2BM9q9pp/gvVtB87Wfh7Ff8A2aW8n85dQske9VbS6Q/IZCJGZOFMR%2Batt/8Agn7aX3h7x3pmrfHGR7vx14c13TLm5tvB4jjtJNS1S51Bplja9YssZuDGEL5YJncM4F%2B2/wCChnwQm8YeEvCVxper2o8bXMMWgX15dabGtwJ7ua1tZUtzefapopmiV1kihkVY54mkMZ3hOa%2BB3/BQZ/HXw98NXviLwHqmt%2BLNe8P6TfS6F4R0iGJIWn0O21O6mRrq%2B%2BeCPz1HJWTMiRqkp%2Bc9doX3Fqe5/Fn4SWfxg%2BFer/DrX/G0trc3lytxpeqWOhgfYZoLlbmykMb3Dea0UkUJb5lEhQ4EYbA5Ow/ZLk8SeBvG3gHxt8Wvtd/8T9QubvxTq%2BmeFfsnl3b2VpY2klnG95MIFghs7c7ZDP5jruJXJUt%2BEX7RGs%2BJ/wBj/Rv2lfH/AIUNtNL8NLHxPqaWO1be5eTTI72ZbZTLJIiKzMgEuG46sPmMP7N3x1%2BKGp%2BNr3wp8c00B7yx8GaF4thufDGnz28UdvfPeJJaMk08pkeF7I/vgUEomX93GVOR2sIxvGn7H3xE8Y%2BB/E2nS/tC6PH4k8ZeJtM1XxBrUnw2le1WKwFr9mtra1GrK0IzahnZ5pSzTS4CgqE6jUPgh8VdU/aC8KfG%2B9%2BN/h/yPDvhO/0S50iL4cTh7sX0mmzXUqzHVyIv3umoY1Mb7ElZWMpAevE7v9uH4%2B6B4M0HVvFOm%2BFVu/G3hrw94g0KTS/Dl/eNpFtqF4sE9s9lFcmfVp4Vmt9v2YwtKWkIiUR4bsPh5%2B1J8a/GB%2BC%2Bs3eheF10Xx/4w1nQNfuFguortntLLW7iCWG2d82LMNJjaWCdpZYmuHgdVkhZye75hqb/AIM/YyhvIdcs/j98VR4jh1Hxw3izSn8HaPqXhi403UXtzbORPb6xJJInlEgLlQCzE7jt289pP/BMP4IaT8LfBngmH4meNBrPhVfDkV54hh8R6vGNTg0q%2BF4kTW66nsQFmnEZJY2/nZj%2B4opngr9pn9oLxzqmmrpVn4OS28d6T4gvPBCT6beb9KGnX8ECG8KTOb0y20zT7Ikt9skQh3MH81ORX9t/43zrpL6hrGgaJpCS%2BKV1/wAWXPwk129EK6bNpi25n02K8W40jfHeXUji7c4S2WT5FkGC0Q1PR7b9inxz4gj8YQeMPj9o2o3nifXLfXF1lfhzNHexzafqEeoabazO%2BrSRzWMAgEBtUjhEiPI29JJZJHxfEf8AwT2vfENn4jnk%2BP8ABHqXjvStc0vxvOfAAe2e11N4TL/Z0B1DNjKqwr88j3Cu53yI5AAvfET9sT4g6R8Xbzwh8G/Dmj61o2neAfEdzcaxJFLP9u1y10sXkNpbLFIA0aJJH5pG7cbhI0ZXikrJ8HftTfF7xvF4Y%2BHXhz4geEbjxr4j1ryL9tS%2BGeraUmgWyaZLesZdPur4T3JkaNEjkWWKNld3BfyyrK0b2Hqdf4Y/Y/1Pwb46TxToHxqgNnpGr%2BI9Y8KWl74KMlxb6hrEsksxvbhdQU3tvG80myFVgbasQaQmJWqHwP8AssfGHwL8JdN%2BHNh%2B0b4anutNutTxeXXwi822mtr1nkdGhfVmkEqPI%2B11mWNkYpJE/DDO%2BFv7U3xU8f8AjL4XSar4Y8Paf4c8beBdS1HVhDLPNexapZ%2BQJo4idqJbq0jBSQ7yZB/dbfn43RP21/j3e6b4HstR0zwimqfF7w9ous%2BBmj0q68nRIry5iWeG%2BX7UTevDb3ETq8TW4lkV12xghqfui1PQ9N/YrfS4vCXguD44yt4O8GTabc6PZyeCbc6wLix0safCX1D7RskjIHmsJLdpGLNGZPKIjFi0/Y01jxF4R%2BIFj8Qfjba3up%2BM/BWj%2BF7670TwGunWqaRZXUztG1t9tl8yWZby5idg6RqjqEjUKQ/kfiz9v340%2BGdRj8Pz6T4bF/o1ze2msmDw3f3Vvqlxba7JppJmiuNmgwPEkcwub0yxBpXjDObdy13Wv%2BCh/j/wlP4z067bwhNqMFh4jFh4YSzuFv8Aw%2B2matb20LX%2Bbg/avtVs7XUUUaW7S7UjhM3mCVU%2BWw9T2H44fsn6D8cPipoXjXXvF2ljStIn02drS68AW1xqkclne/bAtpqRuFe2indYUnjZJQ8cZCGIu7HNb9kzxXqV5ret%2BIP2gYzqkngDV/CvhTUtH8AxWD6dFfyxytdXSx3pS8njeCBl8tbZARNhFMpK8KP2mv2kfEvwL1r4h%2BCfEvg2HWNI8XyeG9Ms9b%2BHOp2767fTPaxWKvYzajDc6STPc7JFn81vKC3ACxsoPb6f%2B0h411f9rHR/gZpGkaVc%2BGk0PU49e8QiKRXuNatRZu9vajzCqxRJcgSFvMzJJ5YZWglBdosWp7L4U8K%2BEfBvhbTfCGiXFxDZaVp8NnZxJYqAkUSBEUDzOAFUCuy8AJZJ9r%2Bx3Esn%2Br3ebCEx97phjmuSrqPht/y%2B/wDbP/2alVVqbBbnUUUUVyFhRRRQAUUUUAFcH4z/AORluf8AgH/oC13lcH4z/wCRluf%2BAf8AoC1tQ%2BMmWx5R4i/ZG/ZR8Ya7d%2BKPFv7MXw81TU7%2Bdp77UdR8F2M89zKxyzySPEWdiepJJNU/%2BGIv2L/%2BjRPhf/4QOnf/ABmuI%2BIv/BVj9gf4T%2BO9W%2BGnxA%2BPP9n63od9JZ6pZf8ACL6rL5E6HDJvjtWRsHupI96xf%2BHzX/BNf/o5D/yz9Z/%2BQ68mpjuFY1Gp1KHNd3v7O9%2Bt7q973v5lrxLxWGXsVnc48vu8v1uqrW0tZV0la1rJK1rWVrHrvh39kb9lHwfrtp4o8JfsxfDzS9TsJ1nsdR07wXYwT20qnKvHIkQZGB6EEEVq/Hz4WN8b/gt4o%2BESa8NLfxFos9jFqRtfPFq7qQshj3p5gVsEpuXcARuXOR5P8Ov%2BCrH7A/xY8d6T8NPh/wDHn%2B0Nb1y%2Bjs9Lsv8AhF9Vi8%2BdzhU3yWqouT3Yge9eyfFb4l6F8HvAV78R/FFneTabprwnUGso0ZreB5kje4YMyjyolcyyHORHG5AYgKfRwFbK69OTwUoON9eTlte3XlSV7fgRLiKrxG/bTxjxPJpzSqyq8vW15TqNd7JrvbqeR/Eb9hTVPGUcml%2BI/iToWou/xE1bxJq9lq3gj7Xpd497C0LKLOW7KiSJmMkMkjyqh%2B9G/Wsj4Bf8E9734K3ehXuofGSLV30PS1sI/K8NG2EsSaBYaNGTm5kwwSwWVj0ZpCoCgA11Hxv/AOChnwQ%2BD/iHU5fF2l6umn23inUdKl1drrTYIHezkgS5khW4vI5bpY5ZniMcEck2%2B2mAiICF%2Bd8Ift3Eazqfh7xh4Vu9S1dPE2qaToeg%2BGNLjWW/MXibVdJtgs11eLH5hh0/zZQ4jRdkjh8MIl61yWQtT0zwP8BY9E/Zyt/2afGviGHWNGg8FW/hk3Frp7WkstqmnpaSs%2BZZBuciRxjAQOq/MVLtnfBn4B/EH4b%2BI7zxx4w%2BLGn%2BIdc1DSdI0S6vY/DLWcZ0rThdtBGI/tUmLlpr2eR58lDuCiFQBix%2By18bfFHx3%2BHDeNPE3gubS5G8Qa/Zxny0jSOOy1u%2BsIYXQzSOLgQ2sbSnHll3bYcfKvJ/AL9pT4mfEbx54ag8ZWWgjQfiD4c1vW/CsOmWM8V1psNhfWkKRXUjzOty80N5HIWSOERtE6YcMGFaaBqUvBf7BF3pg11rnxd4FutZ8Sf2XZzPL8JLNdJvLe2u3uJW1DTlnCXlxctKfOmje3GY4TGkWwhs3Tv%2BCd50DTP%2BEd8NfFWztNN1jT7C38ZQHwope5e31u91lpNOKXCLpu%2B51C5G0pOI0EOza0e9rnwv/a3%2BJnjr9oc/BaDxN4M0zVtS1vxDp%2BkaNLoN1c33h59MvhHbXGooLyP7RFeWytcxhRbfK6bGmXdIKd18cP2sH/Z51H4yaT47%2BHc1w/iW507wfEfh9f8Al%2BIFkuYLDTQF/tjNv5955rCXfIpt54H2oUcNPu3DUmv/ANgDUdT0%2B00W8%2BMkTWPhWKSP4dWw8M/8gtW1uw1dUvc3JGoIsmm2luAot8wCVSS0nmD1v4F/CXUvhLoWsQ6/4pg1fVvEPiS71rV7ux0w2Vr9on2grBbmWUxIFRMgyOzOXctlzXk3gf8Aaw%2BLGp/tUQ/AvxLBoUlp/wAJJd6LdLZeG76FF%2Bz6QL03UWpvO9pcSvL8h01F%2B0xRu0jkrA7N9H1St0B3CrWj/wDH2/8A16z/APop6q1a0f8A4%2B3/AOvWf/0U9N7CKtFFFMAoooJCgsxAAHJNAFrT/wDj0vv%2BvUf%2BjY6q15t8Qf23v2Q/gvBf2/xL/aN8I6bcrb7TYDWY5rrIkQkeREWk6A/w9q8mP/BV/wCCXilzH8Bfgx8WPiYpOEuvBvgG4e3%2BrSXHlFV98V5lbOMqw9RwqVo83ZO7%2B6PM/wAD7HLfD3jnN8OsRhctrOl/PKDp0/8AwZVdGn/5P6XPqKivlyT9rL9v34gD7H8Iv%2BCdN3pAlOE1n4heM7W0ig93tYwZW%2BinNIn7PH/BS34qH7b8W/23tC8Dwv8Af0L4Y%2BDklQZ9Lu9PnAj6Gsv7YjV0w1CpU/7d5F/4FU5PwTPR/wCIe1MEubN8ywmFXZ11Xqf%2BC8IsQ/8AwKcf1PqSsrxZ8V/hb8O9BuZfiB8SdA0JRcQsW1nWYLUAbZOf3jLXzl/w618GeJv3nxm/aq%2BNfjYt/rbXV/H0kVofULFCi7R7bq6fwT/wSm/4J9%2BCtPlv9P8A2aNGvrhbmLM%2Bu3NzqJckSEki5lkU5IHbFJ4jPKnwYeEP8VS/4Qh%2Bov7J8M8H/HzXEV32o4RQT/7exNdff7P5DPHH/BUf9gjwExgv/wBpLQ9SnLbYrfw4k2qPK3ZV%2BypICT9ce9c2P%2BClup%2BMf%2BSG/sO/GjxXE3%2Bp1Kfwuum2Mvptmnf%2BaivfvA/wc%2BEXwyQR/Df4V%2BHPD6qu0DRNDt7TA9P3SLXSU/q2d1fjxEYf4Kd/xqSf/pIf2v4bYH/dsqrYh98RiuRf%2BC8LSj9zqv1Pl4/Hr/gqL48/d%2BCP2GPCXg1H/wBVe%2BOfiJHeDHq0Nkodfp1pv/Cjv%2BCpXxH4%2BIX7Z3grwNA/%2BvtPh54G%2B2Ej%2B6s1%2BwdP94c19R0Uf2R7T%2BPiKs/%2B3%2BRfdTjH8w/4iAsL/wAi3KcFh%2Bz9h7eS/wC3sVVr/wDps%2BZJP%2BCWHgnxbpcN58e/2ovjH8QGlnkWex1jxxJBYcKn3Le3VNgOeQG7Cuk8Gf8ABMX9gXwJGkei/sueGLjZ0bWoH1En6m7eTP419Azf8gW3/wCvqb/0GKqtVSyPJ6cub2EW%2B8lzP75ubOfFeJniDi6XsnmdaFP%2BSnP2MP8AwChGhH8Pmcx4V%2BCXwY8ChR4J%2BEXhjRwn3BpWgW1vt%2BnloMV0/TpRRXpwp06UbQikvJJfkkfHYnF4vG1PaYipKcu8pSk/vlKT/EKtah/x6WP/AF6n/wBGyVVq1qH/AB6WP/Xqf/RslU90c5VooopgFd54M/5Fq2/4H/6G1cHXeeDP%2BRatv%2BB/%2BhtWNf4Bx3NSiiiuUsKKKKACiiigAooooAKKKKACiiigAooooAKKKKACiiigAooooAKKKKACvjv/AIKSp/Zv7WX7K/irp5Pj7V7Dd/186eFx%2BOyvsSvj/wD4KyoNN139m7xV08j9ovRLEt6C5huVP/oFeXnOmAcu0qb%2B6pTP0Dww97jOlS/5%2BUsVD/wPB4tfoe4UUUV9IfnYUUUUAWpv%2BQLb/wDX1N/6DFVWrU3/ACBbf/r6m/8AQYqq0kAUUUUwCrWof8elj/16n/0bJVWrWof8elj/ANep/wDRslJ7oCrRRRTAKKKKALWsf8faf9esH/opKq1a1j/j7T/r1g/9FJVWktgCiiimAVgftC/CbQfjl4M8QfC/xHq2pafb6lcBotT0adIrywuIbhZ4LqB3R1WaKaOORGZWAZASCOK36ta5/wAhq8/6%2BpP/AEI0uoHguqfsF/C641S1u/DXjnxX4esrOXw7Nb6No1xZi1WfRGjNhIfOtZJDtSJY2iL%2BUVywjEmJBU8J/wDBPX4WeAdO0i28DfEjxppN5othZ2Npq9re2ZuTaQaVDpZgbfasm2WG3hdyEDiRA0bR4Ar3uijlQXZxvw0%2BCPhn4Z/CDTvgZBquoax4c0vwzZ6BaWms%2BQx%2BxW9olrtZooo95kRNzk5%2BZm2hVwoz/gV%2BzFoHwj8QRXun/EbxPrF5cQ6Vpcl9r0tnNKdKsDMLbTjstkUwqbmdi5BndpCXlbivQqtaH/yGrP8A6%2Bo//QhSaVgPA9J/YI%2BGui6fZ29j8SPGX23Q7fTLXwbq8t5ZvceGrSweVra2tN1qY3QLNIjNcpPJIhUO7bVIuSfsY6PCfBf9g/HPxzpY8E%2BJL/xDaLaDSZP7Q1a%2B/tAXl5cmewkJeYapeZSMxxL5g2IhVSPZqKfKgueMx/sR/D2C8vLq2%2BIXjGFRFfp4Zgt9TgiXwwby/h1C4axZIA53XNvAwFw06qkflKoiZ42fd/sb6ZcaBqWkW/x8%2BIdrdeIbq%2Bm8W6ta39gs2vfaoLe3cXEZszboUgtYIo5IIoZI1QhXBdy3sdFFkFzyi3/YN/Zam8eaX4%2B8P/CfSfD%2BsaNo%2BqW1rqnh3Tbezu2NzZtC07XKR%2Bf56KCY5hIHVmLZJNUH/Yv0CfU/%2BE1vvjX44uPGkeoW1zaePJZdNGo2yQWtzapbrGtkLQw%2BVeXWVe3Ylpy5O9UZPcNH/wCPt/8Ar1n/APRT1VpWVx3PItL/AGP/AA94c8V%2BAvEHg/4t%2BL9Isfh3o/8AZeh%2BHrb%2BzZbSa2YQrOLh57KS4kaYQIHcTK2dxUozE1maV%2BwX8L9H0aPSLbx54tZ9Ks9NsvBl7Jd2hm8KWlhc/abW3sf9G2lEcIpNys7SRxpHIzqMV7hRT5UK54bdfsD/AAuuLCfTovH3i6CPWbGWz8beVeWhPiuGW/ub%2BRb0tbHZunvbw5tfs5C3Lou1Airu69%2Bxp4J%2BIF54i1fx18SfGWrm5sbhdBhvtTgZfDbT6laXzyWTeQH3LcWtu0f2hpxEsKxIFiLRt6rVrT/%2BPS%2B/69R/6NjpOKsO55P4f/ZY8HaPNY6lqnjLxDrGp2/jv/hLtR1XU5rYS6tqI09tPj%2B0LDBHEI47fyQiRJHhraFiSQ2%2BR/2Qv2dU%2BN%2BlftD6X8J9A07xVpR1CT%2B0tO0K0hku57zZ5txPIIvMkm%2BRsPvB/fS5zvr0qinZCCuo%2BG3/AC%2B/9s//AGauXrqPht/y%2B/8AbP8A9mqKv8NjW51FFFFcZYVm%2BM/FmjeAfB%2BreOvEczR6doumT39/Ii7isMMbSOQO5CqeK0qzfGXhPRvHvhDVfA3iOBpdO1rTZ7C/iVtpeGaNo3APYlWPNAHiGj/twaxpHw38e%2BOPjF8Gv7BvfBHwvtfH39j6R4hGom80m4hvpI4zI8EAiulbT50kjw8aFo2ErhiV5z4g/wDBRq%2B%2BFcF1oHxF8DeBtC8QaZ4iTTdautZ%2BKBt/Dlkkulf2lbyNqjafuEkyBo44WtlLPG%2BGK7Gfsfhf%2Byj8UPBEms6r4m%2BPljq2r6r4DsfCMOrW/gtYGtbCxju/skwiluZ4pLnzr2eWZnQxTYjQQxKp3cj4Q/4J26z8PNStviD4A%2BIngnRvF8Gr3NwRpvwuEHh1LWbT1sjbxaVFfK0TAK0vm/aWJkuLgEGOTy1APoT4X%2BNX%2BJXw08O/EWXw1f6M2v6Faak2j6rHsurEzwpL5Ey/wyJu2sOzKawPGf8AyMtz/wAA/wDQFrW%2BCnwv0v4I/Bvwl8F9D1O6vbLwj4ZsNFs7y9IM08VrbpAkkhAA3ssYJwMZJqj4t1XVLbxBcQ2%2BpXEaLs2okzAD5F7A1tRvzClsYdFWv7c1r/oMXX/gQ3%2BNH9ua1/0GLr/wIb/GunUgq1meNfB%2BgfELwbq/gHxXZC50vXNMuNP1K2PSW3mjaORPxViPxrd/tzWv%2Bgxdf%2BBDf40f25rX/QYuv/Ahv8aNQPnzxj/wTl%2BFWqeGX%2BHg%2BKfju3gPha/8N65qMGo2RvNdhubqS6mubqV7Rv8ASGupJLhmhESyPIwkR48RiWH9gX4Z2l82v6d8RfF9tra6nLqVprsVzYm4tLyTWL7VXmjVrQwkmXUbmIq8bJ5LBdu4bz9D6xrGrxavdRRarcqq3LhVWdgANx461W/tzWv%2Bgxdf%2BBDf41KWmw7nAfBD4JaX8CPCaeC/DvjPXdTsFvNQvGXW5beR3ub3ULm/nmZ44UYsZLp1AztCInG7czYPgP8AZP8ACXw48UN4p8N%2BPfEwe1s76z8N2lxLZyQ%2BHrW9vYry7t7QG2yUklghH78zMiRKkZRRivXf7c1r/oMXX/gQ3%2BNH9ua1/wBBi6/8CG/xp2YHn3g39nnS9P8AjNH8T9S%2BJXizVrlXvItCsNVv4JbfQhezRyXJtSIRKSWjQJ50kohQGOIRxkoa%2Bl/s4%2BBdI%2BHfw8%2BGFnqOqDS/hrLpz6IjTxlrr7FaNbQC5Pl4cAMJDsCfvI0IwBtPqWj6xq8ur2sUuq3LK1ygZWnYgjcODzVb%2B3Na/wCgxdf%2BBDf40rO4Hk%2BlfsreC9J%2BK0PxPh8XeIZILTxLd%2BItO8Lyz2/9nWerXVpLaT3iYgFwWeK4uBseZog1w7BAdpX06rX9ua1/0GLr/wACG/xplx4k1O0ge6uteniiiQvJJJdMqooGSSScAAd6eqBJt2RBVrR/%2BPt/%2BvWf/wBFPXzb8Rf%2BCpHgpPFk3wr/AGXfD/iP4zeMYTtm03wXOTYWZ5ANzqDZhiXII3LvweDis3T/AIa/8FRP2mbhm%2BM/7SFh8GvD8sMjnw38NS15qzIEZtkuoTHbC/H34MjpxXkVM5ozk4YWLrSWnufCn5zdoLzs5PyPv6Hh3mmHoRxOeVqeX0pJNfWG1VlF7OGGgp4iSfRyhSi%2Bkrantfxb%2BP8A8EfgNpI1r4yfFXQvDcDKWiGralHFJNjtHGTvkPsoJrwmX/gp1YfE2ZtO/Y3/AGZPH/xWkLFYtZt9NOk6MW6Ya9uwNpz6p0HWuu%2BE3/BNv9kn4U62fGlx8PX8X%2BJncSXHirx7evq99NIOkhafKI/%2B0iKa9/h1XVLaFLe31K4jjjUKkaTMAoHAAAPAo9nnmK%2BOcKK7RXPL/wAClaC%2BUGafW/DTJdMPhq2YVF9qtL6tRv5UqLnXkv8AHXhfql0%2BUV8Ff8FWvjefO8VfF3wF8GNLk%2B7Y%2BFtH/t3UwvdJJbkiEN23Rnjrinj/AIJYfD3xufP/AGlP2iPir8TS/wDr9P1/xhLb6efUJb22zYD6B6%2Brf7c1r/oMXX/gQ3%2BNH9ua1/0GLr/wIb/Gj%2Bw8FU1xHNVf9%2BcpL/wG8Yf%2BSifidxPhfdylUcDHp9WoUqUl/wBxXGrXb83WT9Dyz4Q/sQ/sh/By0uZPhz%2Bzl4SsJ4LZTFfPo8dxdL%2B9jH%2BvmDy/%2BPV6QqqihEUAAYAA4ArUsdY1d7a8Z9VuSVtgVJnbg%2BagyOfQn86rf25rX/QYuv8AwIb/ABr0aGHoYaPJRhGK7JJL8Ej43Ms3zbOcR7fMMRUrT/mqTnN/fOUn91l5FWirX9ua1/0GLr/wIb/Gj%2B3Na/6DF1/4EN/jW%2Bp5xVq1D/yBbj/r6h/9Blo/tzWv%2Bgxdf%2BBDf41Zi1jVzpE8p1W53C5iAbz2yAVkyOvsPypO4GZRWX4q%2BN3gvwLG03jf4vaXoyJ99tV1%2BO3C/UyOMV5rrf8AwUy/Yv8AD901nqH7YvhJ3Xr9j8SLcr/31EzD9a5q2OweHdqtWEfWUV%2BbRyV8fgMM7Vq0Y%2Bsor85L8j16ivCrv/grR%2BwrZKWm/a60hgP%2BeU1zJ/6ChrF1L/gs5%2BwvbOLTRP2gtS1u8f8A1djonh7VLiV/piAL%2BZrllnmTw3xNP/wOP6NnHLiDIYfFiqf/AIHH9Gz6Zm/5Atv/ANfU3/oMVVa%2BbJP%2BCpHjTxlp8Vp8B/2Jvjn4onM0hTUNQ8P/ANk2EoITAFzPIenJIK8Bge9RJ8ev%2BCvfi8favD37LXgHwlFJ/q7fxX8RJb2WMf7RswAfwrNZ5gpfwlOp/ghNr7%2BWK/Ej/WDL5/wVOp/gpzkvv5Yr8T6Yor5o8/8A4LVa18138QfgHoqt0Wwh1u4dR7%2BYcE/pR/wrT/grrq//ACEP26fBOkZ6/wBk%2BAjcbfp570/7VrP4cLVf/bsV%2BdQP7Yqy%2BDCVn/25GP8A6VUPperWof8AHpY/9ep/9GyV8u/8Kb/4KyaF/pmlf8FHNA16Q8mz1z4Y29rCvsHtpC5H61PdaF/wWd1KC2tNS/aB%2BC2kw%2BSfLvtI0PU555F3sNzpMwQNkHpxgCk81xCfvYSqn6Rf4qpYP7XrrSWDrJ/4YP8AFVbL5n0jRXzR/wAKY/4Kw/6//h5Foe9uTB/wq%2B22L7BvMyR9aP8AhXn/AAV70v5rD9tnwFqpH8Op%2BB5IAf8Avy9P%2B1MUt8JV%2B6D/ACqB/a%2BJW%2BCrfdTf5VT6XrvPBn/ItW3/AAP/ANDaviz%2B1P8AgtXoPMfif4Ba9EOomfW7WZvptOwfjX1d%2Bzbqvxk1v4K6Lqf7QGkaPYeL5Bcf2va6BeSXFohFxKsRjkl%2Bc5iEZOejEjoKuGOeJfI6U4Pf3o2X38zVzrwWYfW6rg6NSDSv78OVfJ80lfyO5ooorU9MKKKKACiiigAooooAKKKKACiiigAooooAKKKKACiiigAooooAK%2BUP2b/iT8AND/av/aA8E/C34weFZ/EOsaxp1zb2L%2BLobq6utRNkVlGHlaRtkxWLyx8sQVIgqqqqPq%2BigD40/wCCag8DjxdpA%2BEsduFHwQ0IfFc2oAk/4SzzpN41DHP9qZ%2B2faPM/f8AMXmceXV7/gsuEs/gh8MfE0jFRovx78L3xdVzt2yzJnqP79fXtfIP/Bcb/Qv2BtR8T9P7E8Y6Dfbv7u3UIkz/AOP15Wef8ieu%2B0W/ucZf%2B2n6B4U6%2BJOVQ/nrRh/4MjVp/wDuQ948nRf%2Bghdf%2BAa//HKPJ0X/AKCF1/4Br/8AHKq0V9JbzPzsteTov/QQuv8AwDX/AOOUeTov/QQuv/ANf/jlVaKLeYGnLFpH9kQA31zt%2B0y4P2Vck7Y88b/pVbydF/6CF1/4Br/8com/5Atv/wBfU3/oMVVaSQFrydF/6CF1/wCAa/8AxyjydF/6CF1/4Br/APHKq0U7eYFrydF/6CF1/wCAa/8AxyrN9FpBtrPffXIAtjtItVOR5r9fn45zWZVrUP8Aj0sf%2BvU/%2BjZKTWqAPJ0X/oIXX/gGv/xyjydF/wCghdf%2BAa//AByqtFO3mBa8nRf%2Bghdf%2BAa//HKPJ0X/AKCF1/4Br/8AHKq0UW8wNPVYtINyvmX1yD9mh4Fqp48pcfx%2BlVvJ0X/oIXX/AIBr/wDHKNY/4%2B0/69YP/RSVVpJaAWvJ0X/oIXX/AIBr/wDHKPJ0X/oIXX/gGv8A8cqrRTt5gWvJ0X/oIXX/AIBr/wDHKs6xFpB1e6Mt9chvtL7gtqpAO4994zWZVrXP%2BQ1ef9fUn/oRpW1APJ0X/oIXX/gGv/xyjydF/wCghdf%2BAa//AByqtFO3mBa8nRf%2Bghdf%2BAa//HKs6PFpA1e1MV9clvtKbQ1qoBO4dTvOKzKtaH/yGrP/AK%2Bo/wD0IUmtGAeTov8A0ELr/wAA1/8AjlHk6L/0ELr/AMA1/wDjlVaKdvMC15Oi/wDQQuv/AADX/wCOUeTov/QQuv8AwDX/AOOVVoot5gaelRaQLlvLvrkn7NNw1qo48ps/x%2BlVvJ0X/oIXX/gGv/xyjR/%2BPt/%2BvWf/ANFPVWlbUC15Oi/9BC6/8A1/%2BOUeTov/AEELr/wDX/45VWinbzAteTov/QQuv/ANf/jlWbGLSBbXmy%2BuSDbDcTaqMDzU6fPzzisyrWn/APHpff8AXqP/AEbHSa0APJ0X/oIXX/gGv/xyjydF/wCghdf%2BAa//AByqtFO3mBa8nRf%2Bghdf%2BAa//HK6PwAlkn2v7HcSyf6vd5sITH3umGOa5Kuo%2BG3/AC%2B/9s//AGas6q9xjW51FFFFchYUUUUAFFFFABXB%2BM/%2BRluf%2BAf%2BgLXeVwfjP/kZbn/gH/oC1tQ%2BMmWxl0UUV1EhRRRQBa1z/kNXn/X1J/6Eaq1a1z/kNXn/AF9Sf%2BhGqtJbIAooopgWtD/5DVn/ANfUf/oQqpJJHDG0srhVUEszHAAHUk15/wDtBftZfBz9krQrLxh8VNYme4urxItE8PaVD9o1LWLjcMQWsAIMjElRk4UFhlhkV8qfGK9%2BIvx08Or8S/8Ago78WLb4H/CCZ86f8LLHVimra8g5C380Y8xsjBNtCpbB5VGXcfHx%2Bb0cHN04LnqJXaulGK7zm/dgvW8n9mLPsco4S9vlf9s5ziI4LL02vbVNXUcfijQpXjKtNbNpxpQbXtK0fhfqnxK/4KJWOv8AjO4%2BCv7E3w5n%2BLnjOBtl/c6bcCLQtGycb7u%2BPyHHJ2ITuwV3BuKyrf8AYL%2BNv7R86a7/AMFA/wBoe712xZhIPhn4Dkk0zQYuc7JnBE92B2LFWB/iIrF%2BGX7a/hTTfCNt8N/%2BCcX7BHjHxRotuMWN/FpSeHtDkJ48z7XdDMjnGWLqGbqSSc10I8Kf8FaPjId3iD4o/DX4PadL92Lw7o8mu6nGvcO1yRAT7oa8VVqWYe9Xc8T/AHKcZKivnJwU/WUpJ/y2M5eK%2BU5L%2B54Iwc4W0%2BsuEamJl5qtNRoYdPpHDR5o9a8nqfRHw3%2BFvw4%2BD3haDwT8LPA%2Bl%2BH9Jt/9VYaTZJDHnHLEKBuY92OSepJqr4r/AGivgB8JLmVvij8bvCXh0pbTBo9a8Q21s%2BTEwACyOCSTwABkmvAx/wAEvtI8cnz/ANpL9rT4t/EIv/rtNu/FLWGmt67ba2A2Z9nruvhX/wAEzv2CvhxdD/hHv2W/Ctw0dtMySa5ZtqbBhExDZvGlOQRnPY168amcOmo0cPCnFbc072X%2BGnGy9OY/PsRmPE%2BZV5V6lKKnNtuVWrKc23u5cik231vNvzOV8Q/8Fbv2FtK1E6H4Z%2BKV74r1EdNP8I%2BG72%2BdvoyReWf%2B%2Bqof8PIvGvir5PhD/wAE%2BfjfrWf9Vdax4aj0m2l91lmkbj3xX0p4d8K%2BGPCGnrpPhPw5YaXar92206zSCMfRUAFX60%2Bq5zU%2BPExj/gpr85yk/wADD6pntX%2BJiox8oUl%2Bc5Sf4fI%2BXf8Ahff/AAVI8bfL4P8A2EvCXhFH/wBVc%2BM/iRFdjH95o7NQy/TrQPhh/wAFbfGh8/xJ%2B1B8K/BJPPkeEfBc2pBfbN8wJr6ioo/smU/4uJqy/wC31FfdCMfzD%2BxZVP42KrS/7fUF91OEfzPmaz/ZB/4KEavb3b%2BIf%2BCqWphRbgyRaT8JtLtcjzEG3cHJ6kHPtVc/8E%2B/jnrP7vxn/wAFK/jFPG3%2BsGh3VtprH/daNG219V6f/wAel9/16j/0bHVWksjy9t83PL1qVX/7eh/6v5a/i55etWq//ciPl4f8Em/gLqZ83x98Yvi94rmP3rjxD8R7qR2%2BpjCUf8Odv2EZPnvPh/r9xJ2mn8camW/ScV9Q0U/7AyTrh4P1V/zbYf6t5B1w0H6q/wCMm3%2BJ8vf8Off2J4/%2BPLw94rtvTyPHepDH5zGp4/8Agj5%2Bxrc6XMdWtvGt9brPGpsbvx9qBhYFZM5AlB7etfTVWof%2BQLcf9fUP/oMtJ5Bkf/QND/wH/gh/q3w//wBAsP8AwH/gnzj4W/4JTf8ABPbwfIsulfsw6JOy9P7Vurq%2BB%2BouZXBr0rQv2X/2afDFoth4b/Z68D2EK9IrPwpZxr9cLGOa7qiuqjlmW4dfuqEI%2BkIr/wBtOqhlOVYZfucPCPpCK/8AbTnbT4RfCfT2DWHww8OwEdDDosC/yStnT9H0nSUMelaXbWynqtvAqA/kBVmiuuNOnD4YpeiS/Q7Y0qUPhil6JL8ki1N/yBbf/r6m/wDQYqq1am/5Atv/ANfU3/oMVVapFhRRRTAKtah/x6WP/Xqf/RslVatah/x6WP8A16n/ANGyUnugKtFFFMArvPBn/ItW3/A//Q2rg67zwZ/yLVt/wP8A9Dasa/wDjualFFFcpYUUUUAFFFFABRRRQAUUUUAFFFFABRRRQAUUUUAFFFFABRRRQAUUUUAFfKf/AAWz0r%2B2f%2BCaXxHtNudkFjPjH/PK9gl/9kr6sr54/wCCrmlf2z/wT5%2BKVptzs8J3k%2BP%2BuULy/wDslcGaw9plWIj3pz/9IkfY%2BHeJ%2Bp%2BIGUV/5cVh3/5Xpf5nS%2BDdV/t3whpWt7t32zTYJ8%2Bu%2BNW/rWlXEfsz6r/bv7OHw%2B1vdu%2B2eCNJnznrvs4m/rXb17WHn7ShCfdJ/ek/1Pmc1w31PNMRh/5KlSP/AIDOcf8A20KKKK1OAtTf8gW3/wCvqb/0GKqtWpv%2BQLb/APX1N/6DFVWkgCiiimAVa1D/AI9LH/r1P/o2SqtWtQ/49LH/AK9T/wCjZKT3QFWiiimAUUUUAWtY/wCPtP8Ar1g/9FJVWrWsf8faf9esH/opKq0lsAUUUUwCrWuf8hq8/wCvqT/0I1Vq1rn/ACGrz/r6k/8AQjS6gVaKKKYBVrQ/%2BQ1Z/wDX1H/6EKq1a0P/AJDVn/19R/8AoQpPZgVaKKKYBRRRQBa0f/j7f/r1n/8ART1Vq1o//H2//XrP/wCinqrS6gFFFFMAq1p//Hpff9eo/wDRsdVataf/AMel9/16j/0bHSewFWiiimAV1Hw2/wCX3/tn/wCzVy9dR8Nv%2BX3/ALZ/%2BzVnV/hsa3OoooorjLCsT4leN7H4Z/DnX/iRqdrJPbeH9Eu9SuIYjhpEghaVlHuQhArbqrrmi6V4k0W88O67Yx3Vjf2slteW0oys0TqVdD7FSQfrQB86eH/2qv2hfDvgP4hSfEDwb4f8R%2BKvDXwbsPH3h/TPCOnXVtHeNdRajjS2R5riSWRJtPC%2Bem0yrcLthVlw3Az/APBSXxZNfp8LPC3xF8D%2BI9cl8TC3i8eeFfA2q6tpM2nDSDfvJDplldy3NxMsym3ZY7hlRQ8zEGN4R7p8Nv2OvDnw1ttUjs/jH471G41bwvb%2BHJtSv9TtUu4dKtYp47O2intraKSM25urmRJgfPaSYtJJIQu2tF%2BxV4fhhOup8bfHP/CZtr51ZviK0mmHVjJ9hFh5Ow2P2MQfZgE8sW2Nw83/AFv7ygD0z4ZeLI/Hvw28PeOotU0q%2BXWtDtL9b3Qrlp7G4E0KSeZbyMqtJC27KMQCVIJAzisfxbpWqXPiC4mt9NuJEbZtdIWIPyL3ArX%2BGHw58LfB/wCG3h/4T%2BBrSSDRfDOi2ulaTDLMZHS2t4lijDO3LttQZY8k5J61geM/%2BRluf%2BAf%2BgLW1G/MKWxV/sPWv%2BgPdf8AgO3%2BFH9h61/0B7r/AMB2/wAKq0V06kFr%2Bw9a/wCgPdf%2BA7f4Uf2HrX/QHuv/AAHb/CqtFGoGnrGj6vLq91LFpVyytcuVZYGII3HnpVb%2Bw9a/6A91/wCA7f4Ua5/yGrz/AK%2BpP/QjWT4h8ReH/COhXfifxXrlppmm2EDT32oX9ysMFvEoyzu7kKqgdSTipvywu3ZBJxim3sa39h61/wBAe6/8B2/wr5E/bR/4Kl/Dv4BXuo/C34OHTfE3jazzHqdxeXoh0fw6xyN19cZwZAQcW0ZMjlSnysVB83%2BOP7Uf7TH/AAUZ1a%2B%2BAP8AwTosbrS/A8UxtfF3xf1ASWdvL/ft7R8eZtwRu2AytuHEcZ3v6H%2ByZ/wR1/Zi/ZzisvEHjy1b4heJbUiSO/8AENuv2K1lwMtBZ5ManKqd8hkfIBDCvlcTmWbZtN0cpSVPZ1pfD5qmt5P%2B8la%2Bze562T5zw7gaX1pYf69X%2BxCTlDCx7SrVI2q17b%2Bww/LF7VcTFNxPDv2VPht%2B2J%2B0J8QE%2BPHwa8JXOqeK9XZRc/tFfFLRnSx0yEn/AFfh7SmX/VKCdszqA3zBli3Fa%2Brvgn/wTJ%2BGvw98Vr8XPi//AG78U/iC2Gl8X%2BOY2uTAwOQLW3bMVsgP3QAzJ0DY4r6C0FVTWLJEUBRcxgADgDcKrV15fw7hMGk6r9rJa3lspdWo3a5v70uef95bLys5r5lxRmazLPa7xNZJKKajClSjH4YUKEbUqUILSKjFtb8zk5SlaGh60BgaPdf%2BA7f4Uf2HrX/QHuv/AAHb/CqtFfQ6iLX9h61/0B7r/wAB2/wqzpWj6vHcs0mlXKg20wy0DDkxMAOnrWZVrR/%2BPt/%2BvWf/ANFPSd7AH9h61/0B7r/wHb/Cj%2Bw9a/6A91/4Dt/hVWinqBa/sPWv%2BgPdf%2BA7f4Uf2HrX/QHuv/Adv8Kq0Uagadjo%2BrpbXivpVyC1sAoMDcnzUOBx6A/lVb%2Bw9a/6A91/4Dt/hRp//Hpff9eo/wDRsdVaSvdgWv7D1r/oD3X/AIDt/hR/Yetf9Ae6/wDAdv8ACqtFPUC1/Yetf9Ae6/8AAdv8KsxaPq40ieI6Vc7jcxEL5DZICyZPT3H51mVah/5Atx/19Q/%2Bgy0ncA/sPWv%2BgPdf%2BA7f4Uf2HrX/AEB7r/wHb/CqtFPUC1/Yetf9Ae6/8B2/wo/sPWv%2BgPdf%2BA7f4VVoo1A05dH1c6RBENKudwuZSV8hsgFY8Hp7H8qrf2HrX/QHuv8AwHb/AAom/wCQLb/9fU3/AKDFVWkrgWv7D1r/AKA91/4Dt/hR/Yetf9Ae6/8AAdv8Kq0U9QLX9h61/wBAe6/8B2/wqzfaPq721mqaVckrbEMBA3B81zg8ehH51mVa1D/j0sf%2BvU/%2BjZKTvdAH9h61/wBAe6/8B2/wo/sPWv8AoD3X/gO3%2BFVaKeoFr%2Bw9a/6A91/4Dt/hXa%2BEoJ7bw/bw3ELxuu/cjqQR87djXAV3ngz/AJFq2/4H/wChtWNa/KVHc1KKKK5igooooAKKKKACiiigAooooAKKKKACiiigAooooAKKKKACiiigAr4a/Y/1/wAD%2BHfjh4Ul0i60%2BLxpP4O8XwfGyK3njivbrxC2s2Bsob4khmu2ZdR%2ByLJybcTGL93ivuWigD4a/wCCR1npum%2BI7%2BLRda8O6mLr4T%2BF5dZfwpYG2OnagJb/AMy01s73N3rgDD7RdOIJJNnzW0HG/wChv2%2BtJg179jT4maLOzj7V4E1mKMJGGyzafcADqMdev6V6/XBftNaV/bvwT8QaJt3fbNKu4NvrvtpV/rWVeHtaE4d4yX3xkv1PTyTE/U87wmI/kq0pf%2BA1acv/AG08Z/YB1DSNa/Yf%2BEl7LqFzvX4eaRC%2B21UjMdpHGed4z9yvXfJ0X/oIXX/gGv8A8cr50/4JX6r/AGx/wT6%2BF93uzs0F4M/9crmaL/2SvoGtMol7TKcPO%2B9OH/pMT1uPsP8AU%2BO82ofy4rEL/wAr1f8AMteTov8A0ELr/wAA1/8AjlHk6L/0ELr/AMA1/wDjlVaK9C3mfJGnLFpH9kQA31zt%2B0y4P2Vck7Y88b/pVbydF/6CF1/4Br/8com/5Atv/wBfU3/oMVVaSQFrydF/6CF1/wCAa/8AxyjydF/6CF1/4Br/APHKq0U7eYFrydF/6CF1/wCAa/8AxyrN9FpBtrPffXIAtjtItVOR5r9fn45zWZVrUP8Aj0sf%2BvU/%2BjZKTWqAPJ0X/oIXX/gGv/xyjydF/wCghdf%2BAa//AByqtFO3mBa8nRf%2Bghdf%2BAa//HKPJ0X/AKCF1/4Br/8AHKq0UW8wNPVYtINyvmX1yD9mh4Fqp48pcfx%2BlVvJ0X/oIXX/AIBr/wDHKNY/4%2B0/69YP/RSVVpJaAWvJ0X/oIXX/AIBr/wDHKPJ0X/oIXX/gGv8A8cqrRTt5gWvJ0X/oIXX/AIBr/wDHKs6xFpB1e6Mt9chvtL7gtqpAO4994zWZVrXP%2BQ1ef9fUn/oRpW1APJ0X/oIXX/gGv/xyjydF/wCghdf%2BAa//AByqtFO3mBa8nRf%2Bghdf%2BAa//HKs6PFpA1e1MV9clvtKbQ1qoBO4dTvOKzKtaH/yGrP/AK%2Bo/wD0IUmtGAeTov8A0ELr/wAA1/8AjlHk6L/0ELr/AMA1/wDjlVaKdvMC15Oi/wDQQuv/AADX/wCOUeTov/QQuv8AwDX/AOOVVoot5gaelRaQLlvLvrkn7NNw1qo48ps/x%2BlVvJ0X/oIXX/gGv/xyjR/%2BPt/%2BvWf/ANFPVWlbUC15Oi/9BC6/8A1/%2BOUeTov/AEELr/wDX/45VWinbzAteTov/QQuv/ANf/jlWbGLSBbXmy%2BuSDbDcTaqMDzU6fPzzisyrWn/APHpff8AXqP/AEbHSa0APJ0X/oIXX/gGv/xyjydF/wCghdf%2BAa//AByqtFO3mBa8nRf%2Bghdf%2BAa//HK6PwAlkn2v7HcSyf6vd5sITH3umGOa5Kuo%2BG3/AC%2B/9s//AGas6q9xjW51FFFFchYUUUUAFFFFABXB%2BM/%2BRluf%2BAf%2BgLXeVwfjP/kZbn/gH/oC1tQ%2BMmWxl0UUV1EhRRXiX7c37YuifsjfDGO%2B02zg1Xxn4gd7Twb4elmCC5uAuXnmJI8u2hU75ZCVUDALLuyOfFYqhgsPKvWdoxV2/wCt29kuraRhiMRSwtF1amy7JtttpJJK7cpNqMYpNyk0km2jp/2xf2vfgp%2Bx74bvfHPxd8Q7JZ7qZNH0OyAkvtUmDH93BFkZ6jLnCLkbiMjPwv8ADDwn%2B1F/wWd8cx/EL47zXfgz4CaTqG7T/C2l3LJ/bksbfc8zAM%2BCMPcEBFIKxKGLsuJ%2BzN%2Bxl49/4KO/Ga5/aP8A2jPGmpeIPCCXjf2j4muUe2PiqdHO6z02LCm00qNty7wFeX5uEZisP6faDoOieFtEtPDfhrSLaw0%2Bwt0t7Kxs4VjigiQBVRFUAKoAAAHAxXyOGp47imarYlOnhF8MOtW3WbX2P7q0l3a1f1WYcOUuHaCjnkVPHySf1a6lTwqeq%2Bs2vGrimrP6vd0cLp7b22I/d0q3gnwR4Q%2BG/hOw8C%2BAfDdnpGj6XbiDT9NsIBHFBGOyqPfJJ6kkk5JJrUoor7WMYwioxVkj52UpSk23dstaH/yGrP8A6%2Bo//QhVWrWh/wDIas/%2BvqP/ANCFVaOogooopgFWtH/4%2B3/69Z//AEU9VataP/x9v/16z/8Aop6T2Aq0UUUwCiiigC1p/wDx6X3/AF6j/wBGx1Vq1p//AB6X3/XqP/RsdVaS3YBRRRTAKtQ/8gW4/wCvqH/0GWqtWof%2BQLcf9fUP/oMtJgVaKKKYBRRRQBam/wCQLb/9fU3/AKDFVWrU3/IFt/8Ar6m/9BiqrSQBRRRTAKtah/x6WP8A16n/ANGyVVq1qH/HpY/9ep/9GyUnugKtFFFMArvPBn/ItW3/AAP/ANDauDrvPBn/ACLVt/wP/wBDasa/wDjualFFFcpYUUUUAFFFFABRRRQAUUUUAFFFFABRRRQAUUUUAFFFFABRRRQAUUUUAFc/8SYY7jw%2BtvMuUe4CsPUFGBroKwfiH/yBYv8Ar6X/ANBarp/Ggu1qj4v/AOCOs0if8E%2BfBmizsTLpV/rNnIT1yuq3RH6MK%2Bnq%2BX/%2BCTP%2Bhfs7%2BJ/DHT%2BxPit4jsdv93bd78f%2BP19QVy8P/wDIjwy7QS%2B68f0PvPFdL/iJmcTX28RUn/4Mcan/ALkCiiivXPz8tTf8gW3/AOvqb/0GKqtWpv8AkC2//X1N/wCgxVVpIAooopgFWtQ/49LH/r1P/o2SqtWtQ/49LH/r1P8A6NkpPdAVaKKKYBRRRQBa1j/j7T/r1g/9FJVWrWsf8faf9esH/opKq0lsAUUUUwCrWuf8hq8/6%2BpP/QjVWrWuf8hq8/6%2BpP8A0I0uoFWiiimAVa0P/kNWf/X1H/6EKq1a0P8A5DVn/wBfUf8A6EKT2YFWiiimAUUUUAWtH/4%2B3/69Z/8A0U9VataP/wAfb/8AXrP/AOinqrS6gFFFFMAq1p//AB6X3/XqP/RsdVataf8A8el9/wBeo/8ARsdJ7AVaKKKYBXUfDb/l9/7Z/wDs1cvXUfDb/l9/7Z/%2BzVnV/hsa3OoooorjLCue%2BLvjW5%2BGvwn8T/EWy04Xk2geHb3UorQ5/ftBA8oTjnkrjj1roaZc21veW8lpdwJLFKhSWKRQyupGCCDwQRxigD5b8FfFT9qnSvC3xE8D6J47b4g%2BMrX4E6R4y8HTahpVlBjWr%2BPVoxZqltHBG1sZrCBolkJk%2BeVXmYAMvmfxJ/4KH%2BKPhT8L/iF8OD8a76y8TrcLD4E8afFnw/aaDd28LaQt5dTTWktvaxySwOrpBG0CmWS5tVZHj3TN9TeDP2O/2efAGial4b8N%2BCrwWGr6V/ZWp2d/4k1C8juNPEDwJYsLid/9FjjkkWKD/VQ%2BbIY1QuxOt4N/Z1%2BEngTwHrnw30HQL2TTPExmPiGTVdevb%2B81Ey26WzNNd3U0lxIfIjjiUmQlEjRV2hVAAL3wP8b2/wASvgz4U%2BIFt4htdWXWfDtneNqdlLG8Vy8kKszqY/kILE/d49KqeLdNuLjxBcTRyW4B2YD3Uan7i9iwIrqtD0XTPDWiWfh3RbbybOwtY7a0h3s3lxIoVVyxJOAAMkk%2Btcb4z/5GW5/4B/6AtbUfiFLYq/2Pd/8APa1/8Dov/iqP7Hu/%2Be1r/wCB0X/xVVabLLFBE088ioiKWd3OAoHUk9hXTr3I0OY/aD%2BMPgj9mf4Qa38a/ihq9vb6RoloZZEiu4mluZCdscES7vnkdyqqPU5OACR%2Ba/w3%2BC/xk/4KWftaalP8WpDZ4ggm%2BIjw3gWPwtozN5lr4ZtXJG27mHz3TjDJ8yHawmjfT/a8/aK8Yftl/F/RpvhPaf2loFl4lk0P4KaM/wDqvEniFPludflUghrKxQkoxBUuVJypmRfvX9lD9mrwh%2Byl8GNO%2BFXhiVru5Utda/rU%2BTPq2oyYM91KxJJZm6ZJKqqrk4r4arzcVZp7JP8A2Wk7vtN9Pk9bdoXlvUiz6zhOFPJcvhxliVeo5Tjl0Grpzg3CrmEk940ZN0sGmmpYjnr6qhA9Ps/A%2BleErWPwt4T0zTtO0vTkFtp1hazwxR20CfKkapuG1VUAAY4xUn9j3f8Az2tf/A6L/wCKo1z/AJDV5/19Sf8AoRqrX28Y8sUlsfLVJzq1HObbbbbbd2222227tttttt3bbZa/se7/AOe1r/4HRf8AxVH9j3f/AD2tf/A6L/4qqtFVqQaej6VdR6vayNLbELcoTtvIifvDsGyarf2Pd/8APa1/8Dov/iqND/5DVn/19R/%2BhCqtLW4Fr%2Bx7v/nta/8AgdF/8VR/Y93/AM9rX/wOi/8Aiqq0U9QLX9j3f/Pa1/8AA6L/AOKqzpWlXUdyzNLbf8e0w4vIj1iYdmrMq1o//H2//XrP/wCinpO9gD%2Bx7v8A57Wv/gdF/wDFUf2Pd/8APa1/8Dov/iqq0U9QLX9j3f8Az2tf/A6L/wCKo/se7/57Wv8A4HRf/FVVoo1A07HSrpba8Uy23zWwAxeRH/lqh5%2Bbjp3qt/Y93/z2tf8AwOi/%2BKo0/wD49L7/AK9R/wCjY6q0le7Atf2Pd/8APa1/8Dov/iqP7Hu/%2Be1r/wCB0X/xVVaKeoFr%2Bx7v/nta/wDgdF/8VVmLSroaRPH5ttk3MRH%2BmRY4WTvux3/zisyrUP8AyBbj/r6h/wDQZaTuAf2Pd/8APa1/8Dov/iqP7Hu/%2Be1r/wCB0X/xVVaKeoFr%2Bx7v/nta/wDgdF/8VR/Y93/z2tf/AAOi/wDiqq0UagaculXR0iCPzbbIuZSf9Mixysffdjt/nNVv7Hu/%2Be1r/wCB0X/xVE3/ACBbf/r6m/8AQYqq0lcC1/Y93/z2tf8AwOi/%2BKo/se7/AOe1r/4HRf8AxVVaKeoFr%2Bx7v/nta/8AgdF/8VVm%2B0q6a2s1Ett8tsQc3kQ/5auePm569qzKtah/x6WP/Xqf/RslJ3ugD%2Bx7v/nta/8AgdF/8VR/Y93/AM9rX/wOi/8Aiqq0U9QLX9j3f/Pa1/8AA6L/AOKrtfCUL2/h%2B3hkKEjfko4YffbuCQa4Cu88Gf8AItW3/A//AENqxrX5So7mpRRRXMUFFFFABRRRQAUUUUAFFFFABRRRQAUUUUAFFFFABRRRQAUUUUAc18Zh4zPwf8Vj4cmT/hIf%2BEavv7B8r7/237O/kbffzNuK%2BIfAGueFLD4LfGXSf2JNTs7c3v7NGmHRbXw7OI5rjxjHZ6y1ztVMu2qrEdPNzkGcMbbzfmxX6B0UAfOP/BOzUfAEeh%2BOPCHwo0vwLL4c0rxHamw8RfDK1lt9E1R5dOtWcRwvcTok8WFjmaOQiRsO4WRpFHunjtbVtIjF3NIi/aRgxxhjna3YkVtVg/EP/kCxf9fS/wDoLVdP40J7Hxp/wTDj0uwPx%2B8L3F5cJ/Z37R/iX7Oq2yn9xJ9nZCfnGD97jn619R%2BTov8A0ELr/wAA1/8AjlfKv7BH/Es/aL/aY8MdPK%2BKsd9t/wCvm0V8/jtr6grjyFWyuEezmvuqVEffeKXvccYir/z8hh5/%2BB4TCP8ARlrydF/6CF1/4Br/APHKPJ0X/oIXX/gGv/xyqtFexbzPz405YtI/siAG%2Budv2mXB%2ByrknbHnjf8ASq3k6L/0ELr/AMA1/wDjlE3/ACBbf/r6m/8AQYqq0kgLXk6L/wBBC6/8A1/%2BOUeTov8A0ELr/wAA1/8AjlVaKdvMC15Oi/8AQQuv/ANf/jlWb6LSDbWe%2B%2BuQBbHaRaqcjzX6/PxzmsyrWof8elj/ANep/wDRslJrVAHk6L/0ELr/AMA1/wDjlHk6L/0ELr/wDX/45VWinbzAteTov/QQuv8AwDX/AOOUeTov/QQuv/ANf/jlVaKLeYGnqsWkG5XzL65B%2BzQ8C1U8eUuP4/Sq3k6L/wBBC6/8A1/%2BOUax/wAfaf8AXrB/6KSqtJLQC15Oi/8AQQuv/ANf/jlHk6L/ANBC6/8AANf/AI5VWinbzAteTov/AEELr/wDX/45VnWItIOr3RlvrkN9pfcFtVIB3HvvGazKta5/yGrz/r6k/wDQjStqAeTov/QQuv8AwDX/AOOUeTov/QQuv/ANf/jlVaKdvMC15Oi/9BC6/wDANf8A45VnR4tIGr2pivrkt9pTaGtVAJ3Dqd5xWZVrQ/8AkNWf/X1H/wChCk1owDydF/6CF1/4Br/8co8nRf8AoIXX/gGv/wAcqrRTt5gWvJ0X/oIXX/gGv/xyjydF/wCghdf%2BAa//AByqtFFvMDT0qLSBct5d9ck/ZpuGtVHHlNn%2BP0qt5Oi/9BC6/wDANf8A45Ro/wDx9v8A9es//op6q0ragWvJ0X/oIXX/AIBr/wDHKPJ0X/oIXX/gGv8A8cqrRTt5gWvJ0X/oIXX/AIBr/wDHKs2MWkC2vNl9ckG2G4m1UYHmp0%2BfnnFZlWtP/wCPS%2B/69R/6NjpNaAHk6L/0ELr/AMA1/wDjlHk6L/0ELr/wDX/45VWinbzAteTov/QQuv8AwDX/AOOV0fgBLJPtf2O4lk/1e7zYQmPvdMMc1yVdR8Nv%2BX3/ALZ/%2BzVnVXuMa3OoooorkLCiiigAooooAK4Pxn/yMtz/AMA/9AWu8rg/Gf8AyMtz/wAA/wDQFrah8ZMtjLr5F/4KUfHu71uSP9jD4e%2BL/wCx7jW9Fm1f4o%2BKIjkeGPCsIJuZWx0lnUGJF6ndjjzEavon9oP4z%2BGv2d/gn4m%2BNni1h9h8OaTLdtEX2meQDEUKn%2B9JIUjHu4r89vh58F/GXx/8c6N%2Bzx43vprrxd8UZLX4hftI6ymUaw0dSsmm%2BH1OcxAgx5jzuTKkZVcDweJMdVVNYGhrOpv00b5VG%2B6c3dN/ZhGpLsdWSZD/AK4cQ08mnUdLDKEq%2BLqrelhKWtVr/p5V0o0l1nUVvL3X/gmT%2Bz/Brjf8Nk%2BKPB/9jW2oaNHo3wi8MTDP/CP%2BGIyfKc%2Bs9yczSSclt5bOJWA%2BxaisLCy0uxh0zTLSK3traJYreCFAqRooAVVA4AAAAA6YqWvZy3AU8twcaEdXu3teT3f%2BS6JRS0R6vE%2BfPiLNpYiFNUqMIxp0aUfho0Ka5aVKPlCCV3vKcqk3rNlrXP8AkNXn/X1J/wChGqtWtc/5DV5/19Sf%2BhGqtdy2R88FFFFMC1of/Ias/wDr6j/9CFVataH/AMhqz/6%2Bo/8A0IVVpdQCiiimAVa0f/j7f/r1n/8ART1Vq1o//H2//XrP/wCinpPYCrRRRTAKKKKALWn/APHpff8AXqP/AEbHVWrWn/8AHpff9eo/9Gx1VpLdgFFFFMAq1D/yBbj/AK%2Bof/QZaq1ah/5Atx/19Q/%2Bgy0mBVooopgFFFFAFqb/AJAtv/19Tf8AoMVVatTf8gW3/wCvqb/0GKqtJAFFFFMAq1qH/HpY/wDXqf8A0bJVWrWof8elj/16n/0bJSe6Aq0UUUwCu88Gf8i1bf8AA/8A0Nq4Ou88Gf8AItW3/A//AENqxr/AOO5qUUUVylhRRRQAUUUUAFFFFABRRRQAUUUUAFFFFABRRRQAUUUUAFFFFABRRRQAVwnxX%2BJHhDRvFmg/CjUtT8rW/EFpfajpVqYzieCyNulwd3QMpvIPl6kFiOFOO7r48/4KjXV98Kvi5%2Bzx%2B1Ol26ad4Z%2BIdx4a15QcIllrcCwPNJ/sxtbRn6kVy4zFPBUfbWuk43/wuSTfyTv8jz80xksBg3XSuk438ouUYyfyUr/I5L9kz/iV/wDBQ79qTw8eFe78I30I/vebpcm8/wDfQFfUFfL/AMGf%2BJT/AMFWPjTp/T%2B1/AHhy%2Bx/e8oPDn9a%2BoKrJNMLUj2q1V/5Uk/1P03xJ9/PMLW/5%2BYPAy/8tKcH%2BNNhRRRXsH58Wpv%2BQLb/APX1N/6DFVWrU3/IFt/%2Bvqb/ANBiqrSQBRRRTAKtah/x6WP/AF6n/wBGyVVq1qH/AB6WP/Xqf/RslJ7oCrRRRTAKKKKALWsf8faf9esH/opKq1a1j/j7T/r1g/8ARSVVpLYAooopgFWtc/5DV5/19Sf%2BhGqtWtc/5DV5/wBfUn/oRpdQKtFFFMAq1of/ACGrP/r6j/8AQhVWrWh/8hqz/wCvqP8A9CFJ7MCrRRRTAKKKKALWj/8AH2//AF6z/wDop6q1a0f/AI%2B3/wCvWf8A9FPVWl1AKKKKYBVrT/8Aj0vv%2BvUf%2BjY6q1a0/wD49L7/AK9R/wCjY6T2Aq0UUUwCuo%2BG3/L7/wBs/wD2auXrqPht/wAvv/bP/wBmrOr/AA2NbnUUUUVxlhXNfGYeMz8H/FY%2BHJk/4SH/AIRq%2B/sHyvv/AG37O/kbffzNuK6WigD4L%2BC6fBjXPh38VvAP7O3xEsfC3hvXf2dNIt5tV0CN5JLXxL9l1n7fceRb/v5tTht2sXulUfauLcNhytcnpvxB/Zz0T4feJz498B/Bu68K6v8AEKxsvhP4X0/xQh8CvrR0IC9uWnnjgtprWGPM0riAhJxJHGr3fL/pBRQBxv7Onh/TvCX7P3gbwlpPxIHjG20nwhptlB4tF0s/9tLDaxxi98xWYOZdvmbgzZ35yetN8Wx6W3iC4NxeXCP8m5UtlYD5F7lx/Ku0rz74g3trp2sX%2BoXswjhgiEk0jdFVYwST9AK1o/EyZNJXPh3/AIKhfFXwb4p%2BJ3hr9nrVL6a48JeDdLn%2BIvxXiMKqJrGyyLDTj85DfabrahQkEbo2Ga9T/wCCa3wXvPB/wRl%2BOvxZvbmX4hfFq6HibxdcmyGYhMC1raLlwVjhhZQEP3Wdx0AA%2BLfBGman%2B2L4o8PWmuxs%2BqftJ/EKXxR4ugJy2m%2BCNDmeK0sX/uiWWIgMOGMceRX6oxxxwxrFEgVVACqowAB0AFfL5FF5pmtXMZ7Kyj5XWnzVO3o6sutz6nLnLJPDanW2xGc1Pby7rBYeTpYSm%2BqjVqqtiGtpcsG72Rb8nRf%2Bghdf%2BAa//HKPJ0X/AKCF1/4Br/8AHKq0V9lbzPlDT1iLSDq90Zb65DfaX3BbVSAdx77xmq3k6L/0ELr/AMA1/wDjlGuf8hq8/wCvqT/0I1VpJaIC15Oi/wDQQuv/AADX/wCOUeTov/QQuv8AwDX/AOOVVop28wNPR4tIGr2pivrkt9pTaGtVAJ3Dqd5xVbydF/6CF1/4Br/8co0P/kNWf/X1H/6EKq0ragWvJ0X/AKCF1/4Br/8AHKPJ0X/oIXX/AIBr/wDHKq0U7eYFrydF/wCghdf%2BAa//AByrOlRaQLlvLvrkn7NNw1qo48ps/wAfpWZVrR/%2BPt/%2BvWf/ANFPSa0APJ0X/oIXX/gGv/xyjydF/wCghdf%2BAa//AByqtFO3mBa8nRf%2Bghdf%2BAa//HKPJ0X/AKCF1/4Br/8AHKq0UW8wNOxi0gW15svrkg2w3E2qjA81Onz884qt5Oi/9BC6/wDANf8A45Rp/wDx6X3/AF6j/wBGx1VpJasC15Oi/wDQQuv/AADX/wCOUeTov/QQuv8AwDX/AOOVVop28wLXk6L/ANBC6/8AANf/AI5VmKLSP7InAvrnb9piyfsq5B2yY43/AFrMq1D/AMgW4/6%2Bof8A0GWk0AeTov8A0ELr/wAA1/8AjlHk6L/0ELr/AMA1/wDjlVaKdvMC15Oi/wDQQuv/AADX/wCOUeTov/QQuv8AwDX/AOOVVoot5gacsWkf2RADfXO37TLg/ZVyTtjzxv8ApVbydF/6CF1/4Br/APHKJv8AkC2//X1N/wCgxVVpJAWvJ0X/AKCF1/4Br/8AHKPJ0X/oIXX/AIBr/wDHKq0U7eYFrydF/wCghdf%2BAa//AByrN9FpBtrPffXIAtjtItVOR5r9fn45zWZVrUP%2BPSx/69T/AOjZKTWqAPJ0X/oIXX/gGv8A8co8nRf%2Bghdf%2BAa//HKq0U7eYFrydF/6CF1/4Br/APHK7XwkIF8P24t5HdPn2s6BSfnbsCf51wFd54M/5Fq2/wCB/wDobVjWXulR3NSiiiuYoKKKKACiiigAooooAKKKKACiiigAooooAKKKKACiiigAooooA5r4zDxmfg/4rHw5Mn/CQ/8ACNX39g%2BV9/7b9nfyNvv5m3FfJX7JvjfwZ4Mm8Yz/ALF3hzRtcjf4LeGZdK8L6fqVvaR6t4vjXVWu4pWkkRRfiE2H21pCJlUwead2K%2B2qKAPl/wD4Jk2HiTQLf4x%2BF/FXg7xTp1/bfFb7RqV74rudPkub%2B%2Bn0PSZLmVhZXdxGjNKWm2K3lotxGiH5WROj/wCCnvwaT49/sPePfhxDHI19Lo73ujLEmWa%2BtQbm3UHIK7pIlXIycMeDXvtYPxEAOiRAj/l6X/0FqzrYeni6MqE9ppxfo01%2BpzYzDU8ZhKmHqfDOLi/Rpr9fwPzi%2BEvxvsbH9pP4H/to%2BJNQaTw38c/hja%2BDNd1AQDGmeI4ZDKik7wGWWZJYVzg5RicAYr718nRf%2Bghdf%2BAa/wDxyvgD4Kfs72HxT%2BBf7QP/AATfv7hbK/8AAXjye/8AAdwWKNpsF5/p%2BlyqRyuJBJuK4ysjDvX0j%2Bwh%2B0RqH7SX7OumeKPFsBtfFmiTy6F4406RQslrq9qRHOGUfd3/ACygdhIB2rx%2BH8RUpy9jVetROa/xxfJWj/4FFTXlJ9j7iVefF3hrl2ef8xGCjHBYleUHUWGq27O1ahJ/zwpt6z19u8nRf%2Bghdf8AgGv/AMco8nRf%2Bghdf%2BAa/wDxyqtFfV28z4w05YtI/siAG%2Budv2mXB%2ByrknbHnjf9KreTov8A0ELr/wAA1/8AjlE3/IFt/wDr6m/9BiqrSSAteTov/QQuv/ANf/jlHk6L/wBBC6/8A1/%2BOVVop28wLXk6L/0ELr/wDX/45Vm%2Bi0g21nvvrkAWx2kWqnI81%2Bvz8c5rMq1qH/HpY/8AXqf/AEbJSa1QB5Oi/wDQQuv/AADX/wCOUeTov/QQuv8AwDX/AOOVVop28wLXk6L/ANBC6/8AANf/AI5R5Oi/9BC6/wDANf8A45VWii3mBp6rFpBuV8y%2BuQfs0PAtVPHlLj%2BP0qt5Oi/9BC6/8A1/%2BOUax/x9p/16wf8AopKq0ktALXk6L/0ELr/wDX/45R5Oi/8AQQuv/ANf/jlVaKdvMC15Oi/9BC6/8A1/%2BOVZ1iLSDq90Zb65DfaX3BbVSAdx77xmsyrWuf8AIavP%2BvqT/wBCNK2oB5Oi/wDQQuv/AADX/wCOUeTov/QQuv8AwDX/AOOVVop28wLXk6L/ANBC6/8AANf/AI5VnR4tIGr2pivrkt9pTaGtVAJ3Dqd5xWZVrQ/%2BQ1Z/9fUf/oQpNaMA8nRf%2Bghdf%2BAa/wDxyjydF/6CF1/4Br/8cqrRTt5gWvJ0X/oIXX/gGv8A8co8nRf%2Bghdf%2BAa//HKq0UW8wNPSotIFy3l31yT9mm4a1UceU2f4/Sq3k6L/ANBC6/8AANf/AI5Ro/8Ax9v/ANes/wD6KeqtK2oFrydF/wCghdf%2BAa//AByjydF/6CF1/wCAa/8AxyqtFO3mBa8nRf8AoIXX/gGv/wAcqzYxaQLa82X1yQbYbibVRgeanT5%2BecVmVa0//j0vv%2BvUf%2BjY6TWgB5Oi/wDQQuv/AADX/wCOUeTov/QQuv8AwDX/AOOVVop28wLXk6L/ANBC6/8AANf/AI5XR%2BAEsk%2B1/Y7iWT/V7vNhCY%2B90wxzXJV1Hw2/5ff%2B2f8A7NWdVe4xrc6iiiiuQsKKKKACiub8F/GP4Q/EnR9Q8Q/Dv4qeG9fsNJmeHVb7Rdct7qGzkRdzpK8TssbKvJDEEDk1lt%2B03%2Bzanw/T4sv%2B0H4HHhWS9%2Bxx%2BJj4ss/7Pa5wT5IuPM8syYB%2BTdng8UAdxXzh/wAFFfHf/CtP2Yfit41Sfy5rTwTfLaPnGJ5LUxRf%2BRHSvoy3uLe7t0urWdJYpUDxyRsGV1IyCCOCCO9fCH/Befxvb%2BE/2L/EOhXF15K%2BJ/EOkaUXBwdvmpcuB/wC2f8ADNcWaYj6plWIrfy05ffZpfi0edmzrrLKyoq83Fxilu5S9yKXm5Til5tHl3/BFH4YXmveHdW/aY8Q2e1YdEsPBHg8NyEsbCNTeTRnuk96Xf2ZGr7zrwj/AIJjeD/%2BEG/YF%2BFmi%2BVs8/wvHqGMf8/bvdZ/Hzs/jXu9Vw5hVhMkoQ6uKk/WSUn%2BaXokffcfVKa4rxGCov8Ac4TlwtJLZUsLFYeFvX2U5v8AvVJMKKKK9s%2BOLWuf8hq8/wCvqT/0I1Vq1rn/ACGrz/r6k/8AQjVWktkAUUUUwLWh/wDIas/%2BvqP/ANCFVataH/yGrP8A6%2Bo//QhVWl1AKKKKYBVrR/8Aj7f/AK9Z/wD0U9VataP/AMfb/wDXrP8A%2BinpPYCrRRRTAKKKKALWn/8AHpff9eo/9Gx1Vq1p/wDx6X3/AF6j/wBGx1VpLdgFFFFMAq1D/wAgW4/6%2Bof/AEGWqtWof%2BQLcf8AX1D/AOgy0mBVooopgFFFFAFqb/kC2/8A19Tf%2BgxVVq1N/wAgW3/6%2Bpv/AEGKqtJAFFFFMAq1qH/HpY/9ep/9GyVVq1qH/HpY/wDXqf8A0bJSe6Aq0UUUwCu88Gf8i1bf8D/9DauDrvPBn/ItW3/A/wD0Nqxr/AOO5qUUUVylhRRRQAUUUUAFFFFABRRRQAUUUUAFFFFABRRRQAUUUUAFFFFABRRRQAVg/EP/AJAsX/X0v/oLVvVg/EP/AJAsX/X0v/oLVdP40J7HxP8AtX/Dn4xfs9fHFv2/P2d9Ek8RKdGh034o%2BA4kHnatpkLFlu7U4z9phU/d53KoA/iDcN/wner/AAr8V6h/wUg/Y2tB4/8AhR8RIbe5%2BJ3g7S48ahp9xCpR9Rto8485AT58JAJIJJIO%2BP7fr5a%2BJH7HXxr%2BBfxG1j9oH/gn54t03S7vXLgXfiz4W69HjRNdmA%2BaaFlwbO4YfxLhWbGSq5B8TM8tr0ajrYfmcebntGzlCdrOcE9JKS0qU2/eWsbPQvh7PsfwNmlbE0MOsVgsTFwxOGle04txk5QaalGSlGM04tThUiqlO7dSnU9%2B%2BDnxl%2BGnx%2B%2BHun/FL4SeLLbWdE1KPdb3ds3Kt/FG6n5o5FPDIwDA9RXT1%2Bbnhvxvodh8YtS8Rfs3eNG/Z3%2BM95cCXxb8FPiQmzw54mn/AL8D4WPdIc7ZoSGfqFUMzt9IfCX/AIKP%2BBJvFEPwb/az8J3Xwg%2BIGdn9meJpANN1E8DzLO//ANTKhJGMsDk7QXxmtcBxDhq0VDEtRle3N9iT7XdnCX/TuooyT0TktT7SXCuX8S4SeacF13jcPHWdH/mLw/VxrUUlKcYar21GMoNJOcKTbR9Ozf8AIFt/%2Bvqb/wBBiqrVlpI5tBtZYnDK1zKVZTkEFYsEGq1fRI%2BGejCiiimIKtah/wAelj/16n/0bJVWrWof8elj/wBep/8ARslJ7oCrRRRTAKKKKALWsf8AH2n/AF6wf%2BikqrVrWP8Aj7T/AK9YP/RSVVpLYAooopgFWtc/5DV5/wBfUn/oRqrVrXP%2BQ1ef9fUn/oRpdQKtFFFMAq1of/Ias/8Ar6j/APQhVWrWh/8AIas/%2BvqP/wBCFJ7MCrRRRTAKKKKALWj/APH2/wD16z/%2BinqrVrR/%2BPt/%2BvWf/wBFPVWl1AKKKKYBVrT/APj0vv8Ar1H/AKNjqrVrT/8Aj0vv%2BvUf%2BjY6T2Aq0UUUwCuo%2BG3/AC%2B/9s//AGauXrqPht/y%2B/8AbP8A9mrOr/DY1udRRRRXGWFc18ZvDviPxh8H/FfhLwdefZ9X1Tw1fWmlXHmbPKuZbd0ibd/Dh2U57YrpaKAPi7wX4Hj%2BK3hL4jeGtQ%2BDvj/w94d8Rfs26L4Il0qLwdcWV7Jf2lvrP2u2tkuo0hLwxX1vFFK7C3nd9iSOsbYwvh7p3xe0b9oNP2r/AIreE/FPiLwhJ4hubYw6V8I9T0%2B4NyfD1varqK6I4nvY4z5UliZJAxLMW%2BW3ZCPu6igDzb9jbwR4v%2BGf7JHwx%2BHfj%2Bxa01vQ/AOkWGq2byhzbTxWcSPCWBIYoVKbgTnbnvX59f8AByN460%2B10D4f/DOWKR/t%2BoanqlyofcoaCxSCBiuOPnvMAknJzX6nV%2BQ3/BZK4f4r/wDBTjwP8Gki8%2BzFl4c0aVevl3eoasspyOwMFqCTXzPF1SSyGpSjvUcYL/t6S/yPa4VwtLH8bZNhaqvCeMwzkv7lKp9Zqf8AkmFkfoh8H/Cui/D74SeFvAP9mXK/2H4csdP2rdqAPJgSPH%2Br/wBmuj87Rf8AoH3X/gYv/wAbqrRX2dOnGnBQjskl9yS/Q8jFYiri8VUxFR3lOUpP1lJyf4yZa87Rf%2Bgfdf8AgYv/AMbo87Rf%2Bgfdf%2BBi/wDxuqtFVYwNPWJdIGr3Qlsbkt9pfcVulAJ3HtsOKredov8A0D7r/wADF/8AjdGuf8hq8/6%2BpP8A0I1VpJaIC152i/8AQPuv/Axf/jdHnaL/ANA%2B6/8AAxf/AI3VWinYDT0eXSDq9qIrG5DfaU2lrpSAdw6jYM1W87Rf%2Bgfdf%2BBi/wDxujQ/%2BQ1Z/wDX1H/6EKq0ragWvO0X/oH3X/gYv/xujztF/wCgfdf%2BBi//ABuqtFOwFrztF/6B91/4GL/8bqzpUukG5by7G5B%2BzTctdKePKbP8HpWZVrR/%2BPt/%2BvWf/wBFPSa0APO0X/oH3X/gYv8A8bo87Rf%2Bgfdf%2BBi//G6q0U7AWvO0X/oH3X/gYv8A8bo87Rf%2Bgfdf%2BBi//G6q0UWA07GXSDbXmyxuQBbDcDdKcjzU6fJxziq3naL/ANA%2B6/8AAxf/AI3Rp/8Ax6X3/XqP/RsdVaSWrAtedov/AED7r/wMX/43R52i/wDQPuv/AAMX/wCN1Vop2Atedov/AED7r/wMX/43VmKXSP7InIsbnb9piyPtS5J2yY52fWsyrUP/ACBbj/r6h/8AQZaTQB52i/8AQPuv/Axf/jdHnaL/ANA%2B6/8AAxf/AI3VWinYC152i/8AQPuv/Axf/jdHnaL/ANA%2B6/8AAxf/AI3VWiiwGnLLpH9kQE2Nzt%2B0y4H2pcg7Y887PpVbztF/6B91/wCBi/8Axuib/kC2/wD19Tf%2BgxVVpJAWvO0X/oH3X/gYv/xujztF/wCgfdf%2BBi//ABuqtFOwFrztF/6B91/4GL/8bqzfS6QLaz32NyQbY7QLpRgea/X5Oec1mVa1D/j0sf8Ar1P/AKNkpNaoA87Rf%2Bgfdf8AgYv/AMbo87Rf%2Bgfdf%2BBi/wDxuqtFOwFrztF/6B91/wCBi/8Axuu18JGBvD9ubeN0T59qu4Yj527gD%2BVcBXeeDP8AkWrb/gf/AKG1Y1l7pUdzUooormKCiiigAooooAKKKKACiiigAooooAKKKKACiiigAooooAKKKKAOa%2BMw8Zn4P%2BKx8OTJ/wAJD/wjV9/YPlff%2B2/Z38jb7%2BZtxXyH%2BzD4v/ZP8Lab8QD4a8WaXo3wtf4DaDN4um0jU3s9uqQwau%2BsSl7dlmXUo7I2jXTqRcp/o5chwDX3DRQB84f8E4l%2BFWp%2BEPF/jz4P3vg/TdF8TeIYb%2Bx8A%2BCtVs7m38MQCyggjjuFs3aKO8mEJnmVPlVn2AyGNppPdfHa2raRGLuaRF%2B0jBjjDHO1uxIrarB%2BIf8AyBYv%2Bvpf/QWq6fxoT2OX8nRf%2Bghdf%2BAa/wDxyjydF/6CF1/4Br/8cqrRXZbzIOY%2BNH7O/wCz1%2B0R4ZPhD42eA7PxHY4PlLqGlIZICeC0UokEkLf7SMp96%2BXPip/wTF%2BJHhrwfP4N/Zz%2BPkHifwjndD8LPjZoo1XS4uOFtrxWNzZhei%2BX8wznfnmvsqivMxuT5fj25VY%2B9a3Mvdlbs2t15SUl5HJLBUljYY2jKVKvBpxq0pSp1YtbNTg4y06XbXkflfH4i/bl/YDsf%2BJB4M8eeB9DtJ3K6Bqlu3jDwUQApJju4W%2B2aZHjB2ASuc/Mw5r2j4A/8F0vgB4nhi0v9ozwvqHha62gya74aUaxpZTOPNcIVubbd1CPESB1PFfeU3/IFt/%2Bvqb/ANBirxz4xfsJ/sgfHx5rr4p/s%2BeG9Qu7jJm1O3svsl45Pc3FuUlP4tXgxyHO8t/5FuL93%2BSorx9Fbb5Jeh9nPjXOswXLn%2BHo5j/09mnhsX6vE4aPJWfnicLUbespvVvufhT8bfgD8ctFHiH4P/F7TfElptBeTSJYZmiz2kRZd0Z/2WAPtXVeTov/AEELr/wDX/45XwT42/4IM/AdNc/4S/4BfHLxz4C1dHL2txDeLdpbt2KH93MPxmNXtC%2BA/wDwWc/Z5Tyvh7%2B054I%2BKulWyYh03x1azRXcuP8ApqF3kn/bucfrXbSzTO8PpjcHL/FSlGa/8BfLNfifP43GZK/eoU8RT/uzjTqpelShOLa85UIu2%2Buh90eTov8A0ELr/wAA1/8AjlWb6LSDbWe%2B%2BuQBbHaRaqcjzX6/Pxzmviof8FBf2z/hQYLT9pb/AIJn%2BMljSIte618OtSj1qLA6uIYgwiHs82R3rQ8O/wDBcH9gbxEbbS/FPizxJ4RvLeMxXFp4l8LXAeJ/Mc7W%2BzCYL1HU8V0LiLJlJRqVvZvtUUqb/wDJ4pfc2eRLNMDTpupUk4xW7lCpGK6aylTUV85I%2BvPJ0X/oIXX/AIBr/wDHKPJ0X/oIXX/gGv8A8crxTwf/AMFBf2IfHYQeHv2qPBG%2BT7kN/r8NnI3sEuCjE%2B2M16d4c8beDPGMH2nwj4u0vVYyMiTTb%2BOdceuUY16lHF4TE/wasZekov8AJs2oY7BYpfuasZ/4ZRf5SZu%2BTov/AEELr/wDX/45R5Oi/wDQQuv/AADX/wCOVVorot5nSaeqxaQblfMvrkH7NDwLVTx5S4/j9KreTov/AEELr/wDX/45RrH/AB9p/wBesH/opKq0ktALXk6L/wBBC6/8A1/%2BOUeTov8A0ELr/wAA1/8AjlVaKdvMC15Oi/8AQQuv/ANf/jlWdYi0g6vdGW%2BuQ32l9wW1UgHce%2B8ZrMq1rn/IavP%2BvqT/ANCNK2oB5Oi/9BC6/wDANf8A45R5Oi/9BC6/8A1/%2BOVVop28wLXk6L/0ELr/AMA1/wDjlWdHi0gavamK%2BuS32lNoa1UAncOp3nFZlWtD/wCQ1Z/9fUf/AKEKTWjAPJ0X/oIXX/gGv/xyjydF/wCghdf%2BAa//AByqtFO3mBa8nRf%2Bghdf%2BAa//HKPJ0X/AKCF1/4Br/8AHKq0UW8wNPSotIFy3l31yT9mm4a1UceU2f4/Sq3k6L/0ELr/AMA1/wDjlGj/APH2/wD16z/%2BinqrStqBa8nRf%2Bghdf8AgGv/AMco8nRf%2Bghdf%2BAa/wDxyqtFO3mBa8nRf%2Bghdf8AgGv/AMcqzYxaQLa82X1yQbYbibVRgeanT5%2BecVmVa0//AI9L7/r1H/o2Ok1oAeTov/QQuv8AwDX/AOOUeTov/QQuv/ANf/jlVaKdvMC15Oi/9BC6/wDANf8A45XR%2BAEsk%2B1/Y7iWT/V7vNhCY%2B90wxzXJV1Hw2/5ff8Atn/7NWdVe4xrc6iiiiuQsKKKq67rek%2BGdEvPEmvX8drY6fayXN7cynCwxRqWdz7BQSfpQBaorxnw1%2B2/8NNW%2BHni/wCI/irwV4r8LW/gvwVB4v1Ow1%2BwtzdTaHPDcywXsSW08wIkFncqInKTK0JDxplc5t3%2B3x4Rs7i48NTfA/x3/wAJVZ6rcWV74OH9kfbIBDp0OoyTmf8AtD7E0YtriFsLcNIS%2BNnytgA94r8f/GFzJ8a/%2BC5U16P31n/wtX7PF3WA%2BHdCG/6Zmnz9a/WvwJ400D4keB9G%2BInhW4kl0vXtKt9R02WWFo3e3niWWNmRgCpKsCVIyOhr8yv2cfgp4m8G/wDBYHxhY%2BLNGa0lhXxp40jWR1YhdU142ts3yk48yzhikA67XGcHivm%2BIKM8RiMFTS911Y3%2BWq/Jn1PA9Co%2BKfr1vdwuFx9ZvtJYSVCn8%2BfFaea0PvqiiivtD5IKKKKALWuf8hq8/wCvqT/0I1Vq1rn/ACGrz/r6k/8AQjVWktkAUUUUwLWh/wDIas/%2BvqP/ANCFVataH/yGrP8A6%2Bo//QhVWl1AKKKKYBVrR/8Aj7f/AK9Z/wD0U9VataP/AMfb/wDXrP8A%2BinpPYCrRRRTAKKKKALWn/8AHpff9eo/9Gx1Vq1p/wDx6X3/AF6j/wBGx1VpLdgFFFFMAq1D/wAgW4/6%2Bof/AEGWqtWof%2BQLcf8AX1D/AOgy0mBVooopgFFFFAFqb/kC2/8A19Tf%2BgxVVq1N/wAgW3/6%2Bpv/AEGKqtJAFFFFMAq1qH/HpY/9ep/9GyVVq1qH/HpY/wDXqf8A0bJSe6Aq0UUUwCu88Gf8i1bf8D/9DauDrvPBn/ItW3/A/wD0Nqxr/AOO5qUUUVylhRRRQAUUUUAFFFFABRRRQAUUUUAFFFFABRRRQAUUUUAFFFFABRRRQAVg/EP/AJAsX/X0v/oLVvVg/EP/AJAsX/X0v/oLVdP40J7HG0UUV2kBRRRQBam/5Atv/wBfU3/oMVVatTf8gW3/AOvqb/0GKqtJAFFFFMArE%2BKfwY%2BEPxc0ix0/4qfC3w94jh%2Bxsoj1zRoLraPNk6eYp2/UVt1a1D/j0sf%2BvU/%2BjZKzqU6dWPLNJp9Gk19zTRvhsVicHWVbD1JQmtpRlKLXo4uLXyZ8kfEz/gi1/wAE/viN5k9l8Lb3wzcy5LXHhnWpoQD6iKUyQr%2BCCvDPG3/Bvb4Ziuk1D4TftF3NuLZt0Fl4i8OpIX9A1xaSQOPqFNfpBRXg4rhPhzFu88NFPvH3X/5K1%2BR7ceKMznpjIUcSu2Iw2GxH41aDn8/a3XRp6n5fTf8ABM//AIKL/CmQt4P8ZXGpWsf%2Boj%2BHXxl1TRbkgev29JYgfpkU3f8A8FDPhfx4uuP2q9GEf3300aV42RPclPJ3j1NfqHRXF/qdhKX%2B716kP%2B3uZfnF/iaLMeCcSrY3h3C%2BuHqYvCS%2B6jip01/4K/yPzF/4bo%2BNHhm/jsfF3/BUXVdDuGjjWKx%2BJn7Nf2BwQgwjPaiQcAY3E84zXfeEP2xf2rfEOxfBH/BQn9lTXpG/1cHiJrrTZZP%2B2YdW/IV%2BgXiOys9Qb7Hf2kU8MlpAHimjDKw8pOCDwa8z8X/sffso%2BPtz%2BMv2bPAuoSP1nuPCtoZfwkEe4fgaSyHN6S/d4pv1lVj%2BUqi/Af8AZ3hJit6OZYV/9OsbTrxXosRRjK3rNvzPFNA%2BKH/BWHVbb7Zo3hr9nHxRCBky%2BG/EuphW%2BhckVof8Lr/4Kr6Z/wAfv7EvgPU8df7O%2BJCQ5%2BnmpWhr/wDwSO/4J967cfb4PgFHpV0DmO60PXr%2BzaM%2BoEU4X/x2s/8A4dY%2BAdF%2Bb4a/tVfHTwlt/wBXFonxIl8oexSWN8j2zT%2Bp8Q0vtTf%2BGtF/%2BnKC/MX%2BqHh1iP8Ad%2BI8bR8q2FjNL50akr%2BvKvQP%2BGpf%2BCk9hxqP/BLiO5UdZLH40aV/6C0easar%2B2n%2B3BDqlzJrf/BLLxVA5nculp8QdNuNp3HIyqjNV/8Ahh79rnw9/wAk8/4Ke%2BPLbb/q/wDhJPDFhq%2BPr5u3dVjVfgr/AMFXfDGqXMemfts%2BAfE7pcODJ4h%2BHC2Xmnccki0Y7c%2B1K%2BcwfvfWPksNP8uV/gP/AIhzltX/AHTi6i/KpTq0n/5Ng5R/8mK//DeX7TFt/wAhL/gmV8Tlx1%2By6hZzfyYUf8PDfi9Af9P/AOCbXxtX1%2Bz6Pby/ykFL9v8A%2BCxnh7/j50D9n3xFEvT7HdaxaTN9fM%2BQH6Uf8L8/4Kk6D/yFv2AvCmvbev8AYfxTtrXd9PtCHH40/rWNj8VavH1w8X/6TzC/4hTxHU/3bP8ABVfTE4Rf%2BnYUPxE/4eSeL4f%2BP3/gnR%2B0OuOvkeBo5P5T1Y0v/gp%2B1lqltNe/8E9f2nF2ToxEfwq35ww4GLjk1B/w2z%2B2RpH/ACOH/BL7xnBj7/8AYvjLT9R/LYFzU%2Blf8FK/E%2BianbTeLf8AgnZ%2B0PB5dwjOdL8CJegYYd0mGaTzCaXvY2S/xYa3/tof8Qg8TJfwMRTqf4KmXz/LGRK5/wCCpPhaL/j8/Ys/aKt/Xz/hY4x%2BUxo/4er/AArj/wCPz9mj4523r5/wynGPyc0v/D134JWP/I0/A34yaHj739rfDa5Tb9djNQP%2BCxP7BdoQPEnxK1vRj3GqeCdUTH1227U/7Vgt8zgv8VOMfzcQ/wCIN%2BMz/h4StP8AwYanU/8ATVap%2BAn/AA9n/Z8i/wCP/wCFXxZtfX7R8OboY/LNH/D3j9kaL/kIWnjy09ftPgC/GPyjNa2mf8FaP%2BCd%2BrY%2By/tNaWmen2nS76H/ANGQLXQad/wUe/YR1XH2b9qzwWuen2nWEh/9Gba2hmE5/BmVF/8AbsP/AJajgr%2BGHi/hP4uCxC9cDW/RM5HTf%2BCyP7A9lcM%2BrfEnXbIGCVf9J8D6oMFo2A%2B7bnuajg/4LJf8E35m2N%2B0YImHVZvCerKR%2BdpivWPDX7bf7GmpXTGy/ay%2BGzk20wC/8JxYBsmJgBgy561et/2hP2b9eULa/HDwReg9BH4ms5P5SGt4V8wk/cxlF/8Abq/SueRW4T8RcN/Foyj/AIsHiI/nY8mg/wCCun/BOm5GY/2mdPH/AF00bUE/9CtxVqP/AIKu/wDBPOUZX9p7RR/vWd2P5w161DrfwN17m31fwne7v7lxbSZ/ImrkPgT4WamPNt/Bvh%2B4H95NOgf%2BS10xWdy%2BGtSf/bkv0qM8urgeLKH8SVOPrRqx/OaPG/8Ah6x/wT2xn/hqDQ//AAGuv/jVOg/4K1/8E67W2u0m/af0jMluFQLp162T5iHHEB7A17L/AMKu%2BGYOR8OtCz6/2RD/APE1f0v4e%2BAYbW9MPgfR0ItRjbpkQx%2B9j/2abp59b%2BLS/wDAJ/8AyZj7LiP/AJ%2B0f/BdT/5YfPE//BYD/gnHbf6z9pa0P/XPw9qb/wDoNsaqP/wWW/4Jx7ilt%2B0FLcMP4YPB%2Brn/ANtK%2BlLfw9oFp/x66HZx46eXbIP5CraIka7UUKB0AGKfsc%2Bf/L%2Bn/wCC5f8Ay0PYcRP/AJf0l/3Cn/8ALT5f/wCHxP7CEvFh8QNfuvT7P4H1M5/OAV7z%2BxL%2B198G/wBq3/hJj8I5daddB%2Bxfb21fQLixB8/z9mzzlXf/AKl846cZ6iuorqPht/y%2B/wDbP/2aqjRzWMr1q0ZR6pU3F/fzu33G%2BFoZxCupV68JR6pU3Fv5upK2vkdRRRRWp64Vi/EnwTYfEz4da/8ADjVLmSG18QaLdabczRD5o454WiZh7gOSK2qKAPl2x/ZV/af8R%2BEfG9p4z8R%2BE9F17xP8HrHwHp2qeG9avJVs/sUWoFNRw1tE4aea/bdCrAwJApSaVnJXirn/AIJw%2BNZrST/ixPwak8MSa/d3sHwNl1O4HhaxeXSrayW/ikXTR/pSyQzPtW0RcXchDiXMjfa9FAHN/Bzwbr/w6%2BEXhX4feK/F0/iDVNC8N2Onalr10CJdSuILdIpLl8kndIylzknlupr5K%2BCt9J4r/wCCp/7SPjmNYpIfD%2Bl%2BF/DtjLJAjg5smuJ1G4HGJMA19s18R/sE6be3vxD/AGi/iDq0eLjVf2hfEFlE3962sWjt4vyIcfhXnYmLqZlhIdOaUv8AwGm7fjI%2B94VnHC8KZ/ir6uhQor/uNi6d7f8AbtBp%2BTPpb%2B2Lv/nja/8AgDF/8TR/bF3/AM8bX/wBi/8Aiaq0V9BZH58Wv7Yu/wDnja/%2BAMX/AMTR/bF3/wA8bX/wBi/%2BJqrRRZAaesardR6vdRrFbELcuBus4ifvHqSuTVb%2B2Lv/AJ42v/gDF/8AE0a5/wAhq8/6%2BpP/AEI1VpJKyAtf2xd/88bX/wAAYv8A4mj%2B2Lv/AJ42v/gDF/8AE1Vop2QGno%2Bq3Umr2sbRWwDXKA7bOIH7w7hciq39sXf/ADxtf/AGL/4mjQ/%2BQ1Z/9fUf/oQqrSsrgWv7Yu/%2BeNr/AOAMX/xNH9sXf/PG1/8AAGL/AOJqrRTsgLX9sXf/ADxtf/AGL/4mrOlardSXLK0Vt/x7THiziHSJj2WsyrWj/wDH2/8A16z/APop6TSsAf2xd/8APG1/8AYv/iaP7Yu/%2BeNr/wCAMX/xNVaKdkBa/ti7/wCeNr/4Axf/ABNH9sXf/PG1/wDAGL/4mqtFFkBp2Oq3TW14xitvltgRiziH/LVBz8vPXvVb%2B2Lv/nja/wDgDF/8TRp//Hpff9eo/wDRsdVaSSuwLX9sXf8Azxtf/AGL/wCJo/ti7/542v8A4Axf/E1Vop2QFr%2B2Lv8A542v/gDF/wDE1Zi1W6OkTyeVbZFzEB/ocWOVk7bcdv8AOazKtQ/8gW4/6%2Bof/QZaTSAP7Yu/%2BeNr/wCAMX/xNH9sXf8Azxtf/AGL/wCJqrRTsgLX9sXf/PG1/wDAGL/4mj%2B2Lv8A542v/gDF/wDE1VoosgNOXVboaRBJ5Vtk3MoP%2BhxY4WPttx3/AM4qt/bF3/zxtf8AwBi/%2BJom/wCQLb/9fU3/AKDFVWkkgLX9sXf/ADxtf/AGL/4mj%2B2Lv/nja/8AgDF/8TVWinZAWv7Yu/8Anja/%2BAMX/wATVm%2B1W6W2s2EVt81sSc2cR/5auOPl46dqzKtah/x6WP8A16n/ANGyUmldAH9sXf8Azxtf/AGL/wCJo/ti7/542v8A4Axf/E1Vop2QFr%2B2Lv8A542v/gDF/wDE12vhKZ7jw/bzSBATvyEQKPvt2AAFcBXeeDP%2BRatv%2BB/%2BhtWNZJRKjualFFFcxQUUUUAFFFFABRRRQAUUUUAFFFFABRRRQAUUUUAFFFFABRRRQBzXxmHjM/B/xWPhyZP%2BEh/4Rq%2B/sHyvv/bfs7%2BRt9/M24r4b8G6z4Bs/gj8YtF/ZA1G2g0%2B%2B/Zw0fyrTwxNsubjxMltrDaj5aRnzH1dbU2ZuODcBja%2BZ82K/QmigD55/Yc/4VX/AMJt8UT%2BzYmij4Yf2zpf/COf8IuIxpRvv7Ni%2B2/ZPK/dbf8Aj28zy%2BPOEu7955le2eO1tW0iMXc0iL9pGDHGGOdrdiRW1VDxFon9vWS2f2rytsofds3ZwCMdR61UGlJNiexxHk6L/wBBC6/8A1/%2BOUeTov8A0ELr/wAA1/8Ajlb3/Ctv%2Bo1/5Lf/AGVH/Ctv%2Bo1/5Lf/AGVdPtIdybMwfJ0X/oIXX/gGv/xyjydF/wCghdf%2BAa//AByt7/hW3/Ua/wDJb/7Kj/hW3/Ua/wDJb/7Kj2kO4WZlSxaR/ZEAN9c7ftMuD9lXJO2PPG/6VW8nRf8AoIXX/gGv/wAcro38Ab7KOz/tb/Vyu%2B7yOu4KMfe/2f1qL/hW3/Ua/wDJb/7KkqkO4WZg%2BTov/QQuv/ANf/jlHk6L/wBBC6/8A1/%2BOVvf8K2/6jX/AJLf/ZUf8K2/6jX/AJLf/ZU/aQ7hZmD5Oi/9BC6/8A1/%2BOVZvotINtZ7765AFsdpFqpyPNfr8/HOa1f%2BFbf9Rr/yW/8AsqluPAHnxQRf2tjyYimfI6/OzZ%2B9x97H4UnUhfcLM5zydF/6CF1/4Br/APHKPJ0X/oIXX/gGv/xyt7/hW3/Ua/8AJb/7Kj/hW3/Ua/8AJb/7Kn7SHcLMwfJ0X/oIXX/gGv8A8co8nRf%2Bghdf%2BAa//HK3v%2BFbf9Rr/wAlv/sqP%2BFbf9Rr/wAlv/sqPaQ7hZmVqsWkG5XzL65B%2BzQ8C1U8eUuP4/Sq3k6L/wBBC6/8A1/%2BOV0d54A%2B1yiX%2B1tuIkTHkZ%2B6gXP3vbNRf8K2/wCo1/5Lf/ZUlUhbcLMwfJ0X/oIXX/gGv/xyjydF/wCghdf%2BAa//AByt7/hW3/Ua/wDJb/7Kj/hW3/Ua/wDJb/7Kn7SHcLMwfJ0X/oIXX/gGv/xyrOsRaQdXujLfXIb7S%2B4LaqQDuPfeM1q/8K2/6jX/AJLf/ZVLfeAPtt7Nef2tt82Vn2%2BRnGTnH3qXtIX3CzOc8nRf%2Bghdf%2BAa/wDxyjydF/6CF1/4Br/8cre/4Vt/1Gv/ACW/%2Byo/4Vt/1Gv/ACW/%2Byp%2B0h3CzMHydF/6CF1/4Br/APHKs6PFpA1e1MV9clvtKbQ1qoBO4dTvOK1f%2BFbf9Rr/AMlv/sqlsfAH2K9hvP7W3eVKr7fIxnBzj71J1IW3CzOc8nRf%2Bghdf%2BAa/wDxygwaIw2tf3RB6g2a/wDxyt7/AIVt/wBRr/yW/wDsqP8AhW3/AFGv/Jb/AOyp%2B0h3CzOM1P4ffC3Ws/2x4ctLvPX7ToUEmf8AvpjXP6j%2BzP8Ast6xn%2B1vgn4Uus9ftPgqxfP/AH1mvU/%2BFbf9Rr/yW/8AsqP%2BFbf9Rr/yW/8AsqynDCVPiin6pP8AOLO%2BhmmbYX%2BBiKkP8NScf/SZxPFx%2Bwt%2BwvrFw4vv2WPh/KxglJY/D7T0PEbHOVXOR1HuO3Wudv8A/gmz/wAE9tRz9o/Zk8LLn/nh4dji/wDQJBX0fZ%2BAPskpl/tbdmJ0x5GPvIVz973zUX/Ctv8AqNf%2BS3/2Vcssvymb96jB/wDbkf8A5A9ijxrxph/4WZ4mPpiK/wD8uZ8uX3/BJ/8A4Jt6hn7R%2Bzjp65/54faYv/QLoVlXX/BG7/gmRdP5n/Cgp4n7NBr2px4/75vgK%2BuP%2BFbf9Rr/AMlv/sqP%2BFbf9Rr/AMlv/sqxlk2QS3w1P/wCP/yJ6dLxP8TKP8POsWv%2B5mt/8sZ8g/8ADnT/AIJ9Q8aX4S8VWPp9k8WaiMfndmp7X/gkJ%2Bx6sFy%2BmeLvidZiOEN/ovji8XHzqO8xz16fj2r63/4Vt/1Gv/Jb/wCyqW38AeRFPF/a2fOiCZ8jp86tn73P3cfjUPI8g6YeC9I2/Kxv/wARW8TX8WcYh/4qjl/6VGR8e/8ADp39neL/AJB/7QPxutPT7N49nGPzc0n/AA6t%2BFcX/Hj%2B2T%2B0Va%2Bn2f4iMMfmDX19/wAK2/6jX/kt/wDZUf8ACtv%2Bo1/5Lf8A2VP%2BxMj/AOfS%2B%2BS/KaD/AIip4ivfMZv1jRl/6Vh5HyD/AMOvfDMXNl/wUH/ait/QRfEoY/WOvc/2L/2ZV/Zz/wCElCftH/E/4gjWPseP%2BFka%2Bt8bDyvP/wCPchRs3%2Bb8/r5aelel/wDCtv8AqNf%2BS3/2Vanhvw3/AMI953%2Bm%2Bd523/lntxjPufWrp5XleGmqlGFpLb3p/k5tfgefmnH3GGd4GeDx2K56U7XXs8Or2aa96GGpzWqW012d1dPUooorpPkQooooAKKKKACvGfC3we8KfBa71/Q/CUl1JHrXirU/EF9JeSKztd6hdSXcwBVVARXlKIMZCIoJY5Y%2BzVg614J/tfU5dR/tPy/M2/J5OcYUDruHpVU40/aqclqr2fa9r/fY3jisTTw1TDwm1Cbi5LpLkbcb/wCFybXm2cbRXUf8K2/6jX/kt/8AZUf8K2/6jX/kt/8AZV1e1p9zlszl6K6j/hW3/Ua/8lv/ALKj/hW3/Ua/8lv/ALKj2tPuFmYOuf8AIavP%2BvqT/wBCNVa62%2B8Afbb2a8/tbb5srPt8jOMnOPvVF/wrb/qNf%2BS3/wBlSVWFtwszl6K6j/hW3/Ua/wDJb/7Kj/hW3/Ua/wDJb/7Kn7Wn3CzMHQ/%2BQ1Z/9fUf/oQqrXW2PgD7Few3n9rbvKlV9vkYzg5x96ov%2BFbf9Rr/AMlv/sqXtYX3CzOXorqP%2BFbf9Rr/AMlv/sqP%2BFbf9Rr/AMlv/sqftafcLM5erWj/APH2/wD16z/%2Binre/wCFbf8AUa/8lv8A7KpbPwB9klMv9rbsxOmPIx95Cufve%2BaTqwtuFmclRXUf8K2/6jX/AJLf/ZUf8K2/6jX/AJLf/ZU/a0%2B4WZy9FdR/wrb/AKjX/kt/9lR/wrb/AKjX/kt/9lR7Wn3CzMHT/wDj0vv%2BvUf%2BjY6q11tv4A8iKeL%2B1s%2BdEEz5HT51bP3ufu4/Gov%2BFbf9Rr/yW/8AsqSqwvuFmcvRXUf8K2/6jX/kt/8AZUf8K2/6jX/kt/8AZU/a0%2B4WZy9Wof8AkC3H/X1D/wCgy1vf8K2/6jX/AJLf/ZVKngDZZSWf9rf6yVH3eR02hhj73%2B1%2BlJ1YdwszkqK6j/hW3/Ua/wDJb/7Kj/hW3/Ua/wDJb/7Kn7Wn3CzOXorqP%2BFbf9Rr/wAlv/sqP%2BFbf9Rr/wAlv/sqPa0%2B4WZgzf8AIFt/%2Bvqb/wBBiqrXWv4A32Udn/a3%2Brld93kddwUY%2B9/s/rUX/Ctv%2Bo1/5Lf/AGVJVYdwszl6K6j/AIVt/wBRr/yW/wDsqP8AhW3/AFGv/Jb/AOyp%2B1p9wszl6tah/wAelj/16n/0bJW9/wAK2/6jX/kt/wDZVLceAPPigi/tbHkxFM%2BR1%2Bdmz97j72PwpOrC%2B4WZyVFdR/wrb/qNf%2BS3/wBlR/wrb/qNf%2BS3/wBlT9rT7hZnL13ngz/kWrb/AIH/AOhtWX/wrb/qNf8Akt/9lW9oum/2RpkWned5nl7vn24zliemT61nVnGUbIaTTLVFFFc5QUUUUAFFFFABRRRQAUUUUAFFFFABRRRQAUUUUAFFFFABRRRQAUUUUAFfPfxY/aj%2BKng74s67H4bsfDx8H%2BC/E/hPQfEdpfWE76jfz61d28DTW86zrHbpbpeW0m1oZTMVlTMfytX0JXlvjv8AZM8B%2BP8A4pj4nal4p8QWsVxfaPfa34asri3XTtYu9KuPtGn3FwHhaYPDKI2/dSxrJ5ESyCRUAoA9SooooAKKKKAPn/4c/tK/EPXf2qvEXwj%2BIHirRdE0q28WXOk%2BE9Gn%2BHGqxT62kWmQXm6LWZLr7FJMC1w5gSIyeVbOcAKzj6Arze6/Zr0rVPjBp/xY8Q/FLxfqlvo2uS6zoXhPUL%2B3k0zTdQkspLJp4v3AuceTPcBYXnaFGnZljBCFfSKACiiigDif2kPGXxG%2BHnwI8V%2BO/hPp%2Bi3Ov6Nos97Yx%2BIZJRZr5Sl3eQQ/PJtQMwjBTzGATzIwxkXxXw5%2B2T8ZNc1yDxdJpfhiPwlpnjTwr4Q8RacNOuDqFxqGs6bpl0Lu3uPtHlxQxyazZJ5LxSMyxzHzV%2BUV718Y/hq3xh%2BGmr/DNvHOs%2BHYdasntLvU9AS0N0sEilZEX7XBPENykqSYyQDlSpwR5l4E/YM8C%2BCdZ0nU7r4ueNtbt9O1Gw1O90rVZtOW11fUrG3W2sr65W2somMsMEVrGoiaONvsVu0iO6F2APc6KKKACvLP2xPix8Vfgl8GZPiN8J9J0C6ubLWLFNUPiFpzHFZS3CRSGKOEqZZSXVVDOiruLkvsEUnqdcD%2B0d8BYP2j/hzJ8MtR%2BJ/iTwvY3F1DNeT%2BGEsDNcCKRZEjY3trcKqh0RvkVWJUDdgkEA89%2BBn7SvxD8b/H/wAQfDb4meKdF0iKDxJren%2BGvDb/AA41WzuNRtrObak0WrT3RtLt/KxK8UMW4K27CqpNfQFeV%2BEf2WbbQviFpHxE8X/HHx34xm8P3F3d6HYeKLyxe3sr25haGe6T7PaQyFmSSdVjZzDEs7pFHGgRU9UoAKKKKAPGP2zPi98cfgd4Em%2BJHwtbwg1npunTONJ16zurm/8AEeqs8SWOjWSQyxLDLcuzxidjMVdo/wBwy7iMP9lH9qP4qfGDXPCEnxIsfDy6b8TvhcvjzwdFolhPBPpdn5tqDZ3byzyrcyiLUbM%2BdGsKllmHl42mu2%2BMv7NKfF/4k%2BGfilB8afF3hnUfCVreRaPDoUGkz26SXIRZLkx6hY3IFwI0MSyrtZY5ZkGBK%2B6L4GfsmeA/gJria14e8VeINVTT9AXQfDFjrdxbvD4e0hZfNFhaCGCNvKyIl3TNLJtt4V34QCgD1KiiigAr5y/bo/aK/aV/Zv0pvGXwr03wZq0E/wBls/Dvg66029u9Z8QXbtI15JGYZ4lgitLZftTKEmMqQTKWgJRq%2Bja8k%2BIv7JcHxA%2BMl38aYPj5480G%2BvPDcegvY6FJpaxQWIkeSVLeWaxkurR5mcGSSCaORjDCQwMMZUAX9kj41eIPjH4UvpvGvj3SdU12wNqdS0uw%2BH%2Bp%2BG59M86BZFWW21K4mmkVvmKTrtjcKdu7aTXrVcH8HvgNYfCbWtc8Xah8RPEfi7xB4hjs4dT8QeKHtPtD29qsi29uq2dvbwqiGad%2BI9zNM5ZmyMd5QAUUUUAfKX7W/wC2J%2B0T%2Bzb8YfDngax0/wAIXlr488U2OgeF7a78OamiWBvpo7O2vJ9SaZLa8lW7fdJpdui3At90wkCRs59n/Zz%2BJ/jX4gWXizwx8SRpcniDwR4xn0HVL7RLOS2tL3FtbXkM8cMsszw5t7yEMhlkw6vhiMVyfxX/AGC/h58ZvEf9seNPip46extfE3/CTaBoMWq232XQ9eEJii1O1Z7Zp1kiLPIkUkslssjlvJ6Y9F%2BDnwf0X4NeHr7SNO8QaprN7q%2BsXGq65rutvCbvUrybaGlk8iKKJcIkcarHGiqkSKF4oA62iiigAr43%2BOH7Z37W/wAKP2gNO%2BCEdp4Vl/tW6ae8vbH4V%2BINROi2XmDyvIjjuY5NfJjkiEs9mscdrLtjlXdPGB9kV4bJ%2BwzpSeLrHxzpn7SXxQs9S0GO%2Bg8IzxavYSf2Fa3lxHPdWsYmsnF3FIYYF2332oosMfllGUNQB6Z8GvG9p8SPhdovjey8Zab4gTULISNrGkaZLZW9w4JV9tvNJLJbkMGVopHZ0ZWVsEEDpq5r4Q/Cvw38Ffh5YfDfwrcXk9rYtPLJeajMJLi7uJ5nuLi4lZVVTJLNLJI21VXc52qowB0tABRRRQAUUUUAFFFFABRRRQBifErxvY/DP4c6/wDEjU7WSe28P6Jd6lcQxHDSJBC0rKPchCBXmP7M3xs%2BMXjLxtqHw1%2BN8fhuTVE8C6B4rsrrwvp9xbQxQ6k99E9k6zzzGR4JLI/vwUEqzL%2B6jKnPr%2BuaLpXiTRbzw7rtjHdWN/ayW15bSjKzROpV0PsVJB%2BtcD8Bf2ZvDHwEur3VbHxv4k8SajeaNpujJqfie5t5Z7fS7AT/AGOyQwQQgpGbm4be4eZ2mYySOcYAPSKKKKACuB/al%2BI3jj4Rfs6eM/id8NNHgv8AX9D8P3F5pFndafNdxyzouVDQwOkkoz/AjKx6Aiu%2BrK8c%2BFR448Iaj4S/4SPVdIOoWrQpquh3v2e8tGP3ZYZMEK6nBGQynGGVlJBAOS/Zu%2BKF38UvBuoXur/EHTNf1LS9aksNT/s/wRf%2BHZLCURRSC3nsNQnmuIpdkqSguVDxzRsq7SGb0KuM%2BDfwV0r4Ow69dJ4v1rxFq/ijWhqviHxB4ga2%2B1XtwttBaR5W1hhgjVILaCNVjiQYTccuzM3Z0AFFFFAHz7%2B17%2B1d8Tv2X/GUWuDwpoV/4Ktvhx4m8QXytNMdTurvSrF7zyYyMRQRbFVdxErOZTxEI8y9b8BPib8W9U%2BIvi74KfHGfw5ea/4Z03SNUXVPCumT2dpNa6gtyqxmGeedxJHNZXIL%2BZh0MZ2ociq/x8/Y/wDDv7RfjbTfFHjj4seLLfS7DSr3TJ/CWnx6X/Z1/aXsXk3sMxmspLkieH92xSZCq8xlG%2Bauh%2BCvwC0n4M3Osa1L498ReK9b137KmpeIfFU9s93JBbReVb2/%2BjQQxiOMNIw%2BTczzSMzMzE0Ad5RRRQAV8z/tJ/tSftJ/CX4jeNvCfhLwt4YmsdM8HaTq3hV10e/1W8cz6rDZXM1zBbyRNIqLJKy28PzYhDmU%2BYY4/pivHfHf7Idz44%2BMV98aIv2m/iTol9d6NHpkWn6DNpEFvaW8cwnjWNm09pzicCQiSV1k5jkDws0RAOn/AGdviVL8Uvh4devfHum%2BIL221K4s9Rn03wle6EbWeNsG3msL6aW4t5VBXKyMCQysFAYZ7uuQ%2BDfwb0b4M6NqllZeJdW1zUNd1ubV9e17XXgN3qN5IkcXmOLeKKFNsUMMSrHGihIl4zknr6ACiiigD5Q%2BIn7Vn7Vvg79qnwn%2By3Zy/Dm41Dx/fX8dtfWei391F4LjhjubyzXUD9riN/Le2NjfNGqC02S2r/6xMMfdP2avirrPxm%2BDmneOPE2nWtrqy3uoaZrEVhu%2Bzm9sL6exuHiDksImltpGQMSQrKCSRk%2Bfab%2BwLo2l311qtt%2B0h8RftknjC58VWN80WhfaLDWJ/MR7tJf7L3zEWs01ksdwZo1tZPKCfJEU9Z%2BEvwv8NfBn4d6Z8NPCT3UllpkTAXN9MJLi6ld2lmuJXAAaWWV3kcgAFnYgAcUAdHRRRQBHdNcpayPZQpJMIyYY5ZCis2OAWAJUE98HHoelfFvij9tz9rbwV8cX%2BD/ivWfAi6VpWji68V%2BO/DPwo1/XrDSNR8kyzaM0NpfCQyW8fkzPdsUUx3Ue6GEq2ftDUbSW/wBPnsYNQmtHmhaNLq22%2BZCSCA671Zdw6jcpGRyCOK8I8G/sHT%2BAfAFl8NvC37YHxatNNsLKe0iEMugo0sc%2BTcvNs0oC4nlc%2Ba1zKHuBJvZZUMs3mAHuHhvVrTX/AA7Ya7p%2BsWmowXtlFPBqFh/qLpHQMJY/mb5GBDL8zcEcnrV2szwT4O8O/DvwZpHw/wDCGni00nQtMt9P0u0VywhtoY1jjTLEk4RVGSc8Vp0AFZXjc%2BNh4R1EfDddKOvG1YaSdbaQWizkYVphEN7IDyVXBbGNy53DVrE%2BJHgTT/ib4G1PwHqer6np8WpWxi/tDRr0293avkMksMgztdWCsMgqSMMGBIIB8eeGv%2BCiX7RGt3PxVnisfCEunfA/T7PWfFc174O1PS77X9OuHnPlxWFzeefotxHHY3uBdCczA2sqxrHMDX29Xz3/AMO5vhlc%2BJfEHjDW/i5471HU/G9xat8SLm5u9OQeL4LYQrbWt4kVkiRwxRw%2BUotVt2ZJZQ7OZGJ%2BhKACiiigDlvjNqnxF0X4fXur/DC40uDUbXbNNdato15qSQWqHfO0dlZFZ7yby1YRwRujO5UA5%2BVvmL9lT9vL4z/Gb4ippnxa1/wv4Y0Z/EK6RpCL8MdZA12TEqj/AImL3pttMuZHjI%2BwXCvPDIHt33So1fUHxW%2BGkXxT8NQ6EvjTXfDt1aajBfafrXhy6jiurWeJtykCaOSGVSNytHLHIjKxBXOCPNPB/wCwj4L8I3lhG/xm8f6rpFr4r/4Sm98OavqdnLZajrpupLxtQk22qyxMbt/tBgt5IbbzEUiEfMGAPcaKKKACiiigAooooAKKKKACiiigAooooAKKKKACiiigAooooAKKKKACiiigAooooAKKKKACiiigAooooAKKKKACiiigAooooAKKKKACiiigAooooAKKKKACiiigAooooAKKKKACiiigAooooAKKKKACiiigAooooAKKKKACiiigAooooAKKKKACiiigAooooAKKKKACiiigAooooAKKKKACiiigAooooAKKKKACiiigAooooAKKKKACiiigAooooAKKKKACiiigAooooAKKKKACiiigAooooAKKKKACiiigAooooAKKKKACiiigAooooAKKKKAP/9k%3D\">"
            ]
          },
          "metadata": {
            "tags": []
          }
        }
      ]
    },
    {
      "metadata": {
        "id": "Om7b9o8o9AqP",
        "colab_type": "text"
      },
      "cell_type": "markdown",
      "source": [
        "# Submit the MLP with 2 hidden layers\n",
        "Run these cells after training the MLP with 2 hidden layers"
      ]
    },
    {
      "metadata": {
        "id": "oMfvThw-9AqQ",
        "colab_type": "code",
        "colab": {}
      },
      "cell_type": "code",
      "source": [
        "## GRADED PART, DO NOT CHANGE!\n",
        "# Validation loss for MLP\n",
        "grader.set_answer(\"i8bgs\", s.run(loss, {input_X: X_val_flat, input_y: y_val_oh}))\n",
        "# Validation accuracy for MLP\n",
        "grader.set_answer(\"rE763\", accuracy_score(y_val, s.run(classes, {input_X: X_val_flat})))"
      ],
      "execution_count": 0,
      "outputs": []
    },
    {
      "metadata": {
        "id": "5Zx1pN7u_HZN",
        "colab_type": "code",
        "colab": {}
      },
      "cell_type": "code",
      "source": [
        ""
      ],
      "execution_count": 0,
      "outputs": []
    },
    {
      "metadata": {
        "id": "YfUY765H9AqT",
        "colab_type": "code",
        "outputId": "bd3e805e-8e1d-4b00-cc1d-863eea183ceb",
        "colab": {
          "base_uri": "https://localhost:8080/",
          "height": 34
        }
      },
      "cell_type": "code",
      "source": [
        "# you can make submission with answers so far to check yourself at this stage\n",
        "grader.submit(COURSERA_EMAIL, COURSERA_TOKEN)"
      ],
      "execution_count": 0,
      "outputs": [
        {
          "output_type": "stream",
          "text": [
            "Submitted to Coursera platform. See results on assignment page!\n"
          ],
          "name": "stdout"
        }
      ]
    },
    {
      "metadata": {
        "id": "xFa58uTU9AqW",
        "colab_type": "code",
        "colab": {}
      },
      "cell_type": "code",
      "source": [
        ""
      ],
      "execution_count": 0,
      "outputs": []
    }
  ]
}